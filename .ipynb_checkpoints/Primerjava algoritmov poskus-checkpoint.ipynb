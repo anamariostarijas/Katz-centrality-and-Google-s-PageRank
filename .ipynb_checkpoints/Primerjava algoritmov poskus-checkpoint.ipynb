{
 "cells": [
  {
   "cell_type": "markdown",
   "metadata": {},
   "source": [
    "# Primerjava algoritmov"
   ]
  },
  {
   "cell_type": "code",
   "execution_count": 1,
   "metadata": {},
   "outputs": [],
   "source": [
    "#import libraries\n",
    "import networkx as nx \n",
    "import matplotlib.pyplot as plt\n",
    "import numpy as np\n",
    "from timeit import default_timer as timer\n",
    "import pandas as pd\n",
    "import itertools"
   ]
  },
  {
   "cell_type": "markdown",
   "metadata": {},
   "source": [
    "## Katzova središčnost"
   ]
  },
  {
   "cell_type": "code",
   "execution_count": 2,
   "metadata": {},
   "outputs": [],
   "source": [
    "def katz(G, max_num_of_steps, tolerance, alpha, beta, vector=None):\n",
    "    '''Computes the Katz centrality for the nodes of the graph G.'''\n",
    "    start = timer()\n",
    "    A = nx.adjacency_matrix(G)\n",
    "    diff = 1000\n",
    "    k = 0\n",
    "    ones = np.ones((A.shape[1], 1))\n",
    "    if vector is None:\n",
    "        vector = ones\n",
    "    r = beta * vector\n",
    "    while diff > tolerance and k < max_num_of_steps:\n",
    "        # inner product of matrix A and vector r\n",
    "        r, q = alpha*A.dot(r) + beta * ones, r\n",
    "        diff = np.linalg.norm(q-r, ord=1)\n",
    "        k += 1\n",
    "    r = r/np.linalg.norm(r,ord = 2)\n",
    "    print('process finished after {} iterations'.format(k))\n",
    "    end = timer()\n",
    "    # timing of the process\n",
    "    print('time consumption: {} seconds'.format(end-start))\n",
    "    return r"
   ]
  },
  {
   "cell_type": "markdown",
   "metadata": {},
   "source": [
    "## Googlov PageRank"
   ]
  },
  {
   "cell_type": "code",
   "execution_count": 3,
   "metadata": {},
   "outputs": [],
   "source": [
    "def Qmatrix(matrix):\n",
    "    '''for given adjecency matrix of a network returns column stohastic matrix Q,\n",
    "    some columns may still be zero'''\n",
    "    sums = np.sum(matrix, axis=0)       #array of sums of columns in matrix\n",
    "    return np.nan_to_num(matrix/sums)   #divide every column with it's sum, if sum is 0,  \n",
    "                                        #returns zero column instead of nan\n",
    "\n",
    "def dvector(matrix):\n",
    "    '''for given adjecency matrix returns transposed vector d, where d[j] = 1 ; if #(outlinks of j) = 0 \n",
    "    and d[j] = 0 ; otherwise'''\n",
    "    Q = Qmatrix(matrix)             #compute matrix Q\n",
    "    sums = np.sum(matrix, axis=0)   #array of sums of columns in matrix \n",
    "    d_bool = (sums == 0)            #booleninan array, True if the sum of a column is equal to 0, false otherwise\n",
    "    d = d_bool*1                    #convert False to 0 and True to 1\n",
    "    return d\n",
    "\n",
    "def evector(n):\n",
    "    '''returns vector v of ones in size of n''' # n = num of columns in matrix\n",
    "    return np.ones((n,1))    \n",
    "\n",
    "def Pmatrix(matrix):\n",
    "    '''returns column stohastic matrix P without zero columns'''\n",
    "    n = matrix.shape[1]\n",
    "    Q = Qmatrix(matrix)\n",
    "    e = evector(n)\n",
    "    d = dvector(matrix)\n",
    "    return Q + 1/n*e.dot(d)\n",
    "\n",
    "def Amatrix(matrix, alpha):\n",
    "    '''returns ireducible column stohastic matrix A of given matrix, \n",
    "    where 0 <= alpha <= 1'''\n",
    "    n = matrix.shape[1]\n",
    "    e = evector(n)\n",
    "    P = Pmatrix(matrix)\n",
    "    return alpha*P + (1-alpha)*1/n*e.dot(e.transpose())\n",
    "\n",
    "def pagerank2(matrix, max_num_of_steps, tolerance, alpha):\n",
    "    '''returns pagerank vector of adjacency matrix, 0<=alpha<=1'''\n",
    "    start = timer()\n",
    "    A = Amatrix(matrix, alpha)           #column stohastic matrix from given matrix\n",
    "    r = A[:,0]  #first guess for vector r is first column of Q\n",
    "    diff = 1000\n",
    "    k = 0\n",
    "    while diff > tolerance and k < max_num_of_steps:\n",
    "        r, q = A.dot(r), r              #inner product of matrix Q and vector r\n",
    "        #r = q/np.linalg.norm(q, ord=1)  #not necessary\n",
    "        diff = np.linalg.norm(q-r, ord=1)\n",
    "        k+=1\n",
    "    print('process finished after {} iterations'.format(k))\n",
    "    end = timer()\n",
    "    print('time consumption: {} seconds'.format(end-start))  #timing of the process\n",
    "    return r"
   ]
  },
  {
   "cell_type": "markdown",
   "metadata": {},
   "source": [
    "### Funkcija za primerjavo"
   ]
  },
  {
   "cell_type": "code",
   "execution_count": 4,
   "metadata": {},
   "outputs": [],
   "source": [
    "def rank(array):\n",
    "    '''Returns vector with ranked values of array,\n",
    "    where 0 is the minimum value of array'''\n",
    "    temp = array.argsort(axis=0)\n",
    "    ranks = temp.argsort(axis=0)\n",
    "    return ranks"
   ]
  },
  {
   "cell_type": "markdown",
   "metadata": {},
   "source": [
    "## Majhen graf T"
   ]
  },
  {
   "cell_type": "code",
   "execution_count": 47,
   "metadata": {},
   "outputs": [
    {
     "data": {
      "image/png": "[encoded data removed]",
      "text/plain": [
       "<Figure size 432x288 with 1 Axes>"
      ]
     },
     "metadata": {},
     "output_type": "display_data"
    },
    {
     "name": "stdout",
     "output_type": "stream",
     "text": [
      "[[0 1 1 ... 1 0 0]\n",
      " [1 0 1 ... 0 0 0]\n",
      " [1 1 0 ... 0 1 0]\n",
      " ...\n",
      " [1 0 0 ... 0 1 1]\n",
      " [0 0 1 ... 1 0 1]\n",
      " [0 0 0 ... 1 1 0]]\n"
     ]
    }
   ],
   "source": [
    "T = nx.DiGraph()   # or DiGraph, etc\n",
    "T.add_edges_from( ((1,2), (2,3), (2,4), (2,5), (5,2)) )\n",
    "nx.draw(T, with_labels=True)\n",
    "plt.show()\n",
    "M = nx.adjacency_matrix(T)\n",
    "print(R.todense())"
   ]
  },
  {
   "cell_type": "code",
   "execution_count": 48,
   "metadata": {},
   "outputs": [
    {
     "data": {
      "text/plain": [
       "1.0"
      ]
     },
     "execution_count": 48,
     "metadata": {},
     "output_type": "execute_result"
    }
   ],
   "source": [
    "np.amax(np.linalg.eigvals(M.todense()))"
   ]
  },
  {
   "cell_type": "code",
   "execution_count": 49,
   "metadata": {},
   "outputs": [
    {
     "name": "stdout",
     "output_type": "stream",
     "text": [
      "process finished after 29 iterations\n",
      "time consumption: 0.0024302929999748812 seconds\n"
     ]
    },
    {
     "data": {
      "text/plain": [
       "array([[0.55498202],\n",
       "       [0.61282006],\n",
       "       [0.06496725],\n",
       "       [0.06496725],\n",
       "       [0.55498202]])"
      ]
     },
     "execution_count": 49,
     "metadata": {},
     "output_type": "execute_result"
    }
   ],
   "source": [
    "katz_moj = katz(T, 10000,0.01,0.8, 1)\n",
    "katz_moj"
   ]
  },
  {
   "cell_type": "code",
   "execution_count": 50,
   "metadata": {},
   "outputs": [
    {
     "name": "stdout",
     "output_type": "stream",
     "text": [
      "process finished after 7 iterations\n",
      "time consumption: 0.0019251190000204588 seconds\n"
     ]
    },
    {
     "data": {
      "text/plain": [
       "matrix([[0.23543548],\n",
       "        [0.38884756],\n",
       "        [0.07014074],\n",
       "        [0.07014074],\n",
       "        [0.23543548]])"
      ]
     },
     "execution_count": 50,
     "metadata": {},
     "output_type": "execute_result"
    }
   ],
   "source": [
    "page_moj = pagerank2(M,10000,0.01,0.85)\n",
    "page_moj"
   ]
  },
  {
   "cell_type": "code",
   "execution_count": 51,
   "metadata": {},
   "outputs": [
    {
     "data": {
      "text/plain": [
       "matrix([[ True],\n",
       "        [ True],\n",
       "        [ True],\n",
       "        [ True],\n",
       "        [ True]])"
      ]
     },
     "execution_count": 51,
     "metadata": {},
     "output_type": "execute_result"
    }
   ],
   "source": [
    "rank(katz_moj) == rank(page_moj)"
   ]
  },
  {
   "cell_type": "code",
   "execution_count": 53,
   "metadata": {},
   "outputs": [
    {
     "data": {
      "text/plain": [
       "({1: 0.07295492477123595,\n",
       "  2: 0.5230088676277638,\n",
       "  3: 0.49028539421250955,\n",
       "  4: 0.49028539421250955,\n",
       "  5: 0.49028539421250955},\n",
       " {1: 0.09273801644444446,\n",
       "  2: 0.3348155042222223,\n",
       "  3: 0.19081549311111112,\n",
       "  4: 0.19081549311111112,\n",
       "  5: 0.19081549311111112})"
      ]
     },
     "execution_count": 53,
     "metadata": {},
     "output_type": "execute_result"
    }
   ],
   "source": [
    "katz_njihov = nx.katz_centrality(T, alpha = 0.8, beta = 1, tol = 0.01)\n",
    "page_njihov = nx.pagerank(T, alpha = 0.85, tol = 0.01)\n",
    "(katz_njihov, page_njihov)"
   ]
  },
  {
   "cell_type": "markdown",
   "metadata": {},
   "source": [
    "NE DOBIMO ISTIH VREDNOSTI?"
   ]
  },
  {
   "cell_type": "markdown",
   "metadata": {},
   "source": [
    "# NI PRAV????????????????????????? glej GOR"
   ]
  },
  {
   "cell_type": "markdown",
   "metadata": {},
   "source": [
    "## Garf KARATE"
   ]
  },
  {
   "cell_type": "code",
   "execution_count": 6,
   "metadata": {},
   "outputs": [
    {
     "data": {
      "image/png": "[encoded data removed]",
      "text/plain": [
       "<Figure size 432x288 with 1 Axes>"
      ]
     },
     "metadata": {},
     "output_type": "display_data"
    }
   ],
   "source": [
    "# pagerank on bigger network\n",
    "O = nx.karate_club_graph() \n",
    "nx.draw(O, with_labels=True)\n",
    "plt.show()\n",
    "R = nx.adjacency_matrix(O)\n",
    "#print(R.todense())"
   ]
  },
  {
   "cell_type": "code",
   "execution_count": 7,
   "metadata": {},
   "outputs": [
    {
     "data": {
      "text/plain": [
       "(6.725697727631749+0j)"
      ]
     },
     "execution_count": 7,
     "metadata": {},
     "output_type": "execute_result"
    }
   ],
   "source": [
    "np.amax(np.linalg.eigvals(R.todense()))"
   ]
  },
  {
   "cell_type": "code",
   "execution_count": 39,
   "metadata": {
    "scrolled": true
   },
   "outputs": [
    {
     "name": "stdout",
     "output_type": "stream",
     "text": [
      "process finished after 8 iterations\n",
      "time consumption: 0.002202737000061461 seconds\n",
      "[[0.23564803]\n",
      " [0.19642387]\n",
      " [0.20445982]\n",
      " [0.17963637]\n",
      " [0.15905265]\n",
      " [0.1644394 ]\n",
      " [0.1644394 ]\n",
      " [0.16823205]\n",
      " [0.1770341 ]\n",
      " [0.15496611]\n",
      " [0.15905265]\n",
      " [0.1474994 ]\n",
      " [0.15391493]\n",
      " [0.17681261]\n",
      " [0.15529365]\n",
      " [0.15529365]\n",
      " [0.15082913]\n",
      " [0.15451447]\n",
      " [0.15529365]\n",
      " [0.16309503]\n",
      " [0.15529365]\n",
      " [0.15451447]\n",
      " [0.15529365]\n",
      " [0.1728301 ]\n",
      " [0.15711106]\n",
      " [0.15732072]\n",
      " [0.15362662]\n",
      " [0.16674967]\n",
      " [0.16141978]\n",
      " [0.16695275]\n",
      " [0.1686313 ]\n",
      " [0.18070418]\n",
      " [0.21363075]\n",
      " [0.24025856]]\n",
      "{0: 0.23562512628831248, 1: 0.19640958557068555, 2: 0.2044376362240266, 3: 0.17962833251834395, 4: 0.15906442828103573, 5: 0.16445137374009722, 6: 0.16445137374009722, 7: 0.16822881161124426, 8: 0.17702201508015653, 9: 0.1549724457267842, 10: 0.15906442828103573, 11: 0.1475133252229714, 12: 0.1539244888224798, 13: 0.17680070384652294, 14: 0.1553000439010803, 15: 0.1553000439010803, 16: 0.15084892464458854, 17: 0.15452259736408344, 18: 0.1553000439010803, 19: 0.16309448959936212, 20: 0.1553000439010803, 21: 0.15452259736408344, 22: 0.1553000439010803, 23: 0.17283097148067605, 24: 0.1571262798560613, 25: 0.15733562067455256, 26: 0.15363753024800508, 27: 0.1667525789559979, 28: 0.16142243032826997, 29: 0.16695537282225062, 30: 0.16862725427488695, 31: 0.1806987511266865, 32: 0.2136122360327901, 33: 0.24023405134172407}\n"
     ]
    }
   ],
   "source": [
    "karate_katz_moj = katz(O, 10000,0.001, 1/28, 1)\n",
    "print(karate_katz_moj)\n",
    "karate_katz_njihov = nx.katz_centrality(O, alpha = 1/28, beta = 1, tol = 0.001)\n",
    "print(karate_katz_njihov)"
   ]
  },
  {
   "cell_type": "code",
   "execution_count": 44,
   "metadata": {},
   "outputs": [],
   "source": [
    "seznam = [x for x in karate_katz_njihov.values()]\n",
    "array = np.matrix(seznam).transpose()"
   ]
  },
  {
   "cell_type": "code",
   "execution_count": 45,
   "metadata": {
    "scrolled": true
   },
   "outputs": [
    {
     "data": {
      "text/plain": [
       "matrix([[ True],\n",
       "        [ True],\n",
       "        [ True],\n",
       "        [ True],\n",
       "        [ True],\n",
       "        [ True],\n",
       "        [ True],\n",
       "        [ True],\n",
       "        [ True],\n",
       "        [ True],\n",
       "        [ True],\n",
       "        [ True],\n",
       "        [ True],\n",
       "        [ True],\n",
       "        [ True],\n",
       "        [ True],\n",
       "        [ True],\n",
       "        [ True],\n",
       "        [ True],\n",
       "        [ True],\n",
       "        [ True],\n",
       "        [ True],\n",
       "        [ True],\n",
       "        [ True],\n",
       "        [ True],\n",
       "        [ True],\n",
       "        [ True],\n",
       "        [ True],\n",
       "        [ True],\n",
       "        [ True],\n",
       "        [ True],\n",
       "        [ True],\n",
       "        [ True],\n",
       "        [ True]])"
      ]
     },
     "execution_count": 45,
     "metadata": {},
     "output_type": "execute_result"
    }
   ],
   "source": [
    "rank(array) == rank(karate_katz_moj)"
   ]
  },
  {
   "cell_type": "markdown",
   "metadata": {},
   "source": [
    "Katz deluje na grafu KARATE isto kot vgrajen Katz!"
   ]
  },
  {
   "cell_type": "code",
   "execution_count": 59,
   "metadata": {
    "collapsed": true
   },
   "outputs": [
    {
     "name": "stdout",
     "output_type": "stream",
     "text": [
      "process finished after 2 iterations\n",
      "time consumption: 0.002438256999994337 seconds\n",
      "[[0.02953506]\n",
      " [0.02945181]\n",
      " [0.02944578]\n",
      " [0.02941834]\n",
      " [0.02940135]\n",
      " [0.02941605]\n",
      " [0.02941605]\n",
      " [0.02939532]\n",
      " [0.02939869]\n",
      " [0.02938704]\n",
      " [0.02940135]\n",
      " [0.0293842 ]\n",
      " [0.0293891 ]\n",
      " [0.02939706]\n",
      " [0.02938655]\n",
      " [0.02938655]\n",
      " [0.02939706]\n",
      " [0.02938747]\n",
      " [0.02938655]\n",
      " [0.02938921]\n",
      " [0.02938655]\n",
      " [0.02938747]\n",
      " [0.02938655]\n",
      " [0.02941105]\n",
      " [0.02940441]\n",
      " [0.02940294]\n",
      " [0.02939144]\n",
      " [0.02940272]\n",
      " [0.02939194]\n",
      " [0.02940713]\n",
      " [0.0293957 ]\n",
      " [0.02941779]\n",
      " [0.02949187]\n",
      " [0.02955186]]\n",
      "{0: 0.029535130718954247, 1: 0.02945183823529412, 2: 0.02944579248366013, 3: 0.029418341503267973, 4: 0.029401348039215687, 5: 0.029416053921568628, 6: 0.029416053921568628, 7: 0.0293953022875817, 8: 0.029398666378316035, 9: 0.029387024221453287, 10: 0.029401348039215687, 11: 0.02938419117647059, 12: 0.029389093137254903, 13: 0.02939703239138793, 14: 0.029386534025374857, 15: 0.029386534025374857, 16: 0.02939705882352941, 17: 0.029387459150326797, 18: 0.029386534025374857, 19: 0.029389189254133027, 20: 0.029386534025374857, 21: 0.029387459150326797, 22: 0.029386534025374857, 23: 0.029411043829296428, 24: 0.029404411764705884, 25: 0.02940294117647059, 26: 0.029391435986159172, 27: 0.029402710495963092, 28: 0.029391926182237602, 29: 0.029407122260668973, 30: 0.029395684352172245, 31: 0.029417784025374857, 32: 0.0294919261822376, 33: 0.029551960784313727}\n"
     ]
    }
   ],
   "source": [
    "karate_page_moj = pagerank2(R, 10000,0.001,0.001)\n",
    "print(karate_page_moj)\n",
    "karate_page_njihov = nx.pagerank(O, alpha = 0.001, tol = 0.001)\n",
    "print(karate_page_njihov)"
   ]
  },
  {
   "cell_type": "markdown",
   "metadata": {},
   "source": [
    "PageRank deluje na grafu KARATE isto kot vgrajen PageRank!"
   ]
  },
  {
   "cell_type": "code",
   "execution_count": 60,
   "metadata": {
    "scrolled": true
   },
   "outputs": [
    {
     "data": {
      "text/plain": [
       "matrix([[ True],\n",
       "        [False],\n",
       "        [False],\n",
       "        [False],\n",
       "        [False],\n",
       "        [False],\n",
       "        [False],\n",
       "        [False],\n",
       "        [False],\n",
       "        [ True],\n",
       "        [False],\n",
       "        [ True],\n",
       "        [False],\n",
       "        [False],\n",
       "        [False],\n",
       "        [False],\n",
       "        [False],\n",
       "        [False],\n",
       "        [False],\n",
       "        [False],\n",
       "        [False],\n",
       "        [False],\n",
       "        [False],\n",
       "        [ True],\n",
       "        [False],\n",
       "        [False],\n",
       "        [False],\n",
       "        [ True],\n",
       "        [False],\n",
       "        [False],\n",
       "        [False],\n",
       "        [False],\n",
       "        [ True],\n",
       "        [ True]])"
      ]
     },
     "execution_count": 60,
     "metadata": {},
     "output_type": "execute_result"
    }
   ],
   "source": [
    "rank(karate_katz_moj) == rank(karate_page_moj)"
   ]
  },
  {
   "cell_type": "markdown",
   "metadata": {},
   "source": [
    "Drugačen rank. Potrebno bi bilo najti ustrezne parametre alpha in beta."
   ]
  },
  {
   "cell_type": "markdown",
   "metadata": {},
   "source": [
    "### Primer test - govorilne ure"
   ]
  },
  {
   "cell_type": "code",
   "execution_count": 54,
   "metadata": {},
   "outputs": [
    {
     "name": "stdout",
     "output_type": "stream",
     "text": [
      "Name: \n",
      "Type: Graph\n",
      "Number of nodes: 4\n",
      "Number of edges: 3\n",
      "Average degree:   1.5000\n",
      "process finished after 506 iterations\n",
      "time consumption: 0.02061595899999702 seconds\n",
      "[[0.373417  ]\n",
      " [0.60046627]\n",
      " [0.60046627]\n",
      " [0.373417  ]]\n",
      "{0: 0.3734182804129661, 1: 0.60046547598794, 2: 0.60046547598794, 3: 0.3734182804129661}\n"
     ]
    }
   ],
   "source": [
    "import math\n",
    "G = nx.path_graph(4)\n",
    "print(nx.info(G))\n",
    "phi = (1 + math.sqrt(5)) / 2.0\n",
    "alpha = 1/phi - 0.01\n",
    "G_katz_moj = katz(G, 10000,0.001, alpha, 1)\n",
    "print(G_katz_moj)\n",
    "G_katz_njihov = nx.katz_centrality(G, alpha = alpha, beta = 1, tol = 0.001)\n",
    "print(G_katz_njihov)"
   ]
  },
  {
   "cell_type": "code",
   "execution_count": 55,
   "metadata": {
    "scrolled": true
   },
   "outputs": [
    {
     "data": {
      "text/plain": [
       "[1.0000121512217224,\n",
       " 1.0000090908927937,\n",
       " 1.0000135632197984,\n",
       " 1.0000055946331126,\n",
       " 0.9999907432028422,\n",
       " 0.9999908964409793,\n",
       " 0.9999908964409793,\n",
       " 1.0000024042050293,\n",
       " 1.0000085340971194,\n",
       " 0.9999948913554344,\n",
       " 0.9999907432028422,\n",
       " 0.9999882037213799,\n",
       " 0.9999922386128177,\n",
       " 1.0000084174906168,\n",
       " 0.9999948524464821,\n",
       " 0.9999948524464821,\n",
       " 0.9999835939520287,\n",
       " 0.9999934259266566,\n",
       " 0.9999948524464821,\n",
       " 1.0000004168291583,\n",
       " 0.9999948524464821,\n",
       " 0.9999934259266566,\n",
       " 0.9999948524464821,\n",
       " 0.999999369081656,\n",
       " 0.9999878890830309,\n",
       " 0.9999881636049504,\n",
       " 0.9999911259183734,\n",
       " 0.9999978177902896,\n",
       " 0.9999979474340891,\n",
       " 0.999998039691679,\n",
       " 1.0000029973835656,\n",
       " 1.0000037587119162,\n",
       " 1.0000108332913058,\n",
       " 1.0000127527324072]"
      ]
     },
     "execution_count": 55,
     "metadata": {},
     "output_type": "execute_result"
    }
   ],
   "source": [
    "[(karate_katz_moj[i,0] / karate_katz_njihov[i])**(1/8) for i in range(len(karate_katz_njihov))]"
   ]
  },
  {
   "cell_type": "code",
   "execution_count": 56,
   "metadata": {
    "scrolled": true
   },
   "outputs": [
    {
     "data": {
      "text/plain": [
       "1.0000000000000002"
      ]
     },
     "execution_count": 56,
     "metadata": {},
     "output_type": "execute_result"
    }
   ],
   "source": [
    "sum(x**2 for x in karate_katz_njihov.values())"
   ]
  },
  {
   "cell_type": "code",
   "execution_count": 57,
   "metadata": {},
   "outputs": [],
   "source": [
    "?nx.katz_centrality"
   ]
  },
  {
   "cell_type": "code",
   "execution_count": 58,
   "metadata": {},
   "outputs": [
    {
     "data": {
      "text/plain": [
       "array([ 6.72569773e+00+0.00000000e+00j,  4.97707423e+00+0.00000000e+00j,\n",
       "       -4.48722919e+00+0.00000000e+00j, -3.44793486e+00+0.00000000e+00j,\n",
       "       -3.11069092e+00+0.00000000e+00j,  2.91650670e+00+0.00000000e+00j,\n",
       "       -2.43742443e+00+0.00000000e+00j,  2.30908767e+00+0.00000000e+00j,\n",
       "       -2.09082295e+00+0.00000000e+00j, -1.68768945e+00+0.00000000e+00j,\n",
       "       -1.44407374e+00+0.00000000e+00j, -1.19242425e+00+0.00000000e+00j,\n",
       "       -1.04208785e+00+0.00000000e+00j, -7.92406815e-01+0.00000000e+00j,\n",
       "       -4.18818748e-01+0.00000000e+00j,  1.48615954e+00+0.00000000e+00j,\n",
       "        1.45305566e+00+0.00000000e+00j,  1.08328639e+00+0.00000000e+00j,\n",
       "        1.03145042e+00+0.00000000e+00j,  8.34304102e-01+0.00000000e+00j,\n",
       "        2.99410685e-01+0.00000000e+00j,  4.19729474e-01+0.00000000e+00j,\n",
       "        6.15840589e-01+0.00000000e+00j, -2.00000000e+00+0.00000000e+00j,\n",
       "        2.24121811e-16+0.00000000e+00j,  3.52059077e-16+0.00000000e+00j,\n",
       "       -2.18021493e-16+0.00000000e+00j,  4.23395654e-17+1.82377439e-16j,\n",
       "        4.23395654e-17-1.82377439e-16j, -1.58337286e-17+1.02120296e-16j,\n",
       "       -1.58337286e-17-1.02120296e-16j, -6.60416918e-17+3.96963597e-17j,\n",
       "       -6.60416918e-17-3.96963597e-17j,  1.28166359e-17+0.00000000e+00j])"
      ]
     },
     "execution_count": 58,
     "metadata": {},
     "output_type": "execute_result"
    }
   ],
   "source": [
    "nx.adjacency_spectrum(O)"
   ]
  }
 ],
 "metadata": {
  "kernelspec": {
   "display_name": "Python 3",
   "language": "python",
   "name": "python3"
  },
  "language_info": {
   "codemirror_mode": {
    "name": "ipython",
    "version": 3
   },
   "file_extension": ".py",
   "mimetype": "text/x-python",
   "name": "python",
   "nbconvert_exporter": "python",
   "pygments_lexer": "ipython3",
   "version": "3.7.1rc1"
  }
 },
 "nbformat": 4,
 "nbformat_minor": 2
}
