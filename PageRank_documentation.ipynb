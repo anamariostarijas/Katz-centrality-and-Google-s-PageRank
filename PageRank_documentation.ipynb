{
 "cells": [
  {
   "cell_type": "markdown",
   "metadata": {},
   "source": [
    "# Google's PageRank"
   ]
  },
  {
   "cell_type": "code",
   "execution_count": 1,
   "metadata": {
    "collapsed": true
   },
   "outputs": [],
   "source": [
    "#import libraries\n",
    "import networkx as nx \n",
    "import matplotlib.pyplot as plt\n",
    "import numpy as np\n",
    "from timeit import default_timer as timer\n",
    "import pandas as pd"
   ]
  },
  {
   "cell_type": "markdown",
   "metadata": {},
   "source": [
    "For simplicity we will not take directed graphs but rather undirected and then assume that every edge points in both directions."
   ]
  },
  {
   "cell_type": "code",
   "execution_count": 2,
   "metadata": {
    "collapsed": true
   },
   "outputs": [],
   "source": [
    "#computing adjacency matrix, belonging to graph G and H\n",
    "G = nx.barabasi_albert_graph(5,1) \n",
    "H = nx.complete_graph(100)\n",
    "M = nx.adjacency_matrix(G)\n",
    "N = nx.adjacency_matrix(H)\n",
    "#print(M.todense())"
   ]
  },
  {
   "cell_type": "markdown",
   "metadata": {},
   "source": [
    "### Algorithm \n",
    "#### General model\n",
    "1. generate network\n",
    "2. find square \"adjacency matrix\" Q that belongs to selected network: <br>\n",
    "     (i,j) = 1/(#outlinks of j) ; if there exists a link from j to i <br>\n",
    "     (i,j) = 0 ; otherwise <br>\n",
    "The sum of every column should be 1. <br>\n",
    "3. use power method for finding eigenvector r <br>\n",
    "     for k=1,2... until convergence: <br>\n",
    "        r^(k) = Q*r^(k-1)"
   ]
  },
  {
   "cell_type": "code",
   "execution_count": 3,
   "metadata": {
    "collapsed": true
   },
   "outputs": [],
   "source": [
    "def Qmatrix(matrix):\n",
    "    '''for given adjecency matrix returns column stohastic matrix Q'''\n",
    "    sums = np.sum(matrix, axis=0)        #array of sums of columns in matrix\n",
    "    return np.nan_to_num(matrix/sums)                   #divide every column with its sum\n",
    "\n",
    "def pagerank1(matrix, max_num_of_steps, tolerance):\n",
    "    '''returns pagerank vector of matrix, \n",
    "    warning: do not use this function when #(nodes) * max_num_of_steps >> 1000003'''\n",
    "    start = timer()\n",
    "    Q = Qmatrix(matrix)           #column stohastic matrix from given matrix\n",
    "    r = Q[:,0]                    #first guess for vector r is first column of Q \n",
    "    diff = 1000 \n",
    "    k = 0 \n",
    "    while diff > tolerance and k < max_num_of_steps:\n",
    "        r, q = Q.dot(r), r               #inner product of matrix Q and vector r\n",
    "        #r = q/np.linalg.norm(q, ord=1)  #not necessary\n",
    "        diff = np.linalg.norm(q-r, ord=1)\n",
    "        k+=1\n",
    "    print('process finished after {} iterations'.format(k))\n",
    "    end = timer()\n",
    "    print('time consumption: {} seconds'.format(end-start))  #timing of the process\n",
    "    return r"
   ]
  },
  {
   "cell_type": "markdown",
   "metadata": {},
   "source": [
    "First, we check if the function pagerank1 works correctly. We use it on complete graph, where we know what is the correct pagerank vector. \n",
    "We will compare how size of graph (number of nodes and edges), prescribed maximum number of steps, inclusion of normalizing the vector and different first guesses for vector r affect time consumption of iteration and precision of pagerank vector.  "
   ]
  },
  {
   "cell_type": "code",
   "execution_count": 4,
   "metadata": {},
   "outputs": [
    {
     "name": "stdout",
     "output_type": "stream",
     "text": [
      "process finished after 2 iterations\n",
      "time consumption: 0.17307576349156187 seconds\n",
      "process finished after 2 iterations\n",
      "time consumption: 0.0034652358117987503 seconds\n"
     ]
    },
    {
     "data": {
      "text/plain": [
       "matrix([[ 0.00999898],\n",
       "        [ 0.01000001],\n",
       "        [ 0.01000001],\n",
       "        [ 0.01000001],\n",
       "        [ 0.01000001],\n",
       "        [ 0.01000001],\n",
       "        [ 0.01000001],\n",
       "        [ 0.01000001],\n",
       "        [ 0.01000001],\n",
       "        [ 0.01000001],\n",
       "        [ 0.01000001],\n",
       "        [ 0.01000001],\n",
       "        [ 0.01000001],\n",
       "        [ 0.01000001],\n",
       "        [ 0.01000001],\n",
       "        [ 0.01000001],\n",
       "        [ 0.01000001],\n",
       "        [ 0.01000001],\n",
       "        [ 0.01000001],\n",
       "        [ 0.01000001],\n",
       "        [ 0.01000001],\n",
       "        [ 0.01000001],\n",
       "        [ 0.01000001],\n",
       "        [ 0.01000001],\n",
       "        [ 0.01000001],\n",
       "        [ 0.01000001],\n",
       "        [ 0.01000001],\n",
       "        [ 0.01000001],\n",
       "        [ 0.01000001],\n",
       "        [ 0.01000001],\n",
       "        [ 0.01000001],\n",
       "        [ 0.01000001],\n",
       "        [ 0.01000001],\n",
       "        [ 0.01000001],\n",
       "        [ 0.01000001],\n",
       "        [ 0.01000001],\n",
       "        [ 0.01000001],\n",
       "        [ 0.01000001],\n",
       "        [ 0.01000001],\n",
       "        [ 0.01000001],\n",
       "        [ 0.01000001],\n",
       "        [ 0.01000001],\n",
       "        [ 0.01000001],\n",
       "        [ 0.01000001],\n",
       "        [ 0.01000001],\n",
       "        [ 0.01000001],\n",
       "        [ 0.01000001],\n",
       "        [ 0.01000001],\n",
       "        [ 0.01000001],\n",
       "        [ 0.01000001],\n",
       "        [ 0.01000001],\n",
       "        [ 0.01000001],\n",
       "        [ 0.01000001],\n",
       "        [ 0.01000001],\n",
       "        [ 0.01000001],\n",
       "        [ 0.01000001],\n",
       "        [ 0.01000001],\n",
       "        [ 0.01000001],\n",
       "        [ 0.01000001],\n",
       "        [ 0.01000001],\n",
       "        [ 0.01000001],\n",
       "        [ 0.01000001],\n",
       "        [ 0.01000001],\n",
       "        [ 0.01000001],\n",
       "        [ 0.01000001],\n",
       "        [ 0.01000001],\n",
       "        [ 0.01000001],\n",
       "        [ 0.01000001],\n",
       "        [ 0.01000001],\n",
       "        [ 0.01000001],\n",
       "        [ 0.01000001],\n",
       "        [ 0.01000001],\n",
       "        [ 0.01000001],\n",
       "        [ 0.01000001],\n",
       "        [ 0.01000001],\n",
       "        [ 0.01000001],\n",
       "        [ 0.01000001],\n",
       "        [ 0.01000001],\n",
       "        [ 0.01000001],\n",
       "        [ 0.01000001],\n",
       "        [ 0.01000001],\n",
       "        [ 0.01000001],\n",
       "        [ 0.01000001],\n",
       "        [ 0.01000001],\n",
       "        [ 0.01000001],\n",
       "        [ 0.01000001],\n",
       "        [ 0.01000001],\n",
       "        [ 0.01000001],\n",
       "        [ 0.01000001],\n",
       "        [ 0.01000001],\n",
       "        [ 0.01000001],\n",
       "        [ 0.01000001],\n",
       "        [ 0.01000001],\n",
       "        [ 0.01000001],\n",
       "        [ 0.01000001],\n",
       "        [ 0.01000001],\n",
       "        [ 0.01000001],\n",
       "        [ 0.01000001],\n",
       "        [ 0.01000001],\n",
       "        [ 0.01000001]])"
      ]
     },
     "execution_count": 4,
     "metadata": {},
     "output_type": "execute_result"
    }
   ],
   "source": [
    "pagerank1(N, 1000, 0.001)\n",
    "pagerank1(N, 10, 0.001)"
   ]
  },
  {
   "cell_type": "markdown",
   "metadata": {},
   "source": [
    "With enough number of steps we get the right result, so pagerank1 works correctly. \n",
    "Now we use it on barabasi albert graph."
   ]
  },
  {
   "cell_type": "code",
   "execution_count": 5,
   "metadata": {},
   "outputs": [
    {
     "name": "stdout",
     "output_type": "stream",
     "text": [
      "process finished after 10 iterations\n",
      "time consumption: 0.0036132021934947023 seconds\n"
     ]
    },
    {
     "data": {
      "text/plain": [
       "matrix([[ 0.],\n",
       "        [ 1.],\n",
       "        [ 0.],\n",
       "        [ 0.],\n",
       "        [ 0.]])"
      ]
     },
     "execution_count": 5,
     "metadata": {},
     "output_type": "execute_result"
    }
   ],
   "source": [
    "Qmatrix(M)\n",
    "#pagerank1(M, 1000, 0)\n",
    "pagerank1(M, 10, 0.1)\n",
    "#Qmatrix(M) (different result if with norm of vector r)"
   ]
  },
  {
   "cell_type": "markdown",
   "metadata": {},
   "source": [
    "Ranking says that some pages are not important at all. For better intuition lets take a look at this graph."
   ]
  },
  {
   "cell_type": "code",
   "execution_count": 6,
   "metadata": {},
   "outputs": [
    {
     "data": {
      "image/png": "[encoded data removed]",
      "text/plain": [
       "<matplotlib.figure.Figure at 0xbeb5518>"
      ]
     },
     "metadata": {},
     "output_type": "display_data"
    }
   ],
   "source": [
    "nx.draw(G, with_labels=True)\n",
    "plt.show()"
   ]
  },
  {
   "cell_type": "markdown",
   "metadata": {},
   "source": [
    "#### Adjusted model\n",
    "1. generate network\n",
    "2. find matrix Q and then adjust it: every zero column should have constant values in all places: <br>\n",
    "    d[j] = 1 ; if #(outlinks of j) = 0 <br>\n",
    "    d[j] = 0 ; otherwise <br>\n",
    "    e = [1 ... 1]^T <br>\n",
    "    => P = Q + 1/n*e*d^t <br>\n",
    "    => A =  α*P + (1- α)/n*e*e^T, where 0 <= α <=1 <br>\n",
    "3. use power method for finding r <br>\n",
    "    for k=1,2... until convergence: <br>\n",
    "        r^(k) = A*r^(k-1)"
   ]
  },
  {
   "cell_type": "code",
   "execution_count": 7,
   "metadata": {
    "collapsed": true
   },
   "outputs": [],
   "source": [
    "def Qmatrix(matrix):\n",
    "    '''for given adjecency matrix of a network returns column stohastic matrix Q,\n",
    "    some columns may still be zero'''\n",
    "    sums = np.sum(matrix, axis=0)       #array of sums of columns in matrix\n",
    "    return np.nan_to_num(matrix/sums)   #divide every column with it's sum, if sum is 0,  \n",
    "                                        #returns zero column instead of nan\n",
    "\n",
    "def dvector(matrix):\n",
    "    '''for given adjecency matrix returns transposed vector d, where d[j] = 1 ; if #(outlinks of j) = 0 \n",
    "    and d[j] = 0 ; otherwise'''\n",
    "    Q = Qmatrix(matrix)             #compute matrix Q\n",
    "    sums = np.sum(matrix, axis=0)   #array of sums of columns in matrix \n",
    "    d_bool = (sums == 0)            #booleninan array, True if the sum of a column is equal to 0, false otherwise\n",
    "    d = d_bool*1                    #convert False to 0 and True to 1\n",
    "    return d\n",
    "\n",
    "def evector(n):\n",
    "    '''returns vector v of ones in size of n''' # n = num of columns in matrix\n",
    "    return np.ones((n,1))    \n",
    "\n",
    "def Pmatrix(matrix):\n",
    "    '''returns column stohastic matrix P without zero columns'''\n",
    "    n = matrix.shape[1]\n",
    "    Q = Qmatrix(matrix)\n",
    "    e = evector(n)\n",
    "    d = dvector(matrix)\n",
    "    return Q + 1/n*e.dot(d)\n",
    "\n",
    "def Amatrix(matrix, alpha):\n",
    "    '''returns ireducible column stohastic matrix A of given matrix, \n",
    "    where 0 <= alpha <= 1'''\n",
    "    n = matrix.shape[1]\n",
    "    e = evector(n)\n",
    "    P = Pmatrix(matrix)\n",
    "    return alpha*P + (1-alpha)*1/n*e.dot(e.transpose())\n",
    "\n",
    "def pagerank2(matrix, max_num_of_steps, tolerance, alpha):\n",
    "    '''returns pagerank vector of adjacency matrix, 0<=alpha<=1'''\n",
    "    start = timer()\n",
    "    A = Amatrix(matrix, alpha)           #column stohastic matrix from given matrix\n",
    "    r = A[:,0]  #first guess for vector r is first column of Q\n",
    "    diff = 1000\n",
    "    k = 0\n",
    "    while diff > tolerance and k < max_num_of_steps:\n",
    "        r, q = A.dot(r), r              #inner product of matrix Q and vector r\n",
    "        #r = q/np.linalg.norm(q, ord=1)  #not necessary\n",
    "        diff = np.linalg.norm(q-r, ord=1)\n",
    "        k+=1\n",
    "    print('process finished after {} iterations'.format(k))\n",
    "    end = timer()\n",
    "    print('time consumption: {} seconds'.format(end-start))  #timing of the process\n",
    "    return r"
   ]
  },
  {
   "cell_type": "markdown",
   "metadata": {},
   "source": [
    "Let's see how every one of these functions works and what output they produce. <br>\n",
    "Firstly, let's take a look at adjacency matrix of directed graph $T$:"
   ]
  },
  {
   "cell_type": "code",
   "execution_count": 8,
   "metadata": {},
   "outputs": [
    {
     "data": {
      "image/png": "[encoded data removed]",
      "text/plain": [
       "<matplotlib.figure.Figure at 0xc0c4278>"
      ]
     },
     "metadata": {},
     "output_type": "display_data"
    },
    {
     "name": "stdout",
     "output_type": "stream",
     "text": [
      "[[0 1 0 0 0]\n",
      " [0 0 1 1 1]\n",
      " [0 0 0 0 0]\n",
      " [0 0 0 0 0]\n",
      " [0 1 0 0 0]]\n"
     ]
    }
   ],
   "source": [
    "T = nx.DiGraph()   # or DiGraph, etc\n",
    "T.add_edges_from( ((1,2), (2,3), (2,4), (2,5), (5,2)) )\n",
    "nx.draw(T, with_labels=True)\n",
    "plt.show()\n",
    "R = nx.adjacency_matrix(T)\n",
    "print(R.todense())"
   ]
  },
  {
   "cell_type": "markdown",
   "metadata": {},
   "source": [
    "First column of $R$ is a zero column and general pagerank (pagerank1) does not work well in these cases. Now we compute column stohastic matrix Q with *Qmatrix* function. Zero column will not change in this process."
   ]
  },
  {
   "cell_type": "code",
   "execution_count": 9,
   "metadata": {
    "scrolled": true
   },
   "outputs": [
    {
     "name": "stderr",
     "output_type": "stream",
     "text": [
      "C:\\Users\\Anamari\\Anaconda3\\lib\\site-packages\\scipy\\sparse\\base.py:484: RuntimeWarning: invalid value encountered in true_divide\n",
      "  return np.true_divide(self.todense(), other)\n"
     ]
    },
    {
     "data": {
      "text/plain": [
       "matrix([[ 0. ,  0.5,  0. ,  0. ,  0. ],\n",
       "        [ 0. ,  0. ,  1. ,  1. ,  1. ],\n",
       "        [ 0. ,  0. ,  0. ,  0. ,  0. ],\n",
       "        [ 0. ,  0. ,  0. ,  0. ,  0. ],\n",
       "        [ 0. ,  0.5,  0. ,  0. ,  0. ]])"
      ]
     },
     "execution_count": 9,
     "metadata": {},
     "output_type": "execute_result"
    }
   ],
   "source": [
    "Qmatrix(R)"
   ]
  },
  {
   "cell_type": "markdown",
   "metadata": {},
   "source": [
    "That zero column could be a problem. It means that random surfer in this network could get stuck in that web page. We replace zeros with equal constant values in all places. For that we use the *Pmatrix* function. "
   ]
  },
  {
   "cell_type": "code",
   "execution_count": 10,
   "metadata": {
    "scrolled": true
   },
   "outputs": [
    {
     "name": "stderr",
     "output_type": "stream",
     "text": [
      "C:\\Users\\Anamari\\Anaconda3\\lib\\site-packages\\scipy\\sparse\\base.py:484: RuntimeWarning: invalid value encountered in true_divide\n",
      "  return np.true_divide(self.todense(), other)\n"
     ]
    },
    {
     "data": {
      "text/plain": [
       "matrix([[ 0.2,  0.5,  0. ,  0. ,  0. ],\n",
       "        [ 0.2,  0. ,  1. ,  1. ,  1. ],\n",
       "        [ 0.2,  0. ,  0. ,  0. ,  0. ],\n",
       "        [ 0.2,  0. ,  0. ,  0. ,  0. ],\n",
       "        [ 0.2,  0.5,  0. ,  0. ,  0. ]])"
      ]
     },
     "execution_count": 10,
     "metadata": {},
     "output_type": "execute_result"
    }
   ],
   "source": [
    "Pmatrix(R)"
   ]
  },
  {
   "cell_type": "markdown",
   "metadata": {},
   "source": [
    "Zero column was replaced by 0.2 in all places. Now we have a real column stohastic matrix. <br>\n",
    "Next, we want to have irreducible matrix, which due to the size of the web, we usually do not have. For that purpuse we add links from and to all pages with *Amatrix* function.   \n"
   ]
  },
  {
   "cell_type": "code",
   "execution_count": 11,
   "metadata": {},
   "outputs": [
    {
     "name": "stderr",
     "output_type": "stream",
     "text": [
      "C:\\Users\\Anamari\\Anaconda3\\lib\\site-packages\\scipy\\sparse\\base.py:484: RuntimeWarning: invalid value encountered in true_divide\n",
      "  return np.true_divide(self.todense(), other)\n"
     ]
    },
    {
     "data": {
      "text/plain": [
       "matrix([[ 0.2  ,  0.494,  0.004,  0.004,  0.004],\n",
       "        [ 0.2  ,  0.004,  0.984,  0.984,  0.984],\n",
       "        [ 0.2  ,  0.004,  0.004,  0.004,  0.004],\n",
       "        [ 0.2  ,  0.004,  0.004,  0.004,  0.004],\n",
       "        [ 0.2  ,  0.494,  0.004,  0.004,  0.004]])"
      ]
     },
     "execution_count": 11,
     "metadata": {},
     "output_type": "execute_result"
    }
   ],
   "source": [
    "Amatrix(R, 0.98)"
   ]
  },
  {
   "cell_type": "code",
   "execution_count": 12,
   "metadata": {
    "scrolled": true
   },
   "outputs": [
    {
     "name": "stdout",
     "output_type": "stream",
     "text": [
      "process finished after 12 iterations\n",
      "time consumption: 0.007486414676212361 seconds\n"
     ]
    },
    {
     "name": "stderr",
     "output_type": "stream",
     "text": [
      "C:\\Users\\Anamari\\Anaconda3\\lib\\site-packages\\scipy\\sparse\\base.py:484: RuntimeWarning: invalid value encountered in true_divide\n",
      "  return np.true_divide(self.todense(), other)\n"
     ]
    },
    {
     "data": {
      "text/plain": [
       "matrix([[ 0.2489753 ],\n",
       "        [ 0.39941354],\n",
       "        [ 0.05131793],\n",
       "        [ 0.05131793],\n",
       "        [ 0.2489753 ]])"
      ]
     },
     "execution_count": 12,
     "metadata": {},
     "output_type": "execute_result"
    }
   ],
   "source": [
    "pagerank2(R,10000000,0.001, 0.99)"
   ]
  },
  {
   "cell_type": "code",
   "execution_count": 13,
   "metadata": {},
   "outputs": [
    {
     "name": "stderr",
     "output_type": "stream",
     "text": [
      "C:\\Users\\Anamari\\Anaconda3\\lib\\site-packages\\scipy\\sparse\\base.py:484: RuntimeWarning: invalid value encountered in true_divide\n",
      "  return np.true_divide(self.todense(), other)\n"
     ]
    },
    {
     "name": "stdout",
     "output_type": "stream",
     "text": [
      "process finished after 49 iterations\n",
      "time consumption: 0.007118209315980506 seconds\n"
     ]
    },
    {
     "data": {
      "image/png": "[encoded data removed]",
      "text/plain": [
       "<matplotlib.figure.Figure at 0xc84e160>"
      ]
     },
     "metadata": {},
     "output_type": "display_data"
    },
    {
     "data": {
      "text/plain": [
       "0.2490015190994057"
      ]
     },
     "execution_count": 13,
     "metadata": {},
     "output_type": "execute_result"
    }
   ],
   "source": [
    "#pagerank on graph\n",
    "from itertools import chain\n",
    "r = pagerank2(R,100,0, 0.99) \n",
    "keys = list(range(1, r.shape[0]+2))\n",
    "values = list(chain.from_iterable(r.tolist()))\n",
    "t = {k: v for k, v in zip(keys, values)}\n",
    "#t\n",
    "nx.set_node_attributes(T, t, 'pagerank')\n",
    "nx.draw(T, with_labels=True, labels = t, with_attributes=True)\n",
    "plt.show()\n",
    "T.node[1]['pagerank']"
   ]
  },
  {
   "cell_type": "code",
   "execution_count": 14,
   "metadata": {},
   "outputs": [
    {
     "data": {
      "image/png": "[encoded data removed]",
      "text/plain": [
       "<matplotlib.figure.Figure at 0xbeb5b38>"
      ]
     },
     "metadata": {},
     "output_type": "display_data"
    }
   ],
   "source": [
    "# pagerank on bigger network\n",
    "O = nx.karate_club_graph() \n",
    "nx.draw(O, with_labels=True)\n",
    "plt.show()\n",
    "#R = nx.adjacency_matrix(T)\n",
    "#print(R.todense())"
   ]
  },
  {
   "cell_type": "code",
   "execution_count": 15,
   "metadata": {
    "collapsed": true
   },
   "outputs": [],
   "source": [
    "#citation:@misc{snapnets,\n",
    "#  author       = {Jure Leskovec and Andrej Krevl},\n",
    "#  title        = {{SNAP Datasets}: {Stanford} Large Network Dataset Collection},\n",
    "#  howpublished = {\\url{http://snap.stanford.edu/data}},\n",
    "#  month        = jun,\n",
    "#  year         = 2014\n",
    "#}\n",
    "G_fb = nx.read_edgelist('facebook_combined.txt')"
   ]
  },
  {
   "cell_type": "code",
   "execution_count": 16,
   "metadata": {},
   "outputs": [
    {
     "name": "stdout",
     "output_type": "stream",
     "text": [
      "Name: \n",
      "Type: Graph\n",
      "Number of nodes: 4039\n",
      "Number of edges: 88234\n",
      "Average degree:  43.6910\n"
     ]
    }
   ],
   "source": [
    "print(nx.info(G_fb))"
   ]
  },
  {
   "cell_type": "code",
   "execution_count": 17,
   "metadata": {},
   "outputs": [
    {
     "data": {
      "image/png": "[encoded data removed]",
      "text/plain": [
       "<matplotlib.figure.Figure at 0x410a4a8>"
      ]
     },
     "metadata": {},
     "output_type": "display_data"
    }
   ],
   "source": [
    "spring_pos = nx.spring_layout(G_fb)\n",
    "nx.draw(G_fb, pos = spring_pos, node_size = 35)\n",
    "#plt.savefig(\"Facebook_graph.png\", format=\"PNG\")\n",
    "plt.show()"
   ]
  },
  {
   "cell_type": "code",
   "execution_count": 18,
   "metadata": {},
   "outputs": [
    {
     "name": "stdout",
     "output_type": "stream",
     "text": [
      "process finished after 575 iterations\n",
      "time consumption: 9.953734419161378 seconds\n",
      "[[  4.79508113e-03]\n",
      " [  2.17910466e-04]\n",
      " [  1.52316417e-04]\n",
      " ..., \n",
      " [  6.77736016e-05]\n",
      " [  1.25649865e-04]\n",
      " [  2.72346363e-04]]\n"
     ]
    }
   ],
   "source": [
    "M_fb = nx.adjacency_matrix(G_fb)\n",
    "r_1 = pagerank2(M_fb,10000000,0.0000001, 0.98)\n",
    "print(r_1)"
   ]
  },
  {
   "cell_type": "code",
   "execution_count": 19,
   "metadata": {},
   "outputs": [
    {
     "name": "stdout",
     "output_type": "stream",
     "text": [
      "process finished after 4 iterations\n",
      "time consumption: 2.666419628382016 seconds\n"
     ]
    },
    {
     "data": {
      "text/plain": [
       "matrix([[ 0.00039399],\n",
       "        [ 0.00024719],\n",
       "        [ 0.00024658],\n",
       "        ..., \n",
       "        [ 0.00024578],\n",
       "        [ 0.00024585],\n",
       "        [ 0.00024747]])"
      ]
     },
     "execution_count": 19,
     "metadata": {},
     "output_type": "execute_result"
    }
   ],
   "source": [
    "pagerank2(M_fb,10000000,0.0000001, 0.01)"
   ]
  },
  {
   "cell_type": "code",
   "execution_count": 20,
   "metadata": {},
   "outputs": [
    {
     "name": "stdout",
     "output_type": "stream",
     "text": [
      "process finished after 23 iterations\n",
      "time consumption: 5.686471638992828 seconds\n"
     ]
    }
   ],
   "source": [
    "r_3 = pagerank2(M_fb,10000000,0.0000001, 0.5)"
   ]
  },
  {
   "cell_type": "code",
   "execution_count": 21,
   "metadata": {
    "scrolled": true
   },
   "outputs": [
    {
     "name": "stdout",
     "output_type": "stream",
     "text": [
      "process finished after 4719 iterations\n",
      "time consumption: 63.4971991161361 seconds\n",
      "[[  2.37207123e-03]\n",
      " [  1.15387662e-04]\n",
      " [  6.99886732e-05]\n",
      " ..., \n",
      " [  2.37766591e-05]\n",
      " [  4.70770334e-05]\n",
      " [  1.04002744e-04]]\n"
     ]
    }
   ],
   "source": [
    "r_2 = pagerank2(M_fb,10000000,0.0000001, 0.999)\n",
    "print(r_2)"
   ]
  },
  {
   "cell_type": "code",
   "execution_count": 22,
   "metadata": {},
   "outputs": [
    {
     "name": "stdout",
     "output_type": "stream",
     "text": [
      "process finished after 8104 iterations\n",
      "time consumption: 102.00699461889891 seconds\n",
      "[[  1.99799361e-03]\n",
      " [  9.77897213e-05]\n",
      " [  5.77554403e-05]\n",
      " ..., \n",
      " [  1.28541957e-05]\n",
      " [  2.56615989e-05]\n",
      " [  5.75079410e-05]]\n"
     ]
    }
   ],
   "source": [
    "r_4 = pagerank2(M_fb,10000000,0.0000001, 0.9999)\n",
    "print(r_4)"
   ]
  },
  {
   "cell_type": "code",
   "execution_count": 23,
   "metadata": {},
   "outputs": [
    {
     "name": "stdout",
     "output_type": "stream",
     "text": [
      "0.00717920758147\n"
     ]
    }
   ],
   "source": [
    "#residual pagerank vector from alpha_1 = 0.98 and alpha_2 = 0.999  \n",
    "diff_1 = np.linalg.norm(r_1-r_2, ord=2)\n",
    "print(diff_1)"
   ]
  },
  {
   "cell_type": "code",
   "execution_count": 24,
   "metadata": {},
   "outputs": [
    {
     "name": "stdout",
     "output_type": "stream",
     "text": [
      "0.0124715721855\n"
     ]
    }
   ],
   "source": [
    "#from alpha_2 = 0.999 and alpha_3 = 0.5\n",
    "diff_2 = np.linalg.norm(r_3-r_2, ord=2)\n",
    "print(diff_2)"
   ]
  },
  {
   "cell_type": "code",
   "execution_count": 25,
   "metadata": {},
   "outputs": [
    {
     "name": "stdout",
     "output_type": "stream",
     "text": [
      "0.00371765512728\n"
     ]
    }
   ],
   "source": [
    "diff_3 = np.linalg.norm(r_4-r_2, ord=2)\n",
    "print(diff_3)"
   ]
  },
  {
   "cell_type": "code",
   "execution_count": 26,
   "metadata": {},
   "outputs": [
    {
     "name": "stdout",
     "output_type": "stream",
     "text": [
      "process finished after 1 iterations\n",
      "time consumption: 2.0405299591296853 seconds\n",
      "process finished after 4 iterations\n",
      "time consumption: 4.005316953825513 seconds\n",
      "process finished after 5 iterations\n",
      "time consumption: 2.846285594788526 seconds\n",
      "process finished after 5 iterations\n",
      "time consumption: 2.7157578637075517 seconds\n",
      "process finished after 6 iterations\n",
      "time consumption: 2.7185525466682066 seconds\n",
      "process finished after 6 iterations\n",
      "time consumption: 3.9335250339018444 seconds\n",
      "process finished after 6 iterations\n",
      "time consumption: 5.472078615479404 seconds\n",
      "process finished after 7 iterations\n",
      "time consumption: 4.369901414190849 seconds\n",
      "process finished after 7 iterations\n",
      "time consumption: 2.8545939498855546 seconds\n",
      "process finished after 7 iterations\n",
      "time consumption: 2.79272604109957 seconds\n",
      "process finished after 8 iterations\n",
      "time consumption: 2.8060173565420996 seconds\n",
      "process finished after 8 iterations\n",
      "time consumption: 2.7610214641059656 seconds\n",
      "process finished after 8 iterations\n",
      "time consumption: 2.764966521537019 seconds\n",
      "process finished after 9 iterations\n",
      "time consumption: 2.771938047416768 seconds\n",
      "process finished after 9 iterations\n",
      "time consumption: 2.7838318075547477 seconds\n",
      "process finished after 9 iterations\n",
      "time consumption: 3.0273062121503926 seconds\n",
      "process finished after 10 iterations\n",
      "time consumption: 2.7992391277851993 seconds\n",
      "process finished after 10 iterations\n",
      "time consumption: 2.7654527578838497 seconds\n",
      "process finished after 10 iterations\n",
      "time consumption: 5.28838690557393 seconds\n",
      "process finished after 10 iterations\n",
      "time consumption: 3.283443716539182 seconds\n",
      "process finished after 11 iterations\n",
      "time consumption: 2.7831107921803664 seconds\n",
      "process finished after 11 iterations\n",
      "time consumption: 2.7907836616034274 seconds\n",
      "process finished after 11 iterations\n",
      "time consumption: 3.2854729086812426 seconds\n",
      "process finished after 12 iterations\n",
      "time consumption: 6.092060748325025 seconds\n",
      "process finished after 12 iterations\n",
      "time consumption: 4.367331246693709 seconds\n",
      "process finished after 12 iterations\n",
      "time consumption: 4.600272668684909 seconds\n",
      "process finished after 13 iterations\n",
      "time consumption: 3.2226628902452603 seconds\n",
      "process finished after 13 iterations\n",
      "time consumption: 2.868856455076127 seconds\n",
      "process finished after 13 iterations\n",
      "time consumption: 3.0526469517856185 seconds\n",
      "process finished after 14 iterations\n",
      "time consumption: 3.0302894881004363 seconds\n",
      "process finished after 14 iterations\n",
      "time consumption: 3.471385397257677 seconds\n",
      "process finished after 14 iterations\n",
      "time consumption: 3.4457910620607777 seconds\n",
      "process finished after 15 iterations\n",
      "time consumption: 2.9946915991445167 seconds\n",
      "process finished after 15 iterations\n",
      "time consumption: 4.084232642495692 seconds\n",
      "process finished after 16 iterations\n",
      "time consumption: 3.277112808115419 seconds\n",
      "process finished after 16 iterations\n",
      "time consumption: 7.57559093539129 seconds\n",
      "process finished after 16 iterations\n",
      "time consumption: 4.916269844494195 seconds\n",
      "process finished after 17 iterations\n",
      "time consumption: 2.8642464042245024 seconds\n",
      "process finished after 17 iterations\n",
      "time consumption: 2.9494707635963664 seconds\n",
      "process finished after 18 iterations\n",
      "time consumption: 2.88292822903486 seconds\n",
      "process finished after 18 iterations\n",
      "time consumption: 5.187995564429741 seconds\n",
      "process finished after 19 iterations\n",
      "time consumption: 5.232035234815385 seconds\n",
      "process finished after 19 iterations\n",
      "time consumption: 4.173924218119566 seconds\n",
      "process finished after 20 iterations\n",
      "time consumption: 5.977494569933128 seconds\n",
      "process finished after 20 iterations\n",
      "time consumption: 3.127474320776571 seconds\n",
      "process finished after 21 iterations\n",
      "time consumption: 2.9360118099410215 seconds\n",
      "process finished after 21 iterations\n",
      "time consumption: 3.0337487368332177 seconds\n",
      "process finished after 22 iterations\n",
      "time consumption: 2.9290184739876395 seconds\n",
      "process finished after 22 iterations\n",
      "time consumption: 2.9922882145632457 seconds\n",
      "process finished after 23 iterations\n",
      "time consumption: 2.960168818522675 seconds\n",
      "process finished after 23 iterations\n",
      "time consumption: 2.943813829211706 seconds\n",
      "process finished after 24 iterations\n",
      "time consumption: 2.9523189026197088 seconds\n",
      "process finished after 25 iterations\n",
      "time consumption: 2.939006204752161 seconds\n",
      "process finished after 25 iterations\n",
      "time consumption: 2.9247488313435497 seconds\n",
      "process finished after 26 iterations\n",
      "time consumption: 2.969625837496096 seconds\n",
      "process finished after 27 iterations\n",
      "time consumption: 3.05546258952279 seconds\n",
      "process finished after 28 iterations\n",
      "time consumption: 3.0846594357007007 seconds\n",
      "process finished after 29 iterations\n",
      "time consumption: 3.130068436589795 seconds\n",
      "process finished after 29 iterations\n",
      "time consumption: 3.5324668604483804 seconds\n",
      "process finished after 30 iterations\n",
      "time consumption: 5.8219990087108044 seconds\n",
      "process finished after 31 iterations\n",
      "time consumption: 3.500347892056311 seconds\n",
      "process finished after 32 iterations\n",
      "time consumption: 4.438565085322352 seconds\n",
      "process finished after 33 iterations\n",
      "time consumption: 6.179872381134032 seconds\n",
      "process finished after 34 iterations\n",
      "time consumption: 3.5655313596785163 seconds\n",
      "process finished after 35 iterations\n",
      "time consumption: 3.1104487786144546 seconds\n",
      "process finished after 36 iterations\n",
      "time consumption: 3.1132926411528388 seconds\n",
      "process finished after 38 iterations\n",
      "time consumption: 3.134265378988516 seconds\n",
      "process finished after 39 iterations\n",
      "time consumption: 3.3082982198275204 seconds\n",
      "process finished after 40 iterations\n",
      "time consumption: 3.603604050515628 seconds\n",
      "process finished after 42 iterations\n",
      "time consumption: 3.955058846572115 seconds\n",
      "process finished after 43 iterations\n",
      "time consumption: 6.037309338261025 seconds\n",
      "process finished after 45 iterations\n",
      "time consumption: 3.5167512056480064 seconds\n",
      "process finished after 47 iterations\n",
      "time consumption: 3.3630526234311446 seconds\n",
      "process finished after 49 iterations\n",
      "time consumption: 3.2921613312526006 seconds\n",
      "process finished after 51 iterations\n",
      "time consumption: 5.137578371933614 seconds\n",
      "process finished after 53 iterations\n",
      "time consumption: 3.332305123784977 seconds\n",
      "process finished after 55 iterations\n",
      "time consumption: 3.301842438041149 seconds\n",
      "process finished after 58 iterations\n",
      "time consumption: 3.4638108869901316 seconds\n",
      "process finished after 61 iterations\n",
      "time consumption: 4.695779408639055 seconds\n",
      "process finished after 64 iterations\n",
      "time consumption: 5.898365057012029 seconds\n",
      "process finished after 67 iterations\n",
      "time consumption: 6.180551914603711 seconds\n",
      "process finished after 70 iterations\n",
      "time consumption: 3.6013114268962454 seconds\n",
      "process finished after 74 iterations\n",
      "time consumption: 3.640990365506923 seconds\n",
      "process finished after 79 iterations\n",
      "time consumption: 3.644872130959584 seconds\n",
      "process finished after 84 iterations\n",
      "time consumption: 3.728172072072425 seconds\n",
      "process finished after 89 iterations\n",
      "time consumption: 3.83679778512294 seconds\n",
      "process finished after 96 iterations\n",
      "time consumption: 5.551049470806333 seconds\n",
      "process finished after 103 iterations\n",
      "time consumption: 5.244069263661913 seconds\n",
      "process finished after 111 iterations\n",
      "time consumption: 4.581108028715676 seconds\n",
      "process finished after 121 iterations\n",
      "time consumption: 4.174020011384073 seconds\n",
      "process finished after 132 iterations\n",
      "time consumption: 6.62265365303756 seconds\n",
      "process finished after 147 iterations\n",
      "time consumption: 4.617834482068474 seconds\n",
      "process finished after 164 iterations\n",
      "time consumption: 4.715397783668891 seconds\n",
      "process finished after 186 iterations\n",
      "time consumption: 6.551693509450388 seconds\n",
      "process finished after 214 iterations\n",
      "time consumption: 5.582922968958201 seconds\n",
      "process finished after 254 iterations\n",
      "time consumption: 5.908229197359333 seconds\n",
      "process finished after 311 iterations\n",
      "time consumption: 6.5773036676419 seconds\n",
      "process finished after 403 iterations\n",
      "time consumption: 9.210545469940712 seconds\n",
      "process finished after 575 iterations\n",
      "time consumption: 10.871118288003345 seconds\n",
      "process finished after 1033 iterations\n",
      "time consumption: 15.976762435697651 seconds\n"
     ]
    }
   ],
   "source": [
    "#graph of time of pagerank algorithm depending on alpha\n",
    "def pagerank3(matrix, max_num_of_steps, tolerance, alpha):\n",
    "    '''returns timing of calculation of pagerank vector of adjacency matrix, 0<=alpha<=1'''\n",
    "    start = timer()\n",
    "    A = Amatrix(matrix, alpha)           #column stohastic matrix from given matrix\n",
    "    r = A[:,0]  #first guess for vector r is first column of Q\n",
    "    diff = 1000\n",
    "    k = 0\n",
    "    while diff > tolerance and k < max_num_of_steps:\n",
    "        r, q = A.dot(r), r              #inner product of matrix Q and vector r\n",
    "        #r = q/np.linalg.norm(q, ord=1)  #not necessary\n",
    "        diff = np.linalg.norm(q-r, ord=1)\n",
    "        k+=1\n",
    "    print('process finished after {} iterations'.format(k))\n",
    "    end = timer()\n",
    "    print('time consumption: {} seconds'.format(end-start))  #timing of the process\n",
    "    return (end-start, k)\n",
    "\n",
    "timings = {}\n",
    "for alpha in range (0,100):\n",
    "    timings[alpha/100] = pagerank3(M_fb, 100000, 0.0000001, alpha/100)"
   ]
  },
  {
   "cell_type": "code",
   "execution_count": 27,
   "metadata": {
    "collapsed": true
   },
   "outputs": [],
   "source": [
    "iterations= [i[1] for i in timings.values()]"
   ]
  },
  {
   "cell_type": "code",
   "execution_count": 28,
   "metadata": {
    "scrolled": true
   },
   "outputs": [
    {
     "data": {
      "image/png": "[encoded data removed]",
      "text/plain": [
       "<matplotlib.figure.Figure at 0x12d10550>"
      ]
     },
     "metadata": {},
     "output_type": "display_data"
    }
   ],
   "source": [
    "plt.plot(timings.keys(), iterations)\n",
    "plt.xlabel('α')\n",
    "plt.ylabel('število iteracij')\n",
    "plt.title('Zahtevnost Googlovega pagerank algoritma v odvisnosti od α')\n",
    "plt.savefig('Pagerank_alpha.png')\n",
    "plt.show()"
   ]
  },
  {
   "cell_type": "code",
   "execution_count": 29,
   "metadata": {},
   "outputs": [
    {
     "name": "stdout",
     "output_type": "stream",
     "text": [
      "process finished after 7 iterations\n",
      "time consumption: 2.9018550964368615 seconds\n",
      "process finished after 20 iterations\n",
      "time consumption: 3.0837194642932673 seconds\n",
      "process finished after 34 iterations\n",
      "time consumption: 4.516126411186519 seconds\n",
      "process finished after 48 iterations\n",
      "time consumption: 4.8010668974827695 seconds\n",
      "process finished after 62 iterations\n",
      "time consumption: 3.413983421778198 seconds\n",
      "process finished after 76 iterations\n",
      "time consumption: 3.587216132269873 seconds\n",
      "process finished after 89 iterations\n",
      "time consumption: 4.677653099232884 seconds\n",
      "process finished after 103 iterations\n",
      "time consumption: 6.764798883324261 seconds\n",
      "process finished after 117 iterations\n",
      "time consumption: 7.34585388362575 seconds\n",
      "process finished after 131 iterations\n",
      "time consumption: 4.516743080326478 seconds\n",
      "process finished after 145 iterations\n",
      "time consumption: 4.566520510663622 seconds\n",
      "process finished after 159 iterations\n",
      "time consumption: 4.80356308178898 seconds\n",
      "process finished after 173 iterations\n",
      "time consumption: 5.100269461321204 seconds\n",
      "process finished after 187 iterations\n",
      "time consumption: 5.931619004528443 seconds\n",
      "process finished after 201 iterations\n",
      "time consumption: 7.171242862011923 seconds\n",
      "process finished after 215 iterations\n",
      "time consumption: 5.495954231346673 seconds\n",
      "process finished after 259 iterations\n",
      "time consumption: 9.111814260281449 seconds\n",
      "process finished after 309 iterations\n",
      "time consumption: 9.103717163544388 seconds\n",
      "process finished after 338 iterations\n",
      "time consumption: 6.8716678163283405 seconds\n"
     ]
    }
   ],
   "source": [
    "#tolerance\n",
    "timings2 = {}\n",
    "d = [10**(-x) for x in range (1, 20)]\n",
    "for tol in d:\n",
    "    timings2[tol] = pagerank3(M_fb, 100000, tol, 0.85)"
   ]
  },
  {
   "cell_type": "code",
   "execution_count": 30,
   "metadata": {
    "collapsed": true
   },
   "outputs": [],
   "source": [
    "iterations2 = [i[1] for i in timings2.values()]"
   ]
  },
  {
   "cell_type": "code",
   "execution_count": 109,
   "metadata": {},
   "outputs": [
    {
     "data": {
      "image/png": "[encoded data removed]",
      "text/plain": [
       "<matplotlib.figure.Figure at 0x10abb7f0>"
      ]
     },
     "metadata": {},
     "output_type": "display_data"
    }
   ],
   "source": [
    "plt.plot(timings2.keys(), iterations2)\n",
    "plt.xlabel('toleranca')\n",
    "plt.ylabel('število iteracij')\n",
    "plt.axis(xscale='lin')\n",
    "plt.title('Zahtevnost Googlovega pagerank algoritma v odvisnosti od tolerance')\n",
    "#plt.savefig('Pagerank_tolerance.png')\n",
    "#plt.axis([10**(-20), 0.1, 0, None])\n",
    "plt.show()"
   ]
  },
  {
   "cell_type": "code",
   "execution_count": null,
   "metadata": {
    "collapsed": true
   },
   "outputs": [],
   "source": []
  }
 ],
 "metadata": {
  "kernelspec": {
   "display_name": "Python 3",
   "language": "python",
   "name": "python3"
  },
  "language_info": {
   "codemirror_mode": {
    "name": "ipython",
    "version": 3
   },
   "file_extension": ".py",
   "mimetype": "text/x-python",
   "name": "python",
   "nbconvert_exporter": "python",
   "pygments_lexer": "ipython3",
   "version": "3.6.3"
  }
 },
 "nbformat": 4,
 "nbformat_minor": 2
}
