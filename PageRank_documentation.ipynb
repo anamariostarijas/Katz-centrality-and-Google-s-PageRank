{
 "cells": [
  {
   "cell_type": "markdown",
   "metadata": {},
   "source": [
    "# Katz centrality and Google's PageRank"
   ]
  },
  {
   "cell_type": "markdown",
   "metadata": {},
   "source": [
    "## Google's PageRank"
   ]
  },
  {
   "cell_type": "code",
   "execution_count": 24,
   "metadata": {
    "collapsed": true
   },
   "outputs": [],
   "source": [
    "#import libraries\n",
    "import networkx as nx \n",
    "import matplotlib.pyplot as plt\n",
    "import numpy as np\n",
    "from timeit import default_timer as timer\n",
    "import pandas as pd"
   ]
  },
  {
   "cell_type": "markdown",
   "metadata": {},
   "source": [
    "For simplicity we will not take directed graphs but rather undirected and then assume that every edge points in both directions."
   ]
  },
  {
   "cell_type": "code",
   "execution_count": 2,
   "metadata": {
    "collapsed": true
   },
   "outputs": [],
   "source": [
    "#computing adjacency matrix, belonging to graph G and H\n",
    "G = nx.barabasi_albert_graph(5,1) \n",
    "H = nx.complete_graph(100)\n",
    "M = nx.adjacency_matrix(G)\n",
    "N = nx.adjacency_matrix(H)\n",
    "#print(M.todense())"
   ]
  },
  {
   "cell_type": "markdown",
   "metadata": {},
   "source": [
    "### Algorithm \n",
    "#### General model\n",
    "1. generate network\n",
    "2. find square \"adjacency matrix\" Q that belongs to selected network: <br>\n",
    "     (i,j) = 1/(#outlinks of j) ; if there exists a link from j to i <br>\n",
    "     (i,j) = 0 ; otherwise <br>\n",
    "The sum of every column should be 1. <br>\n",
    "3. use power method for finding eigenvector r <br>\n",
    "     for k=1,2... until convergence: <br>\n",
    "        r^(k) = Q*r^(k-1)"
   ]
  },
  {
   "cell_type": "code",
   "execution_count": 3,
   "metadata": {
    "collapsed": true
   },
   "outputs": [],
   "source": [
    "def Qmatrix(matrix):\n",
    "    '''for given adjecency matrix returns column stohastic matrix Q'''\n",
    "    sums = np.sum(matrix, axis=0)        #array of sums of columns in matrix\n",
    "    return np.nan_to_num(matrix/sums)                   #divide every column with its sum\n",
    "\n",
    "def pagerank1(matrix, max_num_of_steps, tolerance):\n",
    "    '''returns pagerank vector of matrix, \n",
    "    warning: do not use this function when #(nodes) * max_num_of_steps >> 1000003'''\n",
    "    start = timer()\n",
    "    Q = Qmatrix(matrix)           #column stohastic matrix from given matrix\n",
    "    r = Q[:,0]                    #first guess for vector r is first column of Q \n",
    "    diff = 1000 \n",
    "    k = 0 \n",
    "    while diff > tolerance and k < max_num_of_steps:\n",
    "        r, q = Q.dot(r), r               #inner product of matrix Q and vector r\n",
    "        #r = q/np.linalg.norm(q, ord=1)  #not necessary\n",
    "        diff = np.linalg.norm(q-r, ord=1)\n",
    "        k+=1\n",
    "    print('process finished after {} iterations'.format(k))\n",
    "    end = timer()\n",
    "    print('time consumption: {} seconds'.format(end-start))  #timing of the process\n",
    "    return r"
   ]
  },
  {
   "cell_type": "markdown",
   "metadata": {},
   "source": [
    "First, we check if the function pagerank1 works correctly. We use it on complete graph, where we know what is the correct pagerank vector. \n",
    "We will compare how size of graph (number of nodes and edges), prescribed maximum number of steps, inclusion of normalizing the vector and different first guesses for vector r affect time consumption of iteration and precision of pagerank vector.  "
   ]
  },
  {
   "cell_type": "code",
   "execution_count": 4,
   "metadata": {},
   "outputs": [
    {
     "name": "stdout",
     "output_type": "stream",
     "text": [
      "process finished after 2 iterations\n",
      "time consumption: 0.0990882961585618 seconds\n",
      "process finished after 2 iterations\n",
      "time consumption: 0.0011867245930817644 seconds\n"
     ]
    },
    {
     "data": {
      "text/plain": [
       "matrix([[ 0.00999898],\n",
       "        [ 0.01000001],\n",
       "        [ 0.01000001],\n",
       "        [ 0.01000001],\n",
       "        [ 0.01000001],\n",
       "        [ 0.01000001],\n",
       "        [ 0.01000001],\n",
       "        [ 0.01000001],\n",
       "        [ 0.01000001],\n",
       "        [ 0.01000001],\n",
       "        [ 0.01000001],\n",
       "        [ 0.01000001],\n",
       "        [ 0.01000001],\n",
       "        [ 0.01000001],\n",
       "        [ 0.01000001],\n",
       "        [ 0.01000001],\n",
       "        [ 0.01000001],\n",
       "        [ 0.01000001],\n",
       "        [ 0.01000001],\n",
       "        [ 0.01000001],\n",
       "        [ 0.01000001],\n",
       "        [ 0.01000001],\n",
       "        [ 0.01000001],\n",
       "        [ 0.01000001],\n",
       "        [ 0.01000001],\n",
       "        [ 0.01000001],\n",
       "        [ 0.01000001],\n",
       "        [ 0.01000001],\n",
       "        [ 0.01000001],\n",
       "        [ 0.01000001],\n",
       "        [ 0.01000001],\n",
       "        [ 0.01000001],\n",
       "        [ 0.01000001],\n",
       "        [ 0.01000001],\n",
       "        [ 0.01000001],\n",
       "        [ 0.01000001],\n",
       "        [ 0.01000001],\n",
       "        [ 0.01000001],\n",
       "        [ 0.01000001],\n",
       "        [ 0.01000001],\n",
       "        [ 0.01000001],\n",
       "        [ 0.01000001],\n",
       "        [ 0.01000001],\n",
       "        [ 0.01000001],\n",
       "        [ 0.01000001],\n",
       "        [ 0.01000001],\n",
       "        [ 0.01000001],\n",
       "        [ 0.01000001],\n",
       "        [ 0.01000001],\n",
       "        [ 0.01000001],\n",
       "        [ 0.01000001],\n",
       "        [ 0.01000001],\n",
       "        [ 0.01000001],\n",
       "        [ 0.01000001],\n",
       "        [ 0.01000001],\n",
       "        [ 0.01000001],\n",
       "        [ 0.01000001],\n",
       "        [ 0.01000001],\n",
       "        [ 0.01000001],\n",
       "        [ 0.01000001],\n",
       "        [ 0.01000001],\n",
       "        [ 0.01000001],\n",
       "        [ 0.01000001],\n",
       "        [ 0.01000001],\n",
       "        [ 0.01000001],\n",
       "        [ 0.01000001],\n",
       "        [ 0.01000001],\n",
       "        [ 0.01000001],\n",
       "        [ 0.01000001],\n",
       "        [ 0.01000001],\n",
       "        [ 0.01000001],\n",
       "        [ 0.01000001],\n",
       "        [ 0.01000001],\n",
       "        [ 0.01000001],\n",
       "        [ 0.01000001],\n",
       "        [ 0.01000001],\n",
       "        [ 0.01000001],\n",
       "        [ 0.01000001],\n",
       "        [ 0.01000001],\n",
       "        [ 0.01000001],\n",
       "        [ 0.01000001],\n",
       "        [ 0.01000001],\n",
       "        [ 0.01000001],\n",
       "        [ 0.01000001],\n",
       "        [ 0.01000001],\n",
       "        [ 0.01000001],\n",
       "        [ 0.01000001],\n",
       "        [ 0.01000001],\n",
       "        [ 0.01000001],\n",
       "        [ 0.01000001],\n",
       "        [ 0.01000001],\n",
       "        [ 0.01000001],\n",
       "        [ 0.01000001],\n",
       "        [ 0.01000001],\n",
       "        [ 0.01000001],\n",
       "        [ 0.01000001],\n",
       "        [ 0.01000001],\n",
       "        [ 0.01000001],\n",
       "        [ 0.01000001],\n",
       "        [ 0.01000001]])"
      ]
     },
     "execution_count": 4,
     "metadata": {},
     "output_type": "execute_result"
    }
   ],
   "source": [
    "pagerank1(N, 1000, 0.001)\n",
    "pagerank1(N, 10, 0.001)"
   ]
  },
  {
   "cell_type": "markdown",
   "metadata": {},
   "source": [
    "With enough number of steps we get the right result, so pagerank1 works correctly. \n",
    "Now we use it on barabasi albert graph."
   ]
  },
  {
   "cell_type": "code",
   "execution_count": 5,
   "metadata": {},
   "outputs": [
    {
     "name": "stdout",
     "output_type": "stream",
     "text": [
      "process finished after 10 iterations\n",
      "time consumption: 0.01884903537465646 seconds\n"
     ]
    },
    {
     "data": {
      "text/plain": [
       "matrix([[ 0.],\n",
       "        [ 1.],\n",
       "        [ 0.],\n",
       "        [ 0.],\n",
       "        [ 0.]])"
      ]
     },
     "execution_count": 5,
     "metadata": {},
     "output_type": "execute_result"
    }
   ],
   "source": [
    "Qmatrix(M)\n",
    "#pagerank1(M, 1000, 0)\n",
    "pagerank1(M, 10, 0.1)\n",
    "#Qmatrix(M) (different result if with norm of vector r)"
   ]
  },
  {
   "cell_type": "markdown",
   "metadata": {},
   "source": [
    "Ranking says that some pages are not important at all. For better intuition lets take a look at this graph."
   ]
  },
  {
   "cell_type": "code",
   "execution_count": 6,
   "metadata": {},
   "outputs": [
    {
     "data": {
      "image/png": "[encoded data removed]",
      "text/plain": [
       "<matplotlib.figure.Figure at 0x8bf5a90>"
      ]
     },
     "metadata": {},
     "output_type": "display_data"
    }
   ],
   "source": [
    "nx.draw(G, with_labels=True)\n",
    "plt.show()"
   ]
  },
  {
   "cell_type": "markdown",
   "metadata": {},
   "source": [
    "#### Adjusted model\n",
    "1. generate network\n",
    "2. find matrix Q and then adjust it: every zero column should have constant values in all places: <br>\n",
    "    d[j] = 1 ; if #(outlinks of j) = 0 <br>\n",
    "    d[j] = 0 ; otherwise <br>\n",
    "    e = [1 ... 1]^T <br>\n",
    "    => P = Q + 1/n*e*d^t <br>\n",
    "    => A =  α*P + (1- α)/n*e*e^T, where 0 <= α <=1 <br>\n",
    "3. use power method for finding r <br>\n",
    "    for k=1,2... until convergence: <br>\n",
    "        r^(k) = A*r^(k-1)"
   ]
  },
  {
   "cell_type": "code",
   "execution_count": 7,
   "metadata": {
    "collapsed": true
   },
   "outputs": [],
   "source": [
    "def Qmatrix(matrix):\n",
    "    '''for given adjecency matrix of a network returns column stohastic matrix Q,\n",
    "    some columns may still be zero'''\n",
    "    sums = np.sum(matrix, axis=0)       #array of sums of columns in matrix\n",
    "    return np.nan_to_num(matrix/sums)   #divide every column with it's sum, if sum is 0,  \n",
    "                                        #returns zero column instead of nan\n",
    "\n",
    "def dvector(matrix):\n",
    "    '''for given adjecency matrix returns transposed vector d, where d[j] = 1 ; if #(outlinks of j) = 0 \n",
    "    and d[j] = 0 ; otherwise'''\n",
    "    Q = Qmatrix(matrix)             #compute matrix Q\n",
    "    sums = np.sum(matrix, axis=0)   #array of sums of columns in matrix \n",
    "    d_bool = (sums == 0)            #booleninan array, True if the sum of a column is equal to 0, false otherwise\n",
    "    d = d_bool*1                    #convert False to 0 and True to 1\n",
    "    return d\n",
    "\n",
    "def evector(n):\n",
    "    '''returns vector v of ones in size of n''' # n = num of columns in matrix\n",
    "    return np.ones((n,1))    \n",
    "\n",
    "def Pmatrix(matrix):\n",
    "    '''returns column stohastic matrix P without zero columns'''\n",
    "    n = matrix.shape[1]\n",
    "    Q = Qmatrix(matrix)\n",
    "    e = evector(n)\n",
    "    d = dvector(matrix)\n",
    "    return Q + 1/n*e.dot(d)\n",
    "\n",
    "def Amatrix(matrix, alpha):\n",
    "    '''returns ireducible column stohastic matrix A of given matrix, \n",
    "    where 0 <= alpha <= 1'''\n",
    "    n = matrix.shape[1]\n",
    "    e = evector(n)\n",
    "    P = Pmatrix(matrix)\n",
    "    return alpha*P + (1-alpha)*1/n*e.dot(e.transpose())\n",
    "\n",
    "def pagerank2(matrix, max_num_of_steps, tolerance, alpha):\n",
    "    '''returns pagerank vector of adjacency matrix, 0<=alpha<=1'''\n",
    "    start = timer()\n",
    "    A = Amatrix(matrix, alpha)           #column stohastic matrix from given matrix\n",
    "    r = A[:,0]  #first guess for vector r is first column of Q\n",
    "    diff = 1000\n",
    "    k = 0\n",
    "    while diff > tolerance and k < max_num_of_steps:\n",
    "        r, q = A.dot(r), r              #inner product of matrix Q and vector r\n",
    "        #r = q/np.linalg.norm(q, ord=1)  #not necessary\n",
    "        diff = np.linalg.norm(q-r, ord=1)\n",
    "        k+=1\n",
    "    print('process finished after {} iterations'.format(k))\n",
    "    end = timer()\n",
    "    print('time consumption: {} seconds'.format(end-start))  #timing of the process\n",
    "    return r"
   ]
  },
  {
   "cell_type": "markdown",
   "metadata": {},
   "source": [
    "Let's see how every one of these functions works and what output they produce. <br>\n",
    "Firstly, let's take a look at adjacency matrix of directed graph $T$:"
   ]
  },
  {
   "cell_type": "code",
   "execution_count": 8,
   "metadata": {},
   "outputs": [
    {
     "data": {
      "image/png": "[encoded data removed]",
      "text/plain": [
       "<matplotlib.figure.Figure at 0x98bc668>"
      ]
     },
     "metadata": {},
     "output_type": "display_data"
    },
    {
     "name": "stdout",
     "output_type": "stream",
     "text": [
      "[[0 1 0 0 0]\n",
      " [0 0 1 1 1]\n",
      " [0 0 0 0 0]\n",
      " [0 0 0 0 0]\n",
      " [0 1 0 0 0]]\n"
     ]
    }
   ],
   "source": [
    "T = nx.DiGraph()   # or DiGraph, etc\n",
    "T.add_edges_from( ((1,2), (2,3), (2,4), (2,5), (5,2)) )\n",
    "nx.draw(T, with_labels=True)\n",
    "plt.show()\n",
    "R = nx.adjacency_matrix(T)\n",
    "print(R.todense())"
   ]
  },
  {
   "cell_type": "markdown",
   "metadata": {},
   "source": [
    "First column of $R$ is a zero column and general pagerank (pagerank1) does not work well in these cases. Now we compute column stohastic matrix Q with *Qmatrix* function. Zero column will not change in this process."
   ]
  },
  {
   "cell_type": "code",
   "execution_count": 9,
   "metadata": {
    "scrolled": true
   },
   "outputs": [
    {
     "name": "stderr",
     "output_type": "stream",
     "text": [
      "C:\\Users\\Anamari\\Anaconda3\\lib\\site-packages\\scipy\\sparse\\base.py:484: RuntimeWarning: invalid value encountered in true_divide\n",
      "  return np.true_divide(self.todense(), other)\n"
     ]
    },
    {
     "data": {
      "text/plain": [
       "matrix([[ 0. ,  0.5,  0. ,  0. ,  0. ],\n",
       "        [ 0. ,  0. ,  1. ,  1. ,  1. ],\n",
       "        [ 0. ,  0. ,  0. ,  0. ,  0. ],\n",
       "        [ 0. ,  0. ,  0. ,  0. ,  0. ],\n",
       "        [ 0. ,  0.5,  0. ,  0. ,  0. ]])"
      ]
     },
     "execution_count": 9,
     "metadata": {},
     "output_type": "execute_result"
    }
   ],
   "source": [
    "Qmatrix(R)"
   ]
  },
  {
   "cell_type": "markdown",
   "metadata": {},
   "source": [
    "That zero column could be a problem. It means that random surfer in this network could get stuck in that web page. We replace zeros with equal constant values in all places. For that we use the *Pmatrix* function. "
   ]
  },
  {
   "cell_type": "code",
   "execution_count": 10,
   "metadata": {
    "scrolled": true
   },
   "outputs": [
    {
     "name": "stderr",
     "output_type": "stream",
     "text": [
      "C:\\Users\\Anamari\\Anaconda3\\lib\\site-packages\\scipy\\sparse\\base.py:484: RuntimeWarning: invalid value encountered in true_divide\n",
      "  return np.true_divide(self.todense(), other)\n"
     ]
    },
    {
     "data": {
      "text/plain": [
       "matrix([[ 0.2,  0.5,  0. ,  0. ,  0. ],\n",
       "        [ 0.2,  0. ,  1. ,  1. ,  1. ],\n",
       "        [ 0.2,  0. ,  0. ,  0. ,  0. ],\n",
       "        [ 0.2,  0. ,  0. ,  0. ,  0. ],\n",
       "        [ 0.2,  0.5,  0. ,  0. ,  0. ]])"
      ]
     },
     "execution_count": 10,
     "metadata": {},
     "output_type": "execute_result"
    }
   ],
   "source": [
    "Pmatrix(R)"
   ]
  },
  {
   "cell_type": "markdown",
   "metadata": {},
   "source": [
    "Zero column was replaced by 0.2 in all places. Now we have a real column stohastic matrix. <br>\n",
    "Next, we want to have irreducible matrix, which due to the size of the web, we usually do not have. For that purpuse we add links from and to all pages with *Amatrix* function.   \n"
   ]
  },
  {
   "cell_type": "code",
   "execution_count": 11,
   "metadata": {},
   "outputs": [
    {
     "name": "stderr",
     "output_type": "stream",
     "text": [
      "C:\\Users\\Anamari\\Anaconda3\\lib\\site-packages\\scipy\\sparse\\base.py:484: RuntimeWarning: invalid value encountered in true_divide\n",
      "  return np.true_divide(self.todense(), other)\n"
     ]
    },
    {
     "data": {
      "text/plain": [
       "matrix([[ 0.2  ,  0.494,  0.004,  0.004,  0.004],\n",
       "        [ 0.2  ,  0.004,  0.984,  0.984,  0.984],\n",
       "        [ 0.2  ,  0.004,  0.004,  0.004,  0.004],\n",
       "        [ 0.2  ,  0.004,  0.004,  0.004,  0.004],\n",
       "        [ 0.2  ,  0.494,  0.004,  0.004,  0.004]])"
      ]
     },
     "execution_count": 11,
     "metadata": {},
     "output_type": "execute_result"
    }
   ],
   "source": [
    "Amatrix(R, 0.98)"
   ]
  },
  {
   "cell_type": "code",
   "execution_count": 12,
   "metadata": {
    "scrolled": true
   },
   "outputs": [
    {
     "name": "stdout",
     "output_type": "stream",
     "text": [
      "process finished after 12 iterations\n",
      "time consumption: 0.008048344807855434 seconds\n"
     ]
    },
    {
     "name": "stderr",
     "output_type": "stream",
     "text": [
      "C:\\Users\\Anamari\\Anaconda3\\lib\\site-packages\\scipy\\sparse\\base.py:484: RuntimeWarning: invalid value encountered in true_divide\n",
      "  return np.true_divide(self.todense(), other)\n"
     ]
    },
    {
     "data": {
      "text/plain": [
       "matrix([[ 0.2489753 ],\n",
       "        [ 0.39941354],\n",
       "        [ 0.05131793],\n",
       "        [ 0.05131793],\n",
       "        [ 0.2489753 ]])"
      ]
     },
     "execution_count": 12,
     "metadata": {},
     "output_type": "execute_result"
    }
   ],
   "source": [
    "pagerank2(R,10000000,0.001, 0.99)"
   ]
  },
  {
   "cell_type": "code",
   "execution_count": 13,
   "metadata": {},
   "outputs": [
    {
     "name": "stderr",
     "output_type": "stream",
     "text": [
      "C:\\Users\\Anamari\\Anaconda3\\lib\\site-packages\\scipy\\sparse\\base.py:484: RuntimeWarning: invalid value encountered in true_divide\n",
      "  return np.true_divide(self.todense(), other)\n"
     ]
    },
    {
     "name": "stdout",
     "output_type": "stream",
     "text": [
      "process finished after 49 iterations\n",
      "time consumption: 0.010825494179917738 seconds\n"
     ]
    },
    {
     "data": {
      "image/png": "[encoded data removed]",
      "text/plain": [
       "<matplotlib.figure.Figure at 0x9974390>"
      ]
     },
     "metadata": {},
     "output_type": "display_data"
    },
    {
     "data": {
      "text/plain": [
       "0.2490015190994057"
      ]
     },
     "execution_count": 13,
     "metadata": {},
     "output_type": "execute_result"
    }
   ],
   "source": [
    "#pagerank on graph\n",
    "from itertools import chain\n",
    "r = pagerank2(R,100,0, 0.99) \n",
    "keys = list(range(1, r.shape[0]+2))\n",
    "values = list(chain.from_iterable(r.tolist()))\n",
    "t = {k: v for k, v in zip(keys, values)}\n",
    "#t\n",
    "nx.set_node_attributes(T, t, 'pagerank')\n",
    "nx.draw(T, with_labels=True, labels = t, with_attributes=True)\n",
    "plt.show()\n",
    "T.node[1]['pagerank']"
   ]
  },
  {
   "cell_type": "code",
   "execution_count": 14,
   "metadata": {},
   "outputs": [
    {
     "data": {
      "image/png": "[encoded data removed]",
      "text/plain": [
       "<matplotlib.figure.Figure at 0x9d13f60>"
      ]
     },
     "metadata": {},
     "output_type": "display_data"
    }
   ],
   "source": [
    "# pagerank on bigger network\n",
    "O = nx.karate_club_graph() \n",
    "nx.draw(O, with_labels=True)\n",
    "plt.show()\n",
    "#R = nx.adjacency_matrix(T)\n",
    "#print(R.todense())"
   ]
  },
  {
   "cell_type": "code",
   "execution_count": 15,
   "metadata": {
    "collapsed": true
   },
   "outputs": [],
   "source": [
    "#citation:@misc{snapnets,\n",
    "#  author       = {Jure Leskovec and Andrej Krevl},\n",
    "#  title        = {{SNAP Datasets}: {Stanford} Large Network Dataset Collection},\n",
    "#  howpublished = {\\url{http://snap.stanford.edu/data}},\n",
    "#  month        = jun,\n",
    "#  year         = 2014\n",
    "#}\n",
    "G_fb = nx.read_edgelist('facebook_combined.txt')"
   ]
  },
  {
   "cell_type": "code",
   "execution_count": 16,
   "metadata": {},
   "outputs": [
    {
     "name": "stdout",
     "output_type": "stream",
     "text": [
      "Name: \n",
      "Type: Graph\n",
      "Number of nodes: 4039\n",
      "Number of edges: 88234\n",
      "Average degree:  43.6910\n"
     ]
    }
   ],
   "source": [
    "print(nx.info(G_fb))"
   ]
  },
  {
   "cell_type": "code",
   "execution_count": 17,
   "metadata": {},
   "outputs": [
    {
     "data": {
      "image/png": "[encoded data removed]",
      "text/plain": [
       "<matplotlib.figure.Figure at 0x96bb9e8>"
      ]
     },
     "metadata": {},
     "output_type": "display_data"
    }
   ],
   "source": [
    "spring_pos = nx.spring_layout(G_fb)\n",
    "nx.draw(G_fb, pos = spring_pos, node_size = 35)\n",
    "#plt.savefig(\"Facebook_graph.png\", format=\"PNG\")\n",
    "plt.show()"
   ]
  },
  {
   "cell_type": "code",
   "execution_count": 18,
   "metadata": {},
   "outputs": [
    {
     "name": "stdout",
     "output_type": "stream",
     "text": [
      "process finished after 575 iterations\n",
      "time consumption: 11.775641055795717 seconds\n",
      "[[  4.79508113e-03]\n",
      " [  2.17910466e-04]\n",
      " [  1.52316417e-04]\n",
      " ..., \n",
      " [  6.77736016e-05]\n",
      " [  1.25649865e-04]\n",
      " [  2.72346363e-04]]\n"
     ]
    }
   ],
   "source": [
    "M_fb = nx.adjacency_matrix(G_fb)\n",
    "r_1 = pagerank2(M_fb,10000000,0.0000001, 0.98)\n",
    "print(r_1)"
   ]
  },
  {
   "cell_type": "code",
   "execution_count": 39,
   "metadata": {},
   "outputs": [
    {
     "name": "stdout",
     "output_type": "stream",
     "text": [
      "process finished after 4 iterations\n",
      "time consumption: 3.715699313379446 seconds\n"
     ]
    },
    {
     "data": {
      "text/plain": [
       "matrix([[ 0.00039399],\n",
       "        [ 0.00024719],\n",
       "        [ 0.00024658],\n",
       "        ..., \n",
       "        [ 0.00024578],\n",
       "        [ 0.00024585],\n",
       "        [ 0.00024747]])"
      ]
     },
     "execution_count": 39,
     "metadata": {},
     "output_type": "execute_result"
    }
   ],
   "source": [
    "pagerank2(M_fb,10000000,0.0000001, 0.01)"
   ]
  },
  {
   "cell_type": "code",
   "execution_count": 33,
   "metadata": {},
   "outputs": [
    {
     "name": "stdout",
     "output_type": "stream",
     "text": [
      "process finished after 23 iterations\n",
      "time consumption: 4.623708095422444 seconds\n"
     ]
    }
   ],
   "source": [
    "r_3 = pagerank2(M_fb,10000000,0.0000001, 0.5)"
   ]
  },
  {
   "cell_type": "code",
   "execution_count": 30,
   "metadata": {
    "scrolled": true
   },
   "outputs": [
    {
     "name": "stdout",
     "output_type": "stream",
     "text": [
      "process finished after 4719 iterations\n",
      "time consumption: 61.73710875091092 seconds\n",
      "[[  2.37207123e-03]\n",
      " [  1.15387662e-04]\n",
      " [  6.99886732e-05]\n",
      " ..., \n",
      " [  2.37766591e-05]\n",
      " [  4.70770334e-05]\n",
      " [  1.04002744e-04]]\n"
     ]
    }
   ],
   "source": [
    "r_2 = pagerank2(M_fb,10000000,0.0000001, 0.999)\n",
    "print(r_2)"
   ]
  },
  {
   "cell_type": "code",
   "execution_count": 36,
   "metadata": {},
   "outputs": [
    {
     "name": "stdout",
     "output_type": "stream",
     "text": [
      "process finished after 8104 iterations\n",
      "time consumption: 105.30294071864228 seconds\n",
      "[[  1.99799361e-03]\n",
      " [  9.77897213e-05]\n",
      " [  5.77554403e-05]\n",
      " ..., \n",
      " [  1.28541957e-05]\n",
      " [  2.56615989e-05]\n",
      " [  5.75079410e-05]]\n"
     ]
    }
   ],
   "source": [
    "r_4 = pagerank2(M_fb,10000000,0.0000001, 0.9999)\n",
    "print(r_4)"
   ]
  },
  {
   "cell_type": "code",
   "execution_count": 32,
   "metadata": {},
   "outputs": [
    {
     "name": "stdout",
     "output_type": "stream",
     "text": [
      "0.00717920758147\n"
     ]
    }
   ],
   "source": [
    "#residual pagerank vector from alpha_1 = 0.98 and alpha_2 = 0.999  \n",
    "diff_1 = np.linalg.norm(r_1-r_2, ord=2)\n",
    "print(diff_1)"
   ]
  },
  {
   "cell_type": "code",
   "execution_count": 35,
   "metadata": {},
   "outputs": [
    {
     "name": "stdout",
     "output_type": "stream",
     "text": [
      "0.0124715721855\n"
     ]
    }
   ],
   "source": [
    "#from alpha_2 = 0.999 and alpha_3 = 0.5\n",
    "diff_2 = np.linalg.norm(r_3-r_2, ord=2)\n",
    "print(diff_2)"
   ]
  },
  {
   "cell_type": "code",
   "execution_count": 37,
   "metadata": {},
   "outputs": [
    {
     "name": "stdout",
     "output_type": "stream",
     "text": [
      "0.00371765512728\n"
     ]
    }
   ],
   "source": [
    "diff_3 = np.linalg.norm(r_4-r_2, ord=2)\n",
    "print(diff_3)"
   ]
  },
  {
   "cell_type": "code",
   "execution_count": 22,
   "metadata": {
    "collapsed": true
   },
   "outputs": [
    {
     "name": "stdout",
     "output_type": "stream",
     "text": [
      "process finished after 1 iterations\n",
      "time consumption: 3.928401804847681 seconds\n",
      "process finished after 4 iterations\n",
      "time consumption: 2.678531489256102 seconds\n",
      "process finished after 5 iterations\n",
      "time consumption: 6.372947126822055 seconds\n",
      "process finished after 5 iterations\n",
      "time consumption: 4.052821432374458 seconds\n",
      "process finished after 6 iterations\n",
      "time consumption: 2.717094692924775 seconds\n",
      "process finished after 6 iterations\n",
      "time consumption: 2.7385857407448384 seconds\n",
      "process finished after 6 iterations\n",
      "time consumption: 2.6765313772120862 seconds\n",
      "process finished after 7 iterations\n",
      "time consumption: 2.750775861294642 seconds\n",
      "process finished after 7 iterations\n",
      "time consumption: 2.772170688201868 seconds\n",
      "process finished after 7 iterations\n",
      "time consumption: 2.7279342995052502 seconds\n",
      "process finished after 8 iterations\n",
      "time consumption: 4.392322597502698 seconds\n",
      "process finished after 8 iterations\n",
      "time consumption: 2.980928587404378 seconds\n",
      "process finished after 8 iterations\n",
      "time consumption: 2.756112914599953 seconds\n",
      "process finished after 9 iterations\n",
      "time consumption: 6.709272146526018 seconds\n",
      "process finished after 9 iterations\n",
      "time consumption: 5.364503207149937 seconds\n",
      "process finished after 9 iterations\n",
      "time consumption: 3.187703052854431 seconds\n",
      "process finished after 10 iterations\n",
      "time consumption: 3.982648589679229 seconds\n",
      "process finished after 10 iterations\n",
      "time consumption: 4.48642836096451 seconds\n",
      "process finished after 10 iterations\n",
      "time consumption: 2.8133181717685147 seconds\n",
      "process finished after 10 iterations\n",
      "time consumption: 2.8000332710535076 seconds\n",
      "process finished after 11 iterations\n",
      "time consumption: 4.094861846013146 seconds\n",
      "process finished after 11 iterations\n",
      "time consumption: 4.464872310571991 seconds\n",
      "process finished after 11 iterations\n",
      "time consumption: 3.862351921360414 seconds\n",
      "process finished after 12 iterations\n",
      "time consumption: 2.8794424660948152 seconds\n",
      "process finished after 12 iterations\n",
      "time consumption: 4.036555821600359 seconds\n",
      "process finished after 12 iterations\n",
      "time consumption: 4.434282185574602 seconds\n",
      "process finished after 13 iterations\n",
      "time consumption: 2.843632463481981 seconds\n",
      "process finished after 13 iterations\n",
      "time consumption: 2.8507040591111945 seconds\n",
      "process finished after 13 iterations\n",
      "time consumption: 2.834688622710928 seconds\n",
      "process finished after 14 iterations\n",
      "time consumption: 2.8775325878848435 seconds\n",
      "process finished after 14 iterations\n",
      "time consumption: 3.6293946763748863 seconds\n",
      "process finished after 14 iterations\n",
      "time consumption: 5.968362563821302 seconds\n",
      "process finished after 15 iterations\n",
      "time consumption: 3.994763016444267 seconds\n",
      "process finished after 15 iterations\n",
      "time consumption: 3.332639544913718 seconds\n",
      "process finished after 16 iterations\n",
      "time consumption: 3.8409040660392293 seconds\n",
      "process finished after 16 iterations\n",
      "time consumption: 3.7884585366980446 seconds\n",
      "process finished after 16 iterations\n",
      "time consumption: 6.350764143725883 seconds\n",
      "process finished after 17 iterations\n",
      "time consumption: 4.493199747345216 seconds\n",
      "process finished after 17 iterations\n",
      "time consumption: 2.906876972795999 seconds\n",
      "process finished after 18 iterations\n",
      "time consumption: 2.9562241887401797 seconds\n",
      "process finished after 18 iterations\n",
      "time consumption: 3.763947435156524 seconds\n",
      "process finished after 19 iterations\n",
      "time consumption: 6.53447851900205 seconds\n",
      "process finished after 19 iterations\n",
      "time consumption: 5.4894266046119355 seconds\n",
      "process finished after 20 iterations\n",
      "time consumption: 6.253117450667332 seconds\n",
      "process finished after 20 iterations\n",
      "time consumption: 4.873398082167569 seconds\n",
      "process finished after 21 iterations\n",
      "time consumption: 3.4079471631723663 seconds\n",
      "process finished after 21 iterations\n",
      "time consumption: 3.641090435256274 seconds\n",
      "process finished after 22 iterations\n",
      "time consumption: 4.209194100674495 seconds\n",
      "process finished after 22 iterations\n",
      "time consumption: 2.95350990369775 seconds\n",
      "process finished after 23 iterations\n",
      "time consumption: 2.964037326871903 seconds\n",
      "process finished after 23 iterations\n",
      "time consumption: 2.947626743255796 seconds\n",
      "process finished after 24 iterations\n",
      "time consumption: 2.980016413149542 seconds\n",
      "process finished after 25 iterations\n",
      "time consumption: 3.0124172019045545 seconds\n",
      "process finished after 25 iterations\n",
      "time consumption: 2.995566567979722 seconds\n",
      "process finished after 26 iterations\n",
      "time consumption: 5.026789185111511 seconds\n",
      "process finished after 27 iterations\n",
      "time consumption: 3.0097486752520126 seconds\n",
      "process finished after 28 iterations\n",
      "time consumption: 3.0186198157775834 seconds\n",
      "process finished after 29 iterations\n",
      "time consumption: 3.1187507189840744 seconds\n",
      "process finished after 29 iterations\n",
      "time consumption: 3.0249224994001906 seconds\n",
      "process finished after 30 iterations\n",
      "time consumption: 3.038802686830195 seconds\n",
      "process finished after 31 iterations\n",
      "time consumption: 4.193024283164959 seconds\n",
      "process finished after 32 iterations\n",
      "time consumption: 4.930686730793923 seconds\n",
      "process finished after 33 iterations\n",
      "time consumption: 4.386976991227584 seconds\n",
      "process finished after 34 iterations\n",
      "time consumption: 4.145912385940619 seconds\n",
      "process finished after 35 iterations\n",
      "time consumption: 6.043594488294957 seconds\n",
      "process finished after 36 iterations\n",
      "time consumption: 3.152534950642803 seconds\n",
      "process finished after 38 iterations\n",
      "time consumption: 4.95348723832717 seconds\n",
      "process finished after 39 iterations\n",
      "time consumption: 3.383528433707397 seconds\n",
      "process finished after 40 iterations\n",
      "time consumption: 3.1573344497810467 seconds\n",
      "process finished after 42 iterations\n",
      "time consumption: 3.310335109642665 seconds\n",
      "process finished after 43 iterations\n",
      "time consumption: 3.186417113808602 seconds\n",
      "process finished after 45 iterations\n",
      "time consumption: 4.066190152195986 seconds\n",
      "process finished after 47 iterations\n",
      "time consumption: 6.7264918411081 seconds\n",
      "process finished after 49 iterations\n",
      "time consumption: 6.115229888867134 seconds\n",
      "process finished after 51 iterations\n",
      "time consumption: 4.563811357403438 seconds\n",
      "process finished after 53 iterations\n",
      "time consumption: 6.008233088960651 seconds\n",
      "process finished after 55 iterations\n",
      "time consumption: 5.661023987232284 seconds\n",
      "process finished after 58 iterations\n",
      "time consumption: 5.0552256722528455 seconds\n",
      "process finished after 61 iterations\n",
      "time consumption: 3.430659147465576 seconds\n",
      "process finished after 64 iterations\n",
      "time consumption: 5.056914028538813 seconds\n",
      "process finished after 67 iterations\n",
      "time consumption: 3.7235094204550023 seconds\n",
      "process finished after 70 iterations\n",
      "time consumption: 3.5495437204308473 seconds\n",
      "process finished after 74 iterations\n",
      "time consumption: 4.8532742266083915 seconds\n",
      "process finished after 79 iterations\n",
      "time consumption: 4.062492703247472 seconds\n",
      "process finished after 84 iterations\n",
      "time consumption: 4.38163138495247 seconds\n",
      "process finished after 89 iterations\n",
      "time consumption: 5.718733014336067 seconds\n",
      "process finished after 96 iterations\n",
      "time consumption: 3.874071200909839 seconds\n",
      "process finished after 103 iterations\n",
      "time consumption: 3.926142110163255 seconds\n",
      "process finished after 111 iterations\n",
      "time consumption: 6.83004350468218 seconds\n",
      "process finished after 121 iterations\n",
      "time consumption: 4.270265727949663 seconds\n",
      "process finished after 132 iterations\n",
      "time consumption: 4.2758798974839465 seconds\n",
      "process finished after 147 iterations\n",
      "time consumption: 8.583173998629036 seconds\n",
      "process finished after 164 iterations\n",
      "time consumption: 5.138785196006211 seconds\n",
      "process finished after 186 iterations\n",
      "time consumption: 4.982148668580521 seconds\n",
      "process finished after 214 iterations\n",
      "time consumption: 6.536714265370392 seconds\n",
      "process finished after 254 iterations\n",
      "time consumption: 8.323224863141832 seconds\n",
      "process finished after 311 iterations\n",
      "time consumption: 10.098722229040732 seconds\n",
      "process finished after 403 iterations\n",
      "time consumption: 7.663974334247541 seconds\n",
      "process finished after 575 iterations\n",
      "time consumption: 13.14674886641069 seconds\n",
      "process finished after 1033 iterations\n",
      "time consumption: 15.708956541931684 seconds\n"
     ]
    }
   ],
   "source": [
    "#graph of time of pagerank algorithm depending on alpha\n",
    "def pagerank3(matrix, max_num_of_steps, tolerance, alpha):\n",
    "    '''returns timing of calculation of pagerank vector of adjacency matrix, 0<=alpha<=1'''\n",
    "    start = timer()\n",
    "    A = Amatrix(matrix, alpha)           #column stohastic matrix from given matrix\n",
    "    r = A[:,0]  #first guess for vector r is first column of Q\n",
    "    diff = 1000\n",
    "    k = 0\n",
    "    while diff > tolerance and k < max_num_of_steps:\n",
    "        r, q = A.dot(r), r              #inner product of matrix Q and vector r\n",
    "        #r = q/np.linalg.norm(q, ord=1)  #not necessary\n",
    "        diff = np.linalg.norm(q-r, ord=1)\n",
    "        k+=1\n",
    "    print('process finished after {} iterations'.format(k))\n",
    "    end = timer()\n",
    "    print('time consumption: {} seconds'.format(end-start))  #timing of the process\n",
    "    return (end-start, k)\n",
    "\n",
    "timings = {}\n",
    "for alpha in range (0,100):\n",
    "    timings[alpha/100] = pagerank3(M_fb, 100000, 0.0000001, alpha/100)"
   ]
  },
  {
   "cell_type": "code",
   "execution_count": 50,
   "metadata": {
    "collapsed": true
   },
   "outputs": [
    {
     "data": {
      "text/plain": [
       "[1,\n",
       " 4,\n",
       " 5,\n",
       " 5,\n",
       " 6,\n",
       " 6,\n",
       " 6,\n",
       " 7,\n",
       " 7,\n",
       " 7,\n",
       " 8,\n",
       " 8,\n",
       " 8,\n",
       " 9,\n",
       " 9,\n",
       " 9,\n",
       " 10,\n",
       " 10,\n",
       " 10,\n",
       " 10,\n",
       " 11,\n",
       " 11,\n",
       " 11,\n",
       " 12,\n",
       " 12,\n",
       " 12,\n",
       " 13,\n",
       " 13,\n",
       " 13,\n",
       " 14,\n",
       " 14,\n",
       " 14,\n",
       " 15,\n",
       " 15,\n",
       " 16,\n",
       " 16,\n",
       " 16,\n",
       " 17,\n",
       " 17,\n",
       " 18,\n",
       " 18,\n",
       " 19,\n",
       " 19,\n",
       " 20,\n",
       " 20,\n",
       " 21,\n",
       " 21,\n",
       " 22,\n",
       " 22,\n",
       " 23,\n",
       " 23,\n",
       " 24,\n",
       " 25,\n",
       " 25,\n",
       " 26,\n",
       " 27,\n",
       " 28,\n",
       " 29,\n",
       " 29,\n",
       " 30,\n",
       " 31,\n",
       " 32,\n",
       " 33,\n",
       " 34,\n",
       " 35,\n",
       " 36,\n",
       " 38,\n",
       " 39,\n",
       " 40,\n",
       " 42,\n",
       " 43,\n",
       " 45,\n",
       " 47,\n",
       " 49,\n",
       " 51,\n",
       " 53,\n",
       " 55,\n",
       " 58,\n",
       " 61,\n",
       " 64,\n",
       " 67,\n",
       " 70,\n",
       " 74,\n",
       " 79,\n",
       " 84,\n",
       " 89,\n",
       " 96,\n",
       " 103,\n",
       " 111,\n",
       " 121,\n",
       " 132,\n",
       " 147,\n",
       " 164,\n",
       " 186,\n",
       " 214,\n",
       " 254,\n",
       " 311,\n",
       " 403,\n",
       " 575,\n",
       " 1033]"
      ]
     },
     "execution_count": 50,
     "metadata": {},
     "output_type": "execute_result"
    }
   ],
   "source": [
    "iterations= [i[1] for i in timings.values()]"
   ]
  },
  {
   "cell_type": "code",
   "execution_count": 74,
   "metadata": {
    "scrolled": true
   },
   "outputs": [
    {
     "data": {
      "image/png": "[encoded data removed]",
      "text/plain": [
       "<matplotlib.figure.Figure at 0x100fef28>"
      ]
     },
     "metadata": {},
     "output_type": "display_data"
    }
   ],
   "source": [
    "plt.plot(timings.keys(), iterations)\n",
    "plt.xlabel('α')\n",
    "plt.ylabel('število iteracij')\n",
    "plt.title('Zahtevnost Googlovega pagerank algoritma v odvisnosti od α')\n",
    "plt.savefig('Pagerank_alpha.png')\n",
    "plt.show()"
   ]
  },
  {
   "cell_type": "code",
   "execution_count": 85,
   "metadata": {
    "collapsed": true
   },
   "outputs": [
    {
     "name": "stdout",
     "output_type": "stream",
     "text": [
      "process finished after 7 iterations\n",
      "time consumption: 3.9555262663843678 seconds\n",
      "process finished after 20 iterations\n",
      "time consumption: 2.9535706297847355 seconds\n",
      "process finished after 34 iterations\n",
      "time consumption: 3.9740703883771857 seconds\n",
      "process finished after 48 iterations\n",
      "time consumption: 5.272974453560892 seconds\n",
      "process finished after 62 iterations\n",
      "time consumption: 4.668574976832133 seconds\n",
      "process finished after 76 iterations\n",
      "time consumption: 3.5576959838244875 seconds\n",
      "process finished after 89 iterations\n",
      "time consumption: 3.737286544595918 seconds\n",
      "process finished after 103 iterations\n",
      "time consumption: 5.005633413717078 seconds\n",
      "process finished after 117 iterations\n",
      "time consumption: 7.759644008280702 seconds\n",
      "process finished after 131 iterations\n",
      "time consumption: 4.2641195636788325 seconds\n",
      "process finished after 145 iterations\n",
      "time consumption: 6.181614193482346 seconds\n",
      "process finished after 159 iterations\n",
      "time consumption: 8.975228460521066 seconds\n",
      "process finished after 173 iterations\n",
      "time consumption: 5.889460132254499 seconds\n",
      "process finished after 187 iterations\n",
      "time consumption: 5.0340570714033674 seconds\n",
      "process finished after 201 iterations\n",
      "time consumption: 7.5817118684008165 seconds\n",
      "process finished after 215 iterations\n",
      "time consumption: 5.207312874914351 seconds\n",
      "process finished after 259 iterations\n",
      "time consumption: 6.198901456527892 seconds\n",
      "process finished after 309 iterations\n",
      "time consumption: 6.423938223608275 seconds\n",
      "process finished after 338 iterations\n",
      "time consumption: 6.777546229872314 seconds\n"
     ]
    }
   ],
   "source": [
    "#tolerance\n",
    "timings2 = {}\n",
    "d = [10**(-x) for x in range (1, 20)]\n",
    "for tol in d:\n",
    "    timings2[tol] = pagerank3(M_fb, 100000, tol, 0.85)"
   ]
  },
  {
   "cell_type": "code",
   "execution_count": 87,
   "metadata": {
    "collapsed": true
   },
   "outputs": [
    {
     "data": {
      "text/plain": [
       "[7,\n",
       " 20,\n",
       " 34,\n",
       " 48,\n",
       " 62,\n",
       " 76,\n",
       " 89,\n",
       " 103,\n",
       " 117,\n",
       " 131,\n",
       " 145,\n",
       " 159,\n",
       " 173,\n",
       " 187,\n",
       " 201,\n",
       " 215,\n",
       " 259,\n",
       " 309,\n",
       " 338]"
      ]
     },
     "execution_count": 87,
     "metadata": {},
     "output_type": "execute_result"
    }
   ],
   "source": [
    "iterations2 = [i[1] for i in timings2.values()]"
   ]
  },
  {
   "cell_type": "code",
   "execution_count": 109,
   "metadata": {},
   "outputs": [
    {
     "data": {
      "image/png": "[encoded data removed]",
      "text/plain": [
       "<matplotlib.figure.Figure at 0x10abb7f0>"
      ]
     },
     "metadata": {},
     "output_type": "display_data"
    }
   ],
   "source": [
    "plt.plot(timings2.keys(), iterations2)\n",
    "plt.xlabel('toleranca')\n",
    "plt.ylabel('število iteracij')\n",
    "plt.axis(xscale='lin')\n",
    "plt.title('Zahtevnost Googlovega pagerank algoritma v odvisnosti od tolerance')\n",
    "#plt.savefig('Pagerank_tolerance.png')\n",
    "#plt.axis([10**(-20), 0.1, 0, None])\n",
    "plt.show()"
   ]
  },
  {
   "cell_type": "code",
   "execution_count": null,
   "metadata": {
    "collapsed": true
   },
   "outputs": [],
   "source": []
  }
 ],
 "metadata": {
  "kernelspec": {
   "display_name": "Python 3",
   "language": "python",
   "name": "python3"
  },
  "language_info": {
   "codemirror_mode": {
    "name": "ipython",
    "version": 3
   },
   "file_extension": ".py",
   "mimetype": "text/x-python",
   "name": "python",
   "nbconvert_exporter": "python",
   "pygments_lexer": "ipython3",
   "version": "3.6.3"
  }
 },
 "nbformat": 4,
 "nbformat_minor": 2
}
