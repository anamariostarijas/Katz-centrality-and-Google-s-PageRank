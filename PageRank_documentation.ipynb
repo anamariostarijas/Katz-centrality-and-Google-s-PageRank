{
 "cells": [
  {
   "cell_type": "markdown",
   "metadata": {},
   "source": [
    "# Katz centrality and Google's PageRank"
   ]
  },
  {
   "cell_type": "markdown",
   "metadata": {},
   "source": [
    "## Google's PageRank"
   ]
  },
  {
   "cell_type": "code",
   "execution_count": 1,
   "metadata": {
    "collapsed": true
   },
   "outputs": [],
   "source": [
    "#import libraries\n",
    "import networkx as nx \n",
    "import matplotlib.pyplot as plt\n",
    "import numpy as np\n",
    "from timeit import default_timer as timer"
   ]
  },
  {
   "cell_type": "markdown",
   "metadata": {},
   "source": [
    "For simplicity we will not take directed graphs but rather undirected and then assume that every edge points in both directions."
   ]
  },
  {
   "cell_type": "code",
   "execution_count": 2,
   "metadata": {
    "collapsed": true
   },
   "outputs": [],
   "source": [
    "#computing adjacency matrix, belonging to graph G and H\n",
    "G = nx.barabasi_albert_graph(5,1) \n",
    "H = nx.complete_graph(100)\n",
    "M = nx.adjacency_matrix(G)\n",
    "N = nx.adjacency_matrix(H)\n",
    "#print(M.todense())"
   ]
  },
  {
   "cell_type": "markdown",
   "metadata": {},
   "source": [
    "### Algorithm \n",
    "#### General model\n",
    "1. generate network\n",
    "2. find square \"adjacency matrix\" Q that belongs to selected network: <br>\n",
    "     (i,j) = 1/(#outlinks of j) ; if there exists a link from j to i <br>\n",
    "     (i,j) = 0 ; otherwise <br>\n",
    "The sum of every column should be 1. <br>\n",
    "3. use power method for finding eigenvector r <br>\n",
    "     for k=1,2... until convergence: <br>\n",
    "        r^(k) = Q*r^(k-1)"
   ]
  },
  {
   "cell_type": "code",
   "execution_count": 3,
   "metadata": {},
   "outputs": [],
   "source": [
    "def Qmatrix(matrix):\n",
    "    '''for given adjecency matrix returns column stohastic matrix Q'''\n",
    "    sums = np.sum(matrix, axis=0)        #array of sums of columns in matrix\n",
    "    return np.nan_to_num(matrix/sums)                   #divide every column with its sum\n",
    "\n",
    "def pagerank1(matrix, max_num_of_steps, tolerance):\n",
    "    '''returns pagerank vector of matrix, \n",
    "    warning: do not use this function when #(nodes) * max_num_of_steps >> 1000003'''\n",
    "    start = timer()\n",
    "    Q = Qmatrix(matrix)           #column stohastic matrix from given matrix\n",
    "    r = Q[:,0]                    #first guess for vector r is first column of Q \n",
    "    diff = 1000 \n",
    "    k = 0 \n",
    "    while diff > tolerance and k < max_num_of_steps:\n",
    "        r, q = Q.dot(r), r               #inner product of matrix Q and vector r\n",
    "        #r = q/np.linalg.norm(q, ord=1)  #not necessary\n",
    "        diff = np.linalg.norm(q-r, ord=1)\n",
    "        k+=1\n",
    "    print('process finished after {} iterations'.format(k))\n",
    "    end = timer()\n",
    "    print('time consumption: {} seconds'.format(end-start))  #timing of the process\n",
    "    return r"
   ]
  },
  {
   "cell_type": "markdown",
   "metadata": {},
   "source": [
    "First, we check if the function pagerank1 works correctly. We use it on complete graph, where we know what is the correct pagerank vector. \n",
    "We will compare how size of graph (number of nodes and edges), prescribed maximum number of steps, inclusion of normalizing the vector and different first guesses for vector r affect time consumption of iteration and precision of pagerank vector.  "
   ]
  },
  {
   "cell_type": "code",
   "execution_count": 4,
   "metadata": {},
   "outputs": [
    {
     "name": "stdout",
     "output_type": "stream",
     "text": [
      "process finished after 2 iterations\n",
      "time consumption: 0.021199909851310254 seconds\n",
      "process finished after 2 iterations\n",
      "time consumption: 0.002328983701818242 seconds\n"
     ]
    },
    {
     "data": {
      "text/plain": [
       "matrix([[ 0.00999898],\n",
       "        [ 0.01000001],\n",
       "        [ 0.01000001],\n",
       "        [ 0.01000001],\n",
       "        [ 0.01000001],\n",
       "        [ 0.01000001],\n",
       "        [ 0.01000001],\n",
       "        [ 0.01000001],\n",
       "        [ 0.01000001],\n",
       "        [ 0.01000001],\n",
       "        [ 0.01000001],\n",
       "        [ 0.01000001],\n",
       "        [ 0.01000001],\n",
       "        [ 0.01000001],\n",
       "        [ 0.01000001],\n",
       "        [ 0.01000001],\n",
       "        [ 0.01000001],\n",
       "        [ 0.01000001],\n",
       "        [ 0.01000001],\n",
       "        [ 0.01000001],\n",
       "        [ 0.01000001],\n",
       "        [ 0.01000001],\n",
       "        [ 0.01000001],\n",
       "        [ 0.01000001],\n",
       "        [ 0.01000001],\n",
       "        [ 0.01000001],\n",
       "        [ 0.01000001],\n",
       "        [ 0.01000001],\n",
       "        [ 0.01000001],\n",
       "        [ 0.01000001],\n",
       "        [ 0.01000001],\n",
       "        [ 0.01000001],\n",
       "        [ 0.01000001],\n",
       "        [ 0.01000001],\n",
       "        [ 0.01000001],\n",
       "        [ 0.01000001],\n",
       "        [ 0.01000001],\n",
       "        [ 0.01000001],\n",
       "        [ 0.01000001],\n",
       "        [ 0.01000001],\n",
       "        [ 0.01000001],\n",
       "        [ 0.01000001],\n",
       "        [ 0.01000001],\n",
       "        [ 0.01000001],\n",
       "        [ 0.01000001],\n",
       "        [ 0.01000001],\n",
       "        [ 0.01000001],\n",
       "        [ 0.01000001],\n",
       "        [ 0.01000001],\n",
       "        [ 0.01000001],\n",
       "        [ 0.01000001],\n",
       "        [ 0.01000001],\n",
       "        [ 0.01000001],\n",
       "        [ 0.01000001],\n",
       "        [ 0.01000001],\n",
       "        [ 0.01000001],\n",
       "        [ 0.01000001],\n",
       "        [ 0.01000001],\n",
       "        [ 0.01000001],\n",
       "        [ 0.01000001],\n",
       "        [ 0.01000001],\n",
       "        [ 0.01000001],\n",
       "        [ 0.01000001],\n",
       "        [ 0.01000001],\n",
       "        [ 0.01000001],\n",
       "        [ 0.01000001],\n",
       "        [ 0.01000001],\n",
       "        [ 0.01000001],\n",
       "        [ 0.01000001],\n",
       "        [ 0.01000001],\n",
       "        [ 0.01000001],\n",
       "        [ 0.01000001],\n",
       "        [ 0.01000001],\n",
       "        [ 0.01000001],\n",
       "        [ 0.01000001],\n",
       "        [ 0.01000001],\n",
       "        [ 0.01000001],\n",
       "        [ 0.01000001],\n",
       "        [ 0.01000001],\n",
       "        [ 0.01000001],\n",
       "        [ 0.01000001],\n",
       "        [ 0.01000001],\n",
       "        [ 0.01000001],\n",
       "        [ 0.01000001],\n",
       "        [ 0.01000001],\n",
       "        [ 0.01000001],\n",
       "        [ 0.01000001],\n",
       "        [ 0.01000001],\n",
       "        [ 0.01000001],\n",
       "        [ 0.01000001],\n",
       "        [ 0.01000001],\n",
       "        [ 0.01000001],\n",
       "        [ 0.01000001],\n",
       "        [ 0.01000001],\n",
       "        [ 0.01000001],\n",
       "        [ 0.01000001],\n",
       "        [ 0.01000001],\n",
       "        [ 0.01000001],\n",
       "        [ 0.01000001],\n",
       "        [ 0.01000001]])"
      ]
     },
     "execution_count": 4,
     "metadata": {},
     "output_type": "execute_result"
    }
   ],
   "source": [
    "pagerank1(N, 1000, 0.001)\n",
    "pagerank1(N, 10, 0.001)"
   ]
  },
  {
   "cell_type": "markdown",
   "metadata": {},
   "source": [
    "With enough number of steps we get the right result, so pagerank1 works correctly. \n",
    "Now we use it on barabasi albert graph."
   ]
  },
  {
   "cell_type": "code",
   "execution_count": 5,
   "metadata": {},
   "outputs": [
    {
     "name": "stdout",
     "output_type": "stream",
     "text": [
      "process finished after 10 iterations\n",
      "time consumption: 0.0033715952084346357 seconds\n"
     ]
    },
    {
     "data": {
      "text/plain": [
       "matrix([[ 0.        ],\n",
       "        [ 0.75102881],\n",
       "        [ 0.        ],\n",
       "        [ 0.24897119],\n",
       "        [ 0.        ]])"
      ]
     },
     "execution_count": 5,
     "metadata": {},
     "output_type": "execute_result"
    }
   ],
   "source": [
    "Qmatrix(M)\n",
    "#pagerank1(M, 1000, 0)\n",
    "pagerank1(M, 10, 0.1)\n",
    "#Qmatrix(M) (different result if with norm of vector r)"
   ]
  },
  {
   "cell_type": "markdown",
   "metadata": {},
   "source": [
    "Ranking says that some pages are not important at all. For better intuition lets take a look at this graph."
   ]
  },
  {
   "cell_type": "code",
   "execution_count": 6,
   "metadata": {},
   "outputs": [
    {
     "data": {
      "image/png": "[encoded data removed]",
      "text/plain": [
       "<matplotlib.figure.Figure at 0x8a8f6a0>"
      ]
     },
     "metadata": {},
     "output_type": "display_data"
    }
   ],
   "source": [
    "nx.draw(G, with_labels=True)\n",
    "plt.show()"
   ]
  },
  {
   "cell_type": "markdown",
   "metadata": {},
   "source": [
    "#### Adjusted model\n",
    "1. generate network\n",
    "2. find matrix Q and then adjust it: every zero column should have constant values in all places: <br>\n",
    "    d[j] = 1 ; if #(outlinks of j) = 0 <br>\n",
    "    d[j] = 0 ; otherwise <br>\n",
    "    e = [1 ... 1]^T <br>\n",
    "    => P = Q + 1/n*e*d^t <br>\n",
    "    => A =  α*P + (1- α)/n*e*e^T, where 0 <= α <=1 <br>\n",
    "3. use power method for finding r <br>\n",
    "    for k=1,2... until convergence: <br>\n",
    "        r^(k) = A*r^(k-1)"
   ]
  },
  {
   "cell_type": "code",
   "execution_count": 7,
   "metadata": {},
   "outputs": [],
   "source": [
    "def Qmatrix(matrix):\n",
    "    '''for given adjecency matrix of a network returns column stohastic matrix Q,\n",
    "    some columns may still be zero'''\n",
    "    sums = np.sum(matrix, axis=0)       #array of sums of columns in matrix\n",
    "    return np.nan_to_num(matrix/sums)   #divide every column with it's sum, if sum is 0,  \n",
    "                                        #returns zero column instead of nan\n",
    "\n",
    "def dvector(matrix):\n",
    "    '''for given adjecency matrix returns transposed vector d, where d[j] = 1 ; if #(outlinks of j) = 0 \n",
    "    and d[j] = 0 ; otherwise'''\n",
    "    Q = Qmatrix(matrix)             #compute matrix Q\n",
    "    sums = np.sum(matrix, axis=0)   #array of sums of columns in matrix \n",
    "    d_bool = (sums == 0)            #booleninan array, True if the sum of a column is equal to 0, false otherwise\n",
    "    d = d_bool*1                    #convert False to 0 and True to 1\n",
    "    return d\n",
    "\n",
    "def evector(n):\n",
    "    '''returns vector v of ones in size of n''' # n = num of columns in matrix\n",
    "    return np.ones((n,1))    \n",
    "\n",
    "def Pmatrix(matrix):\n",
    "    '''returns column stohastic matrix P without zero columns'''\n",
    "    n = matrix.shape[1]\n",
    "    Q = Qmatrix(matrix)\n",
    "    e = evector(n)\n",
    "    d = dvector(matrix)\n",
    "    return Q + 1/n*e.dot(d)\n",
    "\n",
    "def Amatrix(matrix, alpha):\n",
    "    '''returns ireducible column stohastic matrix A of given matrix, \n",
    "    where 0 <= alpha <= 1'''\n",
    "    n = matrix.shape[1]\n",
    "    e = evector(n)\n",
    "    P = Pmatrix(matrix)\n",
    "    return alpha*P + (1-alpha)*1/n*e.dot(e.transpose())\n",
    "\n",
    "def pagerank2(matrix, max_num_of_steps, tolerance, alpha):\n",
    "    '''returns pagerank vector of adjacency matrix, 0<=alpha<=1, \n",
    "    warning: do not use this function when #(nodes) * max_num_of_steps >> 1000000'''\n",
    "    start = timer()\n",
    "    A = Amatrix(matrix, alpha)           #column stohastic matrix from given matrix\n",
    "    r = A[:,0]  #first guess for vector r is first column of Q\n",
    "    diff = 1000\n",
    "    k = 0\n",
    "    while diff > tolerance and k < max_num_of_steps:\n",
    "        r, q = A.dot(r), r              #inner product of matrix Q and vector r\n",
    "        #r = q/np.linalg.norm(q, ord=1)  #not necessary\n",
    "        diff = np.linalg.norm(q-r, ord=1)\n",
    "        k+=1\n",
    "    print('process finished after {} iterations'.format(k))\n",
    "    end = timer()\n",
    "    print('time consumption: {} seconds'.format(end-start))  #timing of the process\n",
    "    return r"
   ]
  },
  {
   "cell_type": "markdown",
   "metadata": {},
   "source": [
    "Let's see how every one of these functions works and what output they produce. <br>\n",
    "Firstly, let's take a look at adjacency matrix of directed graph $T$:"
   ]
  },
  {
   "cell_type": "code",
   "execution_count": 8,
   "metadata": {},
   "outputs": [
    {
     "data": {
      "image/png": "[encoded data removed]",
      "text/plain": [
       "<matplotlib.figure.Figure at 0x973c908>"
      ]
     },
     "metadata": {},
     "output_type": "display_data"
    },
    {
     "name": "stdout",
     "output_type": "stream",
     "text": [
      "[[0 1 0 0 0]\n",
      " [0 0 1 1 1]\n",
      " [0 0 0 0 0]\n",
      " [0 0 0 0 0]\n",
      " [0 1 0 0 0]]\n"
     ]
    }
   ],
   "source": [
    "T = nx.DiGraph()   # or DiGraph, etc\n",
    "T.add_edges_from( ((1,2), (2,3), (2,4), (2,5), (5,2)) )\n",
    "nx.draw(T, with_labels=True)\n",
    "plt.show()\n",
    "R = nx.adjacency_matrix(T)\n",
    "print(R.todense())"
   ]
  },
  {
   "cell_type": "markdown",
   "metadata": {},
   "source": [
    "First column of $R$ is a zero column and general pagerank (pagerank1) does not work well in these cases. Now we compute column stohastic matrix Q with *Qmatrix* function. Zero column will not change in this process."
   ]
  },
  {
   "cell_type": "code",
   "execution_count": 9,
   "metadata": {
    "scrolled": true
   },
   "outputs": [
    {
     "name": "stderr",
     "output_type": "stream",
     "text": [
      "C:\\Users\\Anamari\\Anaconda3\\lib\\site-packages\\scipy\\sparse\\base.py:484: RuntimeWarning: invalid value encountered in true_divide\n",
      "  return np.true_divide(self.todense(), other)\n"
     ]
    },
    {
     "data": {
      "text/plain": [
       "matrix([[ 0. ,  0.5,  0. ,  0. ,  0. ],\n",
       "        [ 0. ,  0. ,  1. ,  1. ,  1. ],\n",
       "        [ 0. ,  0. ,  0. ,  0. ,  0. ],\n",
       "        [ 0. ,  0. ,  0. ,  0. ,  0. ],\n",
       "        [ 0. ,  0.5,  0. ,  0. ,  0. ]])"
      ]
     },
     "execution_count": 9,
     "metadata": {},
     "output_type": "execute_result"
    }
   ],
   "source": [
    "Qmatrix(R)"
   ]
  },
  {
   "cell_type": "markdown",
   "metadata": {},
   "source": [
    "That zero column could be a problem. It means that random surfer in this network could get stuck in that web page. We replace zeros with equal constant values in all places. For that we use the *Pmatrix* function. "
   ]
  },
  {
   "cell_type": "code",
   "execution_count": 10,
   "metadata": {
    "scrolled": true
   },
   "outputs": [
    {
     "name": "stderr",
     "output_type": "stream",
     "text": [
      "C:\\Users\\Anamari\\Anaconda3\\lib\\site-packages\\scipy\\sparse\\base.py:484: RuntimeWarning: invalid value encountered in true_divide\n",
      "  return np.true_divide(self.todense(), other)\n"
     ]
    },
    {
     "data": {
      "text/plain": [
       "matrix([[ 0.2,  0.5,  0. ,  0. ,  0. ],\n",
       "        [ 0.2,  0. ,  1. ,  1. ,  1. ],\n",
       "        [ 0.2,  0. ,  0. ,  0. ,  0. ],\n",
       "        [ 0.2,  0. ,  0. ,  0. ,  0. ],\n",
       "        [ 0.2,  0.5,  0. ,  0. ,  0. ]])"
      ]
     },
     "execution_count": 10,
     "metadata": {},
     "output_type": "execute_result"
    }
   ],
   "source": [
    "Pmatrix(R)"
   ]
  },
  {
   "cell_type": "markdown",
   "metadata": {},
   "source": [
    "Zero column was replaced by 0.2 in all places. Now we have a real column stohastic matrix. <br>\n",
    "Next, we want to have irreducible matrix, which due to the size of the web, we usually do not have. For that purpuse we add links from and to all pages with *Amatrix* function.   \n"
   ]
  },
  {
   "cell_type": "code",
   "execution_count": 11,
   "metadata": {},
   "outputs": [
    {
     "name": "stderr",
     "output_type": "stream",
     "text": [
      "C:\\Users\\Anamari\\Anaconda3\\lib\\site-packages\\scipy\\sparse\\base.py:484: RuntimeWarning: invalid value encountered in true_divide\n",
      "  return np.true_divide(self.todense(), other)\n"
     ]
    },
    {
     "data": {
      "text/plain": [
       "matrix([[ 0.2  ,  0.494,  0.004,  0.004,  0.004],\n",
       "        [ 0.2  ,  0.004,  0.984,  0.984,  0.984],\n",
       "        [ 0.2  ,  0.004,  0.004,  0.004,  0.004],\n",
       "        [ 0.2  ,  0.004,  0.004,  0.004,  0.004],\n",
       "        [ 0.2  ,  0.494,  0.004,  0.004,  0.004]])"
      ]
     },
     "execution_count": 11,
     "metadata": {},
     "output_type": "execute_result"
    }
   ],
   "source": [
    "Amatrix(R, 0.98)"
   ]
  },
  {
   "cell_type": "code",
   "execution_count": 12,
   "metadata": {
    "scrolled": true
   },
   "outputs": [
    {
     "name": "stderr",
     "output_type": "stream",
     "text": [
      "C:\\Users\\Anamari\\Anaconda3\\lib\\site-packages\\scipy\\sparse\\base.py:484: RuntimeWarning: invalid value encountered in true_divide\n",
      "  return np.true_divide(self.todense(), other)\n"
     ]
    },
    {
     "name": "stdout",
     "output_type": "stream",
     "text": [
      "process finished after 12 iterations\n",
      "time consumption: 0.008066768190855278 seconds\n"
     ]
    },
    {
     "data": {
      "text/plain": [
       "matrix([[ 0.2489753 ],\n",
       "        [ 0.39941354],\n",
       "        [ 0.05131793],\n",
       "        [ 0.05131793],\n",
       "        [ 0.2489753 ]])"
      ]
     },
     "execution_count": 12,
     "metadata": {},
     "output_type": "execute_result"
    }
   ],
   "source": [
    "pagerank2(R,10000000,0.001, 0.99)"
   ]
  },
  {
   "cell_type": "code",
   "execution_count": 13,
   "metadata": {},
   "outputs": [
    {
     "name": "stderr",
     "output_type": "stream",
     "text": [
      "C:\\Users\\Anamari\\Anaconda3\\lib\\site-packages\\scipy\\sparse\\base.py:484: RuntimeWarning: invalid value encountered in true_divide\n",
      "  return np.true_divide(self.todense(), other)\n"
     ]
    },
    {
     "name": "stdout",
     "output_type": "stream",
     "text": [
      "process finished after 49 iterations\n",
      "time consumption: 0.013468847170173603 seconds\n"
     ]
    },
    {
     "data": {
      "image/png": "[encoded data removed]",
      "text/plain": [
       "<matplotlib.figure.Figure at 0xb136a20>"
      ]
     },
     "metadata": {},
     "output_type": "display_data"
    },
    {
     "data": {
      "text/plain": [
       "0.2490015190994057"
      ]
     },
     "execution_count": 13,
     "metadata": {},
     "output_type": "execute_result"
    }
   ],
   "source": [
    "#pagerank on graph\n",
    "from itertools import chain\n",
    "r = pagerank2(R,100,0, 0.99) \n",
    "keys = list(range(1, r.shape[0]+2))\n",
    "values = list(chain.from_iterable(r.tolist()))\n",
    "t = {k: v for k, v in zip(keys, values)}\n",
    "#t\n",
    "nx.set_node_attributes(T, t, 'pagerank')\n",
    "nx.draw(T, with_labels=True, labels = t, with_attributes=True)\n",
    "plt.show()\n",
    "T.node[1]['pagerank']"
   ]
  }
 ],
 "metadata": {
  "kernelspec": {
   "display_name": "Python 3",
   "language": "python",
   "name": "python3"
  },
  "language_info": {
   "codemirror_mode": {
    "name": "ipython",
    "version": 3
   },
   "file_extension": ".py",
   "mimetype": "text/x-python",
   "name": "python",
   "nbconvert_exporter": "python",
   "pygments_lexer": "ipython3",
   "version": "3.6.3"
  }
 },
 "nbformat": 4,
 "nbformat_minor": 2
}
