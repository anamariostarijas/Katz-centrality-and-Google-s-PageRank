{
 "cells": [
  {
   "cell_type": "markdown",
   "metadata": {},
   "source": [
    "# Primerjava algoritmov s Facebook grafom"
   ]
  },
  {
   "cell_type": "code",
   "execution_count": 1,
   "metadata": {},
   "outputs": [],
   "source": [
    "#import libraries\n",
    "import networkx as nx \n",
    "import matplotlib.pyplot as plt\n",
    "import numpy as np\n",
    "from timeit import default_timer as timer\n",
    "import pandas as pd\n",
    "import itertools"
   ]
  },
  {
   "cell_type": "markdown",
   "metadata": {},
   "source": [
    "## Algoritem za Katzovo središčnost"
   ]
  },
  {
   "cell_type": "code",
   "execution_count": 2,
   "metadata": {},
   "outputs": [],
   "source": [
    "def katz(G, max_num_of_steps, tolerance, alpha, beta, vector=None):\n",
    "    '''Computes the Katz centrality for the nodes of the graph G.'''\n",
    "    start = timer()\n",
    "    A = nx.adjacency_matrix(G)\n",
    "    diff = 1000\n",
    "    k = 0\n",
    "    ones = np.ones((A.shape[1], 1))\n",
    "    if vector is None:\n",
    "        vector = ones\n",
    "    r = beta * vector\n",
    "    while diff > tolerance and k < max_num_of_steps:\n",
    "        # inner product of matrix A and vector r\n",
    "        r, q = alpha*A.dot(r) + beta * ones, r\n",
    "        diff = np.linalg.norm(q-r, ord=1)\n",
    "        k += 1\n",
    "    print('process finished after {} iterations'.format(k))\n",
    "    end = timer()\n",
    "    # timing of the process\n",
    "    print('time consumption: {} seconds'.format(end-start))\n",
    "    return r/np.linalg.norm(r,ord = 2)"
   ]
  },
  {
   "cell_type": "markdown",
   "metadata": {},
   "source": [
    "## Algoritem za Googlov PageRank"
   ]
  },
  {
   "cell_type": "code",
   "execution_count": 3,
   "metadata": {},
   "outputs": [],
   "source": [
    "def Qmatrix(matrix):\n",
    "    '''for given adjecency matrix of a network returns column stohastic matrix Q,\n",
    "    some columns may still be zero'''\n",
    "    sums = np.sum(matrix, axis=0)       #array of sums of columns in matrix\n",
    "    return np.nan_to_num(matrix/sums)   #divide every column with it's sum, if sum is 0,  \n",
    "                                        #returns zero column instead of nan\n",
    "\n",
    "def dvector(matrix):\n",
    "    '''for given adjecency matrix returns transposed vector d, where d[j] = 1 ; if #(outlinks of j) = 0 \n",
    "    and d[j] = 0 ; otherwise'''\n",
    "    Q = Qmatrix(matrix)             #compute matrix Q\n",
    "    sums = np.sum(matrix, axis=0)   #array of sums of columns in matrix \n",
    "    d_bool = (sums == 0)            #booleninan array, True if the sum of a column is equal to 0, false otherwise\n",
    "    d = d_bool*1                    #convert False to 0 and True to 1\n",
    "    return d\n",
    "\n",
    "def evector(n):\n",
    "    '''returns vector v of ones in size of n''' # n = num of columns in matrix\n",
    "    return np.ones((n,1))    \n",
    "\n",
    "def Pmatrix(matrix):\n",
    "    '''returns column stohastic matrix P without zero columns'''\n",
    "    n = matrix.shape[1]\n",
    "    Q = Qmatrix(matrix)\n",
    "    e = evector(n)\n",
    "    d = dvector(matrix)\n",
    "    return Q + 1/n*e.dot(d)\n",
    "\n",
    "def Amatrix(matrix, alpha):\n",
    "    '''returns ireducible column stohastic matrix A of given matrix, \n",
    "    where 0 <= alpha <= 1'''\n",
    "    n = matrix.shape[1]\n",
    "    e = evector(n)\n",
    "    P = Pmatrix(matrix)\n",
    "    return alpha*P + (1-alpha)*1/n*e.dot(e.transpose())\n",
    "\n",
    "def pagerank2(matrix, max_num_of_steps, tolerance, alpha):\n",
    "    '''returns pagerank vector of adjacency matrix, 0<=alpha<=1'''\n",
    "    start = timer()\n",
    "    A = Amatrix(matrix, alpha)           #column stohastic matrix from given matrix\n",
    "    r = A[:,0]  #first guess for vector r is first column of Q\n",
    "    diff = 1000\n",
    "    k = 0\n",
    "    while diff > tolerance and k < max_num_of_steps:\n",
    "        r, q = A.dot(r), r              #inner product of matrix Q and vector r\n",
    "        #r = q/np.linalg.norm(q, ord=1)  #not necessary\n",
    "        diff = np.linalg.norm(q-r, ord=1)\n",
    "        k+=1\n",
    "    print('process finished after {} iterations'.format(k))\n",
    "    end = timer()\n",
    "    print('time consumption: {} seconds'.format(end-start))  #timing of the process\n",
    "    return r"
   ]
  },
  {
   "cell_type": "markdown",
   "metadata": {},
   "source": [
    "## Funkcija za primerjavo"
   ]
  },
  {
   "cell_type": "code",
   "execution_count": 4,
   "metadata": {},
   "outputs": [],
   "source": [
    "def rank(array):\n",
    "    '''Returns vector with ranked values of array,\n",
    "    where 0 is the minimum value of array'''\n",
    "    temp = array.argsort(axis=0)\n",
    "    ranks = temp.argsort(axis=0)\n",
    "    return ranks"
   ]
  }
 ],
 "metadata": {
  "kernelspec": {
   "display_name": "Python 3",
   "language": "python",
   "name": "python3"
  },
  "language_info": {
   "codemirror_mode": {
    "name": "ipython",
    "version": 3
   },
   "file_extension": ".py",
   "mimetype": "text/x-python",
   "name": "python",
   "nbconvert_exporter": "python",
   "pygments_lexer": "ipython3",
   "version": "3.7.1rc1"
  }
 },
 "nbformat": 4,
 "nbformat_minor": 2
}
