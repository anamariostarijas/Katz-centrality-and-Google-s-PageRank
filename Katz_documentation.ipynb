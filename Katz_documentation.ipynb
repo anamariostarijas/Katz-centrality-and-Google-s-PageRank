{
 "cells": [
  {
   "cell_type": "markdown",
   "metadata": {},
   "source": [
    "# Katz centrality"
   ]
  },
  {
   "cell_type": "code",
   "execution_count": 14,
   "metadata": {},
   "outputs": [],
   "source": [
    "#import libraries\n",
    "import networkx as nx\n",
    "import matplotlib.pyplot as plt\n",
    "import numpy as np\n",
    "from timeit import default_timer as timer\n",
    "import math\n",
    "import scipy.stats as stats\n",
    "import pandas as pd\n",
    "import sklearn\n",
    "from sklearn import preprocessing"
   ]
  },
  {
   "cell_type": "markdown",
   "metadata": {},
   "source": [
    "## Algorithm"
   ]
  },
  {
   "cell_type": "code",
   "execution_count": 15,
   "metadata": {},
   "outputs": [],
   "source": [
    "def katz(G, max_num_of_steps, tolerance, alpha, beta, vector=None):\n",
    "    '''Computes the Katz centrality for the nodes of the graph G.'''\n",
    "    start = timer()\n",
    "    A = nx.adjacency_matrix(G)\n",
    "    diff = 1000\n",
    "    k = 0\n",
    "    ones = np.ones((A.shape[1], 1))\n",
    "    if vector is None:\n",
    "        vector = ones\n",
    "    r = beta * vector\n",
    "    while diff > tolerance and k < max_num_of_steps:\n",
    "        # inner product of matrix A and vector r\n",
    "        r, q = alpha*A.dot(r) + beta * ones, r\n",
    "        diff = np.linalg.norm(q-r, ord=1)\n",
    "        k += 1\n",
    "    r = r/np.linalg.norm(r,ord = 2)\n",
    "    print('process finished after {} iterations'.format(k))\n",
    "    end = timer()\n",
    "    # timing of the process\n",
    "    print('time consumption: {} seconds'.format(end-start))\n",
    "    return r"
   ]
  },
  {
   "cell_type": "markdown",
   "metadata": {},
   "source": [
    "### Small example"
   ]
  },
  {
   "cell_type": "code",
   "execution_count": 16,
   "metadata": {},
   "outputs": [
    {
     "data": {
      "image/png": "[encoded data removed]",
      "text/plain": [
       "<Figure size 432x288 with 1 Axes>"
      ]
     },
     "metadata": {},
     "output_type": "display_data"
    },
    {
     "name": "stdout",
     "output_type": "stream",
     "text": [
      "[[0 1 0 0 0]\n",
      " [0 0 1 1 1]\n",
      " [0 0 0 0 0]\n",
      " [0 0 0 0 0]\n",
      " [0 1 0 0 0]]\n"
     ]
    }
   ],
   "source": [
    "T = nx.DiGraph()   # or DiGraph, etc\n",
    "T.add_edges_from(((1, 2), (2, 3), (2, 4), (2, 5), (5, 2)))\n",
    "nx.draw(T, with_labels=True)\n",
    "plt.show()\n",
    "print(nx.adjacency_matrix(T).todense())"
   ]
  },
  {
   "cell_type": "code",
   "execution_count": 17,
   "metadata": {},
   "outputs": [
    {
     "data": {
      "text/plain": [
       "1.0"
      ]
     },
     "execution_count": 17,
     "metadata": {},
     "output_type": "execute_result"
    }
   ],
   "source": [
    "#največja lastna vrednost\n",
    "l = np.amax(np.linalg.eigvals(nx.adjacency_matrix(T).todense()))\n",
    "l"
   ]
  },
  {
   "cell_type": "markdown",
   "metadata": {},
   "source": [
    "Torej mora biti alpha < 1."
   ]
  },
  {
   "cell_type": "code",
   "execution_count": 18,
   "metadata": {},
   "outputs": [
    {
     "name": "stdout",
     "output_type": "stream",
     "text": [
      "process finished after 4 iterations\n",
      "time consumption: 0.0012862570000038431 seconds\n"
     ]
    },
    {
     "data": {
      "text/plain": [
       "array([[0.45129734],\n",
       "       [0.52382086],\n",
       "       [0.39891924],\n",
       "       [0.39891924],\n",
       "       [0.45129734]])"
      ]
     },
     "execution_count": 18,
     "metadata": {},
     "output_type": "execute_result"
    }
   ],
   "source": [
    "test = katz(T, 10000, 0.001, 0.1,1)\n",
    "test"
   ]
  },
  {
   "cell_type": "code",
   "execution_count": 19,
   "metadata": {},
   "outputs": [
    {
     "name": "stdout",
     "output_type": "stream",
     "text": [
      "process finished after 6 iterations\n",
      "time consumption: 0.0014330299999869567 seconds\n"
     ]
    },
    {
     "data": {
      "text/plain": [
       "array([[0.45129749],\n",
       "       [0.52382738],\n",
       "       [0.39891479],\n",
       "       [0.39891479],\n",
       "       [0.45129749]])"
      ]
     },
     "execution_count": 19,
     "metadata": {},
     "output_type": "execute_result"
    }
   ],
   "source": [
    "test1 = katz(T, 10000, 0.001, 0.1,80)\n",
    "test1"
   ]
  },
  {
   "cell_type": "code",
   "execution_count": 20,
   "metadata": {},
   "outputs": [],
   "source": [
    "def rank(array):\n",
    "    '''Returns vector with ranked values of array,\n",
    "    where 0 is the minimum value of array'''\n",
    "    temp = array.argsort(axis=0)\n",
    "    ranks = temp.argsort(axis=0)\n",
    "    return ranks"
   ]
  },
  {
   "cell_type": "code",
   "execution_count": 21,
   "metadata": {},
   "outputs": [
    {
     "data": {
      "text/plain": [
       "array([[ True],\n",
       "       [ True],\n",
       "       [ True],\n",
       "       [ True],\n",
       "       [ True]])"
      ]
     },
     "execution_count": 21,
     "metadata": {},
     "output_type": "execute_result"
    }
   ],
   "source": [
    "rank(test) == rank(test1)"
   ]
  },
  {
   "cell_type": "markdown",
   "metadata": {},
   "source": [
    "### Katz centrality on networks"
   ]
  },
  {
   "cell_type": "code",
   "execution_count": 22,
   "metadata": {},
   "outputs": [],
   "source": [
    "#citation:@misc{snapnets,\n",
    "#  author       = {Jure Leskovec and Andrej Krevl},\n",
    "#  title        = {{SNAP Datasets}: {Stanford} Large Network Dataset Collection},\n",
    "#  howpublished = {\\url{http://snap.stanford.edu/data}},\n",
    "#  month        = jun,\n",
    "#  year         = 2014\n",
    "#}\n",
    "G_fb = nx.read_edgelist('facebook_combined.txt')"
   ]
  },
  {
   "cell_type": "code",
   "execution_count": 23,
   "metadata": {},
   "outputs": [],
   "source": [
    "M_fb = nx.adjacency_matrix(G_fb)"
   ]
  },
  {
   "cell_type": "code",
   "execution_count": 24,
   "metadata": {},
   "outputs": [
    {
     "name": "stdout",
     "output_type": "stream",
     "text": [
      "Name: \n",
      "Type: Graph\n",
      "Number of nodes: 4039\n",
      "Number of edges: 88234\n",
      "Average degree:  43.6910\n"
     ]
    }
   ],
   "source": [
    "print(nx.info(G_fb))"
   ]
  },
  {
   "cell_type": "code",
   "execution_count": null,
   "metadata": {},
   "outputs": [],
   "source": [
    "spring_pos = nx.spring_layout(G_fb)\n",
    "nx.draw(G_fb, pos = spring_pos, node_size = 35)\n",
    "plt.show()"
   ]
  },
  {
   "cell_type": "markdown",
   "metadata": {},
   "source": [
    "### BETA PARAMETER"
   ]
  },
  {
   "cell_type": "markdown",
   "metadata": {},
   "source": [
    "Poglejmo, če izbira beta parametra vpliva na algoritem. Izberimo fiksen alpha = 0.003. Spodaj bomo videli,da je to dobra izbira."
   ]
  },
  {
   "cell_type": "code",
   "execution_count": 49,
   "metadata": {},
   "outputs": [
    {
     "name": "stdout",
     "output_type": "stream",
     "text": [
      "process finished after 15 iterations\n",
      "time consumption: 0.424404074999984 seconds\n"
     ]
    },
    {
     "data": {
      "text/plain": [
       "array([[0.02708885],\n",
       "       [0.01358665],\n",
       "       [0.01327441],\n",
       "       ...,\n",
       "       [0.01291167],\n",
       "       [0.01299226],\n",
       "       [0.01318997]])"
      ]
     },
     "execution_count": 49,
     "metadata": {},
     "output_type": "execute_result"
    }
   ],
   "source": [
    "b1 = katz(G_fb, 10000000, 0.01, 0.003, 1)\n",
    "b1"
   ]
  },
  {
   "cell_type": "code",
   "execution_count": 38,
   "metadata": {},
   "outputs": [
    {
     "name": "stdout",
     "output_type": "stream",
     "text": [
      "process finished after 18 iterations\n",
      "time consumption: 0.43706014199995025 seconds\n"
     ]
    },
    {
     "data": {
      "text/plain": [
       "array([[0.02708881],\n",
       "       [0.01358663],\n",
       "       [0.01327439],\n",
       "       ...,\n",
       "       [0.01291166],\n",
       "       [0.01299224],\n",
       "       [0.01318995]])"
      ]
     },
     "execution_count": 38,
     "metadata": {},
     "output_type": "execute_result"
    }
   ],
   "source": [
    "b2 = katz(G_fb, 10000000, 0.01, 0.003, 10)\n",
    "b2"
   ]
  },
  {
   "cell_type": "code",
   "execution_count": 30,
   "metadata": {},
   "outputs": [
    {
     "data": {
      "text/plain": [
       "array([[ True],\n",
       "       [ True],\n",
       "       [ True],\n",
       "       ...,\n",
       "       [ True],\n",
       "       [ True],\n",
       "       [ True]])"
      ]
     },
     "execution_count": 30,
     "metadata": {},
     "output_type": "execute_result"
    }
   ],
   "source": [
    "rank(b1) == rank(b2)"
   ]
  },
  {
   "cell_type": "markdown",
   "metadata": {},
   "source": [
    "Vidimo, da dobimo skoraj iste vrednosti, le število iteracij se poveča."
   ]
  },
  {
   "cell_type": "code",
   "execution_count": 41,
   "metadata": {},
   "outputs": [
    {
     "name": "stdout",
     "output_type": "stream",
     "text": [
      "process finished after 7 iterations\n",
      "time consumption: 0.4360076980001395 seconds\n",
      "process finished after 19 iterations\n",
      "time consumption: 0.40359753899997486 seconds\n",
      "process finished after 20 iterations\n",
      "time consumption: 0.4402863109999089 seconds\n",
      "process finished after 20 iterations\n",
      "time consumption: 0.4442878730001212 seconds\n",
      "process finished after 21 iterations\n",
      "time consumption: 0.4453966380001475 seconds\n",
      "process finished after 21 iterations\n",
      "time consumption: 0.40930292400003054 seconds\n",
      "process finished after 21 iterations\n",
      "time consumption: 0.46003983300010987 seconds\n",
      "process finished after 21 iterations\n",
      "time consumption: 0.44740538399992147 seconds\n",
      "process finished after 22 iterations\n",
      "time consumption: 0.43332766300000003 seconds\n",
      "process finished after 22 iterations\n",
      "time consumption: 0.4019375210000362 seconds\n",
      "process finished after 22 iterations\n",
      "time consumption: 0.44200549200013484 seconds\n",
      "process finished after 22 iterations\n",
      "time consumption: 0.4558550879999075 seconds\n",
      "process finished after 22 iterations\n",
      "time consumption: 0.46716459599997506 seconds\n",
      "process finished after 22 iterations\n",
      "time consumption: 0.4486859520000053 seconds\n",
      "process finished after 22 iterations\n",
      "time consumption: 0.45702472399989347 seconds\n",
      "process finished after 23 iterations\n",
      "time consumption: 0.397686216000011 seconds\n",
      "process finished after 23 iterations\n",
      "time consumption: 0.46849864000000707 seconds\n",
      "process finished after 23 iterations\n",
      "time consumption: 0.4517391780000253 seconds\n",
      "process finished after 23 iterations\n",
      "time consumption: 0.47097842599987416 seconds\n",
      "process finished after 23 iterations\n",
      "time consumption: 0.4155311179999899 seconds\n",
      "process finished after 23 iterations\n",
      "time consumption: 0.48608981700022014 seconds\n",
      "process finished after 23 iterations\n",
      "time consumption: 0.4755795979999675 seconds\n",
      "process finished after 23 iterations\n",
      "time consumption: 0.4370572979998997 seconds\n",
      "process finished after 23 iterations\n",
      "time consumption: 0.4016627480000352 seconds\n",
      "process finished after 23 iterations\n",
      "time consumption: 0.4636909610001112 seconds\n",
      "process finished after 23 iterations\n",
      "time consumption: 0.44599397100000715 seconds\n",
      "process finished after 23 iterations\n",
      "time consumption: 0.3996693619999405 seconds\n",
      "process finished after 23 iterations\n",
      "time consumption: 0.4575264839997999 seconds\n",
      "process finished after 23 iterations\n",
      "time consumption: 0.4863873459999013 seconds\n",
      "process finished after 23 iterations\n",
      "time consumption: 0.44478337600003215 seconds\n",
      "process finished after 23 iterations\n",
      "time consumption: 0.47468928700004653 seconds\n",
      "process finished after 24 iterations\n",
      "time consumption: 0.44152876299995114 seconds\n",
      "process finished after 24 iterations\n",
      "time consumption: 0.40862537800012433 seconds\n",
      "process finished after 24 iterations\n",
      "time consumption: 0.46086642899990693 seconds\n",
      "process finished after 24 iterations\n",
      "time consumption: 0.44940332099986335 seconds\n",
      "process finished after 24 iterations\n",
      "time consumption: 0.446735801999921 seconds\n",
      "process finished after 24 iterations\n",
      "time consumption: 0.3962429460000294 seconds\n",
      "process finished after 24 iterations\n",
      "time consumption: 0.458271158000116 seconds\n",
      "process finished after 24 iterations\n",
      "time consumption: 0.42731735400002435 seconds\n",
      "process finished after 24 iterations\n",
      "time consumption: 0.45124026300004516 seconds\n",
      "process finished after 24 iterations\n",
      "time consumption: 0.4004794590000529 seconds\n",
      "process finished after 24 iterations\n",
      "time consumption: 0.4633831920000375 seconds\n",
      "process finished after 24 iterations\n",
      "time consumption: 0.4524940940000306 seconds\n",
      "process finished after 24 iterations\n",
      "time consumption: 0.4259434870000405 seconds\n",
      "process finished after 24 iterations\n",
      "time consumption: 0.44680349999998725 seconds\n",
      "process finished after 24 iterations\n",
      "time consumption: 0.4544425379999666 seconds\n",
      "process finished after 24 iterations\n",
      "time consumption: 0.416552842000101 seconds\n",
      "process finished after 24 iterations\n",
      "time consumption: 0.4472193569999945 seconds\n",
      "process finished after 24 iterations\n",
      "time consumption: 0.44834120599989546 seconds\n",
      "process finished after 24 iterations\n",
      "time consumption: 0.3994708200000332 seconds\n",
      "process finished after 24 iterations\n",
      "time consumption: 0.46858226700010164 seconds\n",
      "process finished after 24 iterations\n",
      "time consumption: 0.4513358359999984 seconds\n",
      "process finished after 24 iterations\n",
      "time consumption: 0.4542667509999774 seconds\n",
      "process finished after 24 iterations\n",
      "time consumption: 0.4538304129998778 seconds\n",
      "process finished after 24 iterations\n",
      "time consumption: 0.4633405259999108 seconds\n",
      "process finished after 24 iterations\n",
      "time consumption: 0.43978625699992335 seconds\n",
      "process finished after 24 iterations\n",
      "time consumption: 0.45881274099997427 seconds\n",
      "process finished after 24 iterations\n",
      "time consumption: 0.43761594700004025 seconds\n",
      "process finished after 24 iterations\n",
      "time consumption: 0.4919106859999829 seconds\n",
      "process finished after 24 iterations\n",
      "time consumption: 0.4952642860000651 seconds\n",
      "process finished after 24 iterations\n",
      "time consumption: 0.4116803089998484 seconds\n",
      "process finished after 24 iterations\n",
      "time consumption: 0.4867355060000591 seconds\n",
      "process finished after 24 iterations\n",
      "time consumption: 0.45725171000003684 seconds\n",
      "process finished after 25 iterations\n",
      "time consumption: 0.40646416799995677 seconds\n",
      "process finished after 25 iterations\n",
      "time consumption: 0.4673546050000823 seconds\n",
      "process finished after 25 iterations\n",
      "time consumption: 0.44687859300006494 seconds\n",
      "process finished after 25 iterations\n",
      "time consumption: 0.4112320249998902 seconds\n",
      "process finished after 25 iterations\n",
      "time consumption: 0.45327290299997003 seconds\n",
      "process finished after 25 iterations\n",
      "time consumption: 0.4543094169998767 seconds\n",
      "process finished after 25 iterations\n",
      "time consumption: 0.4536591779999526 seconds\n",
      "process finished after 25 iterations\n",
      "time consumption: 0.41536215800010723 seconds\n",
      "process finished after 25 iterations\n",
      "time consumption: 0.4548646529999587 seconds\n",
      "process finished after 25 iterations\n",
      "time consumption: 0.44495802500000536 seconds\n",
      "process finished after 25 iterations\n",
      "time consumption: 0.45522874200014485 seconds\n",
      "process finished after 25 iterations\n",
      "time consumption: 0.40047377099995174 seconds\n",
      "process finished after 25 iterations\n",
      "time consumption: 0.4746682380000493 seconds\n",
      "process finished after 25 iterations\n",
      "time consumption: 0.4618318329999056 seconds\n",
      "process finished after 25 iterations\n",
      "time consumption: 0.45387194199997793 seconds\n",
      "process finished after 25 iterations\n",
      "time consumption: 0.48662457299997186 seconds\n",
      "process finished after 25 iterations\n",
      "time consumption: 0.45143539100013186 seconds\n",
      "process finished after 25 iterations\n",
      "time consumption: 0.4439158210000187 seconds\n",
      "process finished after 25 iterations\n",
      "time consumption: 0.44556844199996704 seconds\n",
      "process finished after 25 iterations\n",
      "time consumption: 0.4623335930000394 seconds\n",
      "process finished after 25 iterations\n",
      "time consumption: 0.39930356600007144 seconds\n",
      "process finished after 25 iterations\n",
      "time consumption: 0.45854138100003183 seconds\n",
      "process finished after 25 iterations\n",
      "time consumption: 0.4457339890000185 seconds\n",
      "process finished after 25 iterations\n",
      "time consumption: 0.4540761729999758 seconds\n",
      "process finished after 25 iterations\n",
      "time consumption: 0.40779878100011047 seconds\n",
      "process finished after 25 iterations\n",
      "time consumption: 0.4645340550000583 seconds\n",
      "process finished after 25 iterations\n",
      "time consumption: 0.45212602300011895 seconds\n",
      "process finished after 25 iterations\n",
      "time consumption: 0.45190700099988135 seconds\n",
      "process finished after 25 iterations\n",
      "time consumption: 0.3874610099999245 seconds\n",
      "process finished after 25 iterations\n",
      "time consumption: 0.44630003299994314 seconds\n",
      "process finished after 25 iterations\n",
      "time consumption: 0.4509802810000565 seconds\n",
      "process finished after 25 iterations\n",
      "time consumption: 0.40192784999999276 seconds\n",
      "process finished after 25 iterations\n",
      "time consumption: 0.4459552870000607 seconds\n",
      "process finished after 25 iterations\n",
      "time consumption: 0.4627926860000571 seconds\n",
      "process finished after 25 iterations\n",
      "time consumption: 0.4023203830001876 seconds\n",
      "process finished after 25 iterations\n",
      "time consumption: 0.4520731159998377 seconds\n",
      "process finished after 25 iterations\n",
      "time consumption: 0.45841736299985314 seconds\n"
     ]
    }
   ],
   "source": [
    "#graph of time of katz algorithm depending on beta\n",
    "\n",
    "def katz2(G, max_num_of_steps, tolerance, alpha, beta):\n",
    "    '''Computes the Katz centrality for the nodes of the graph G.'''\n",
    "    start = timer()\n",
    "    A = nx.adjacency_matrix(G)\n",
    "    # first guess for vector r is first column of A\n",
    "    r = A[:, 0]  \n",
    "    diff = 1000\n",
    "    k = 0\n",
    "    vector = np.ones((A.shape[1], 1))\n",
    "    while diff > tolerance and k < max_num_of_steps:\n",
    "        # inner product of matrix A and vector r\n",
    "        r, q = alpha*A.dot(r) + beta * vector, r\n",
    "        diff = np.linalg.norm(q-r, ord=1)\n",
    "        k += 1\n",
    "    #normalized_r = preprocessing.normalize(r, axis=0, norm ='l1')\n",
    "    print('process finished after {} iterations'.format(k))\n",
    "    end = timer()\n",
    "    # timing of the process\n",
    "    print('time consumption: {} seconds'.format(end-start))\n",
    "    return (end-start, k)\n",
    "\n",
    "timings_beta = {}\n",
    "for beta in range (0,1000,10):\n",
    "    timings_beta[beta] = katz2(G_fb, 100000, 0.01, 0.003,beta)"
   ]
  },
  {
   "cell_type": "code",
   "execution_count": 42,
   "metadata": {
    "collapsed": true
   },
   "outputs": [
    {
     "data": {
      "text/plain": [
       "[7,\n",
       " 19,\n",
       " 20,\n",
       " 20,\n",
       " 21,\n",
       " 21,\n",
       " 21,\n",
       " 21,\n",
       " 22,\n",
       " 22,\n",
       " 22,\n",
       " 22,\n",
       " 22,\n",
       " 22,\n",
       " 22,\n",
       " 23,\n",
       " 23,\n",
       " 23,\n",
       " 23,\n",
       " 23,\n",
       " 23,\n",
       " 23,\n",
       " 23,\n",
       " 23,\n",
       " 23,\n",
       " 23,\n",
       " 23,\n",
       " 23,\n",
       " 23,\n",
       " 23,\n",
       " 23,\n",
       " 24,\n",
       " 24,\n",
       " 24,\n",
       " 24,\n",
       " 24,\n",
       " 24,\n",
       " 24,\n",
       " 24,\n",
       " 24,\n",
       " 24,\n",
       " 24,\n",
       " 24,\n",
       " 24,\n",
       " 24,\n",
       " 24,\n",
       " 24,\n",
       " 24,\n",
       " 24,\n",
       " 24,\n",
       " 24,\n",
       " 24,\n",
       " 24,\n",
       " 24,\n",
       " 24,\n",
       " 24,\n",
       " 24,\n",
       " 24,\n",
       " 24,\n",
       " 24,\n",
       " 24,\n",
       " 24,\n",
       " 24,\n",
       " 25,\n",
       " 25,\n",
       " 25,\n",
       " 25,\n",
       " 25,\n",
       " 25,\n",
       " 25,\n",
       " 25,\n",
       " 25,\n",
       " 25,\n",
       " 25,\n",
       " 25,\n",
       " 25,\n",
       " 25,\n",
       " 25,\n",
       " 25,\n",
       " 25,\n",
       " 25,\n",
       " 25,\n",
       " 25,\n",
       " 25,\n",
       " 25,\n",
       " 25,\n",
       " 25,\n",
       " 25,\n",
       " 25,\n",
       " 25,\n",
       " 25,\n",
       " 25,\n",
       " 25,\n",
       " 25,\n",
       " 25,\n",
       " 25,\n",
       " 25,\n",
       " 25,\n",
       " 25,\n",
       " 25]"
      ]
     },
     "execution_count": 42,
     "metadata": {},
     "output_type": "execute_result"
    }
   ],
   "source": [
    "iterations_beta = [i[1] for i in timings_beta.values()]\n",
    "iterations_beta"
   ]
  },
  {
   "cell_type": "code",
   "execution_count": 43,
   "metadata": {},
   "outputs": [
    {
     "data": {
      "text/plain": [
       "{0: (0.4360076980001395, 7),\n",
       " 10: (0.40359753899997486, 19),\n",
       " 20: (0.4402863109999089, 20),\n",
       " 30: (0.4442878730001212, 20),\n",
       " 40: (0.4453966380001475, 21),\n",
       " 50: (0.40930292400003054, 21),\n",
       " 60: (0.46003983300010987, 21),\n",
       " 70: (0.44740538399992147, 21),\n",
       " 80: (0.43332766300000003, 22),\n",
       " 90: (0.4019375210000362, 22),\n",
       " 100: (0.44200549200013484, 22),\n",
       " 110: (0.4558550879999075, 22),\n",
       " 120: (0.46716459599997506, 22),\n",
       " 130: (0.4486859520000053, 22),\n",
       " 140: (0.45702472399989347, 22),\n",
       " 150: (0.397686216000011, 23),\n",
       " 160: (0.46849864000000707, 23),\n",
       " 170: (0.4517391780000253, 23),\n",
       " 180: (0.47097842599987416, 23),\n",
       " 190: (0.4155311179999899, 23),\n",
       " 200: (0.48608981700022014, 23),\n",
       " 210: (0.4755795979999675, 23),\n",
       " 220: (0.4370572979998997, 23),\n",
       " 230: (0.4016627480000352, 23),\n",
       " 240: (0.4636909610001112, 23),\n",
       " 250: (0.44599397100000715, 23),\n",
       " 260: (0.3996693619999405, 23),\n",
       " 270: (0.4575264839997999, 23),\n",
       " 280: (0.4863873459999013, 23),\n",
       " 290: (0.44478337600003215, 23),\n",
       " 300: (0.47468928700004653, 23),\n",
       " 310: (0.44152876299995114, 24),\n",
       " 320: (0.40862537800012433, 24),\n",
       " 330: (0.46086642899990693, 24),\n",
       " 340: (0.44940332099986335, 24),\n",
       " 350: (0.446735801999921, 24),\n",
       " 360: (0.3962429460000294, 24),\n",
       " 370: (0.458271158000116, 24),\n",
       " 380: (0.42731735400002435, 24),\n",
       " 390: (0.45124026300004516, 24),\n",
       " 400: (0.4004794590000529, 24),\n",
       " 410: (0.4633831920000375, 24),\n",
       " 420: (0.4524940940000306, 24),\n",
       " 430: (0.4259434870000405, 24),\n",
       " 440: (0.44680349999998725, 24),\n",
       " 450: (0.4544425379999666, 24),\n",
       " 460: (0.416552842000101, 24),\n",
       " 470: (0.4472193569999945, 24),\n",
       " 480: (0.44834120599989546, 24),\n",
       " 490: (0.3994708200000332, 24),\n",
       " 500: (0.46858226700010164, 24),\n",
       " 510: (0.4513358359999984, 24),\n",
       " 520: (0.4542667509999774, 24),\n",
       " 530: (0.4538304129998778, 24),\n",
       " 540: (0.4633405259999108, 24),\n",
       " 550: (0.43978625699992335, 24),\n",
       " 560: (0.45881274099997427, 24),\n",
       " 570: (0.43761594700004025, 24),\n",
       " 580: (0.4919106859999829, 24),\n",
       " 590: (0.4952642860000651, 24),\n",
       " 600: (0.4116803089998484, 24),\n",
       " 610: (0.4867355060000591, 24),\n",
       " 620: (0.45725171000003684, 24),\n",
       " 630: (0.40646416799995677, 25),\n",
       " 640: (0.4673546050000823, 25),\n",
       " 650: (0.44687859300006494, 25),\n",
       " 660: (0.4112320249998902, 25),\n",
       " 670: (0.45327290299997003, 25),\n",
       " 680: (0.4543094169998767, 25),\n",
       " 690: (0.4536591779999526, 25),\n",
       " 700: (0.41536215800010723, 25),\n",
       " 710: (0.4548646529999587, 25),\n",
       " 720: (0.44495802500000536, 25),\n",
       " 730: (0.45522874200014485, 25),\n",
       " 740: (0.40047377099995174, 25),\n",
       " 750: (0.4746682380000493, 25),\n",
       " 760: (0.4618318329999056, 25),\n",
       " 770: (0.45387194199997793, 25),\n",
       " 780: (0.48662457299997186, 25),\n",
       " 790: (0.45143539100013186, 25),\n",
       " 800: (0.4439158210000187, 25),\n",
       " 810: (0.44556844199996704, 25),\n",
       " 820: (0.4623335930000394, 25),\n",
       " 830: (0.39930356600007144, 25),\n",
       " 840: (0.45854138100003183, 25),\n",
       " 850: (0.4457339890000185, 25),\n",
       " 860: (0.4540761729999758, 25),\n",
       " 870: (0.40779878100011047, 25),\n",
       " 880: (0.4645340550000583, 25),\n",
       " 890: (0.45212602300011895, 25),\n",
       " 900: (0.45190700099988135, 25),\n",
       " 910: (0.3874610099999245, 25),\n",
       " 920: (0.44630003299994314, 25),\n",
       " 930: (0.4509802810000565, 25),\n",
       " 940: (0.40192784999999276, 25),\n",
       " 950: (0.4459552870000607, 25),\n",
       " 960: (0.4627926860000571, 25),\n",
       " 970: (0.4023203830001876, 25),\n",
       " 980: (0.4520731159998377, 25),\n",
       " 990: (0.45841736299985314, 25)}"
      ]
     },
     "execution_count": 43,
     "metadata": {},
     "output_type": "execute_result"
    }
   ],
   "source": [
    "timings_beta"
   ]
  },
  {
   "cell_type": "code",
   "execution_count": 44,
   "metadata": {},
   "outputs": [
    {
     "data": {
      "image/png": "[encoded data removed]",
      "text/plain": [
       "<Figure size 432x288 with 1 Axes>"
      ]
     },
     "metadata": {
      "needs_background": "light"
     },
     "output_type": "display_data"
    }
   ],
   "source": [
    "plt.plot(timings_beta.keys(), iterations_beta)\n",
    "plt.xlabel('β')\n",
    "plt.ylabel('Število iteracij')\n",
    "plt.title('Zahtevnost algoritma Katzove središčnosti v odvisnosti od β')\n",
    "plt.savefig('Katz_beta.png')\n",
    "plt.show()"
   ]
  },
  {
   "cell_type": "markdown",
   "metadata": {},
   "source": [
    "### ALPHA PARAMETER"
   ]
  },
  {
   "cell_type": "code",
   "execution_count": 25,
   "metadata": {},
   "outputs": [
    {
     "data": {
      "text/plain": [
       "(162.37394233563828+0j)"
      ]
     },
     "execution_count": 25,
     "metadata": {},
     "output_type": "execute_result"
    }
   ],
   "source": [
    "#max lastna vrednost\n",
    "np.amax(np.linalg.eigvals(M_fb.todense()))"
   ]
  },
  {
   "cell_type": "code",
   "execution_count": 26,
   "metadata": {},
   "outputs": [
    {
     "data": {
      "text/plain": [
       "0.006158623641304035"
      ]
     },
     "execution_count": 26,
     "metadata": {},
     "output_type": "execute_result"
    }
   ],
   "source": [
    "1/162.37394233563828"
   ]
  },
  {
   "cell_type": "markdown",
   "metadata": {},
   "source": [
    "Vzamem alpha < 0.0061586."
   ]
  },
  {
   "cell_type": "code",
   "execution_count": 27,
   "metadata": {},
   "outputs": [
    {
     "name": "stdout",
     "output_type": "stream",
     "text": [
      "process finished after 104436 iterations\n",
      "time consumption: 213.18206373500004 seconds\n"
     ]
    },
    {
     "name": "stderr",
     "output_type": "stream",
     "text": [
      "c:\\users\\tina\\appdata\\local\\programs\\python\\python37\\lib\\site-packages\\ipykernel_launcher.py:14: RuntimeWarning: invalid value encountered in subtract\n",
      "  \n"
     ]
    },
    {
     "data": {
      "text/plain": [
       "array([[   0],\n",
       "       [2683],\n",
       "       [2684],\n",
       "       ...,\n",
       "       [1352],\n",
       "       [2018],\n",
       "       [4038]], dtype=int64)"
      ]
     },
     "execution_count": 27,
     "metadata": {},
     "output_type": "execute_result"
    }
   ],
   "source": [
    "r1 = katz(G_fb, 10000000, 0.01, 0.0062, 1)\n",
    "rank(r1)"
   ]
  },
  {
   "cell_type": "markdown",
   "metadata": {},
   "source": [
    "Vidimo, če pri izbiri alpha ne upoštevamo zgornje omejitve, se pojavi napaka."
   ]
  },
  {
   "cell_type": "code",
   "execution_count": 53,
   "metadata": {},
   "outputs": [
    {
     "name": "stdout",
     "output_type": "stream",
     "text": [
      "process finished after 1056 iterations\n",
      "time consumption: 1.1106130180000946 seconds\n"
     ]
    },
    {
     "data": {
      "text/plain": [
       "array([[3404],\n",
       "       [1125],\n",
       "       [ 577],\n",
       "       ...,\n",
       "       [  17],\n",
       "       [  91],\n",
       "       [ 361]], dtype=int64)"
      ]
     },
     "execution_count": 53,
     "metadata": {},
     "output_type": "execute_result"
    }
   ],
   "source": [
    "r2 = katz(G_fb, 100000, 0.01, 0.0061, 1)\n",
    "rank(r2)"
   ]
  },
  {
   "cell_type": "code",
   "execution_count": 54,
   "metadata": {},
   "outputs": [
    {
     "name": "stdout",
     "output_type": "stream",
     "text": [
      "process finished after 15 iterations\n",
      "time consumption: 0.2149773610003649 seconds\n"
     ]
    },
    {
     "data": {
      "text/plain": [
       "array([[3977],\n",
       "       [1403],\n",
       "       [ 807],\n",
       "       ...,\n",
       "       [  43],\n",
       "       [ 175],\n",
       "       [ 598]], dtype=int64)"
      ]
     },
     "execution_count": 54,
     "metadata": {},
     "output_type": "execute_result"
    }
   ],
   "source": [
    "r3 = katz(G_fb, 10000000, 0.01, 0.003, 1)\n",
    "rank(r3)"
   ]
  },
  {
   "cell_type": "code",
   "execution_count": 47,
   "metadata": {},
   "outputs": [
    {
     "name": "stdout",
     "output_type": "stream",
     "text": [
      "process finished after 6 iterations\n",
      "time consumption: 0.41557662800005346 seconds\n"
     ]
    },
    {
     "data": {
      "text/plain": [
       "array([[4034],\n",
       "       [1488],\n",
       "       [ 877],\n",
       "       ...,\n",
       "       [  68],\n",
       "       [ 258],\n",
       "       [ 750]], dtype=int64)"
      ]
     },
     "execution_count": 47,
     "metadata": {},
     "output_type": "execute_result"
    }
   ],
   "source": [
    "r4 = katz(G_fb, 100000, 0.01, 0.001, 1)\n",
    "rank(r4)"
   ]
  },
  {
   "cell_type": "code",
   "execution_count": 48,
   "metadata": {},
   "outputs": [
    {
     "name": "stdout",
     "output_type": "stream",
     "text": [
      "process finished after 2 iterations\n",
      "time consumption: 0.36551897200001804 seconds\n",
      "process finished after 7 iterations\n",
      "time consumption: 0.3933347859999685 seconds\n",
      "process finished after 8 iterations\n",
      "time consumption: 0.4109310829999231 seconds\n",
      "process finished after 9 iterations\n",
      "time consumption: 0.36543932699987636 seconds\n",
      "process finished after 9 iterations\n",
      "time consumption: 0.45344641399992724 seconds\n",
      "process finished after 10 iterations\n",
      "time consumption: 0.44465025499994226 seconds\n",
      "process finished after 11 iterations\n",
      "time consumption: 0.402776632000041 seconds\n",
      "process finished after 11 iterations\n",
      "time consumption: 0.45356815599984657 seconds\n",
      "process finished after 12 iterations\n",
      "time consumption: 0.4391673059999448 seconds\n",
      "process finished after 13 iterations\n",
      "time consumption: 0.4630247929999314 seconds\n",
      "process finished after 13 iterations\n",
      "time consumption: 0.40359810800009654 seconds\n",
      "process finished after 14 iterations\n",
      "time consumption: 0.4701757240000006 seconds\n",
      "process finished after 15 iterations\n",
      "time consumption: 0.5045604969998294 seconds\n",
      "process finished after 15 iterations\n",
      "time consumption: 0.46756680000021333 seconds\n",
      "process finished after 16 iterations\n",
      "time consumption: 0.39817545999994763 seconds\n",
      "process finished after 17 iterations\n",
      "time consumption: 0.4267922690000887 seconds\n",
      "process finished after 18 iterations\n",
      "time consumption: 0.4507038010001452 seconds\n",
      "process finished after 18 iterations\n",
      "time consumption: 0.40828006100014136 seconds\n",
      "process finished after 19 iterations\n",
      "time consumption: 0.43690654300007736 seconds\n",
      "process finished after 20 iterations\n",
      "time consumption: 0.47644544600007066 seconds\n",
      "process finished after 21 iterations\n",
      "time consumption: 0.39261684799998875 seconds\n",
      "process finished after 22 iterations\n",
      "time consumption: 0.43459400999995523 seconds\n",
      "process finished after 23 iterations\n",
      "time consumption: 0.44639674500012916 seconds\n",
      "process finished after 23 iterations\n",
      "time consumption: 0.39082883099990795 seconds\n",
      "process finished after 24 iterations\n",
      "time consumption: 0.4553629990000445 seconds\n",
      "process finished after 25 iterations\n",
      "time consumption: 0.4497201919998588 seconds\n",
      "process finished after 27 iterations\n",
      "time consumption: 0.4478536690000965 seconds\n",
      "process finished after 28 iterations\n",
      "time consumption: 0.4493669119999595 seconds\n",
      "process finished after 29 iterations\n",
      "time consumption: 0.4768931619998966 seconds\n",
      "process finished after 30 iterations\n",
      "time consumption: 0.4877293550000559 seconds\n",
      "process finished after 32 iterations\n",
      "time consumption: 0.4748696250001103 seconds\n",
      "process finished after 33 iterations\n",
      "time consumption: 0.43319397400000526 seconds\n",
      "process finished after 35 iterations\n",
      "time consumption: 0.47082368800010954 seconds\n",
      "process finished after 36 iterations\n",
      "time consumption: 0.4955265440000858 seconds\n",
      "process finished after 38 iterations\n",
      "time consumption: 0.4237748840000677 seconds\n",
      "process finished after 40 iterations\n",
      "time consumption: 0.48057273399990663 seconds\n",
      "process finished after 42 iterations\n",
      "time consumption: 0.5216123669999888 seconds\n",
      "process finished after 44 iterations\n",
      "time consumption: 0.44260566900015874 seconds\n",
      "process finished after 46 iterations\n",
      "time consumption: 0.5224554599999465 seconds\n",
      "process finished after 49 iterations\n",
      "time consumption: 0.5001925689998643 seconds\n",
      "process finished after 52 iterations\n",
      "time consumption: 0.47650233600006686 seconds\n",
      "process finished after 55 iterations\n",
      "time consumption: 0.5659140079999361 seconds\n",
      "process finished after 58 iterations\n",
      "time consumption: 0.5558219219999501 seconds\n",
      "process finished after 62 iterations\n",
      "time consumption: 0.5654463809999015 seconds\n",
      "process finished after 66 iterations\n",
      "time consumption: 0.507631358000026 seconds\n",
      "process finished after 70 iterations\n",
      "time consumption: 0.5627885330000026 seconds\n",
      "process finished after 76 iterations\n",
      "time consumption: 0.5876489699999183 seconds\n",
      "process finished after 81 iterations\n",
      "time consumption: 0.5949910480001108 seconds\n",
      "process finished after 88 iterations\n",
      "time consumption: 0.5621451199999683 seconds\n",
      "process finished after 96 iterations\n",
      "time consumption: 0.6359305569999378 seconds\n",
      "process finished after 105 iterations\n",
      "time consumption: 0.6480575580001187 seconds\n",
      "process finished after 116 iterations\n",
      "time consumption: 0.591361538000001 seconds\n",
      "process finished after 129 iterations\n",
      "time consumption: 0.7346828129998357 seconds\n",
      "process finished after 145 iterations\n",
      "time consumption: 0.7553954830000293 seconds\n",
      "process finished after 166 iterations\n",
      "time consumption: 0.6959409220000907 seconds\n",
      "process finished after 193 iterations\n",
      "time consumption: 0.8591038970000682 seconds\n",
      "process finished after 229 iterations\n",
      "time consumption: 0.9043180359999496 seconds\n",
      "process finished after 281 iterations\n",
      "time consumption: 0.9850752039999406 seconds\n",
      "process finished after 362 iterations\n",
      "time consumption: 1.1909571719997984 seconds\n",
      "process finished after 505 iterations\n",
      "time consumption: 1.4166711699999723 seconds\n",
      "process finished after 830 iterations\n",
      "time consumption: 2.145984243000157 seconds\n",
      "process finished after 2261 iterations\n",
      "time consumption: 5.071568477000028 seconds\n"
     ]
    }
   ],
   "source": [
    "#graph of time of katz algorithm depending on alpha\n",
    "\n",
    "timings_alpha = {}\n",
    "for alpha in range (0, 613, 10):\n",
    "    timings_alpha[alpha/100000] = katz2(G_fb, 100000, 0.0000001, alpha/100000, 1)"
   ]
  },
  {
   "cell_type": "code",
   "execution_count": 50,
   "metadata": {
    "scrolled": true
   },
   "outputs": [
    {
     "data": {
      "text/plain": [
       "[2,\n",
       " 7,\n",
       " 8,\n",
       " 9,\n",
       " 9,\n",
       " 10,\n",
       " 11,\n",
       " 11,\n",
       " 12,\n",
       " 13,\n",
       " 13,\n",
       " 14,\n",
       " 15,\n",
       " 15,\n",
       " 16,\n",
       " 17,\n",
       " 18,\n",
       " 18,\n",
       " 19,\n",
       " 20,\n",
       " 21,\n",
       " 22,\n",
       " 23,\n",
       " 23,\n",
       " 24,\n",
       " 25,\n",
       " 27,\n",
       " 28,\n",
       " 29,\n",
       " 30,\n",
       " 32,\n",
       " 33,\n",
       " 35,\n",
       " 36,\n",
       " 38,\n",
       " 40,\n",
       " 42,\n",
       " 44,\n",
       " 46,\n",
       " 49,\n",
       " 52,\n",
       " 55,\n",
       " 58,\n",
       " 62,\n",
       " 66,\n",
       " 70,\n",
       " 76,\n",
       " 81,\n",
       " 88,\n",
       " 96,\n",
       " 105,\n",
       " 116,\n",
       " 129,\n",
       " 145,\n",
       " 166,\n",
       " 193,\n",
       " 229,\n",
       " 281,\n",
       " 362,\n",
       " 505,\n",
       " 830,\n",
       " 2261]"
      ]
     },
     "execution_count": 50,
     "metadata": {},
     "output_type": "execute_result"
    }
   ],
   "source": [
    "iterations_alpha = [i[1] for i in timings_alpha.values()]\n",
    "iterations_alpha"
   ]
  },
  {
   "cell_type": "code",
   "execution_count": 51,
   "metadata": {
    "scrolled": true
   },
   "outputs": [
    {
     "data": {
      "text/plain": [
       "{0.0: (0.36551897200001804, 2),\n",
       " 0.0001: (0.3933347859999685, 7),\n",
       " 0.0002: (0.4109310829999231, 8),\n",
       " 0.0003: (0.36543932699987636, 9),\n",
       " 0.0004: (0.45344641399992724, 9),\n",
       " 0.0005: (0.44465025499994226, 10),\n",
       " 0.0006: (0.402776632000041, 11),\n",
       " 0.0007: (0.45356815599984657, 11),\n",
       " 0.0008: (0.4391673059999448, 12),\n",
       " 0.0009: (0.4630247929999314, 13),\n",
       " 0.001: (0.40359810800009654, 13),\n",
       " 0.0011: (0.4701757240000006, 14),\n",
       " 0.0012: (0.5045604969998294, 15),\n",
       " 0.0013: (0.46756680000021333, 15),\n",
       " 0.0014: (0.39817545999994763, 16),\n",
       " 0.0015: (0.4267922690000887, 17),\n",
       " 0.0016: (0.4507038010001452, 18),\n",
       " 0.0017: (0.40828006100014136, 18),\n",
       " 0.0018: (0.43690654300007736, 19),\n",
       " 0.0019: (0.47644544600007066, 20),\n",
       " 0.002: (0.39261684799998875, 21),\n",
       " 0.0021: (0.43459400999995523, 22),\n",
       " 0.0022: (0.44639674500012916, 23),\n",
       " 0.0023: (0.39082883099990795, 23),\n",
       " 0.0024: (0.4553629990000445, 24),\n",
       " 0.0025: (0.4497201919998588, 25),\n",
       " 0.0026: (0.4478536690000965, 27),\n",
       " 0.0027: (0.4493669119999595, 28),\n",
       " 0.0028: (0.4768931619998966, 29),\n",
       " 0.0029: (0.4877293550000559, 30),\n",
       " 0.003: (0.4748696250001103, 32),\n",
       " 0.0031: (0.43319397400000526, 33),\n",
       " 0.0032: (0.47082368800010954, 35),\n",
       " 0.0033: (0.4955265440000858, 36),\n",
       " 0.0034: (0.4237748840000677, 38),\n",
       " 0.0035: (0.48057273399990663, 40),\n",
       " 0.0036: (0.5216123669999888, 42),\n",
       " 0.0037: (0.44260566900015874, 44),\n",
       " 0.0038: (0.5224554599999465, 46),\n",
       " 0.0039: (0.5001925689998643, 49),\n",
       " 0.004: (0.47650233600006686, 52),\n",
       " 0.0041: (0.5659140079999361, 55),\n",
       " 0.0042: (0.5558219219999501, 58),\n",
       " 0.0043: (0.5654463809999015, 62),\n",
       " 0.0044: (0.507631358000026, 66),\n",
       " 0.0045: (0.5627885330000026, 70),\n",
       " 0.0046: (0.5876489699999183, 76),\n",
       " 0.0047: (0.5949910480001108, 81),\n",
       " 0.0048: (0.5621451199999683, 88),\n",
       " 0.0049: (0.6359305569999378, 96),\n",
       " 0.005: (0.6480575580001187, 105),\n",
       " 0.0051: (0.591361538000001, 116),\n",
       " 0.0052: (0.7346828129998357, 129),\n",
       " 0.0053: (0.7553954830000293, 145),\n",
       " 0.0054: (0.6959409220000907, 166),\n",
       " 0.0055: (0.8591038970000682, 193),\n",
       " 0.0056: (0.9043180359999496, 229),\n",
       " 0.0057: (0.9850752039999406, 281),\n",
       " 0.0058: (1.1909571719997984, 362),\n",
       " 0.0059: (1.4166711699999723, 505),\n",
       " 0.006: (2.145984243000157, 830),\n",
       " 0.0061: (5.071568477000028, 2261)}"
      ]
     },
     "execution_count": 51,
     "metadata": {},
     "output_type": "execute_result"
    }
   ],
   "source": [
    "timings_alpha"
   ]
  },
  {
   "cell_type": "markdown",
   "metadata": {},
   "source": [
    "Pri alpha = 0.0062 ponori."
   ]
  },
  {
   "cell_type": "code",
   "execution_count": 52,
   "metadata": {},
   "outputs": [
    {
     "data": {
      "image/png": "[encoded data removed]",
      "text/plain": [
       "<Figure size 432x288 with 1 Axes>"
      ]
     },
     "metadata": {
      "needs_background": "light"
     },
     "output_type": "display_data"
    }
   ],
   "source": [
    "plt.plot(timings_alpha.keys(), iterations_alpha)\n",
    "plt.xlabel('α')\n",
    "plt.ylabel('Število iteracij')\n",
    "plt.title('Zahtevnost algoritma Katzove središčnosti v odvisnosti od α')\n",
    "plt.savefig('Katz_alpha.png')\n",
    "plt.show()"
   ]
  },
  {
   "cell_type": "code",
   "execution_count": 80,
   "metadata": {},
   "outputs": [
    {
     "name": "stdout",
     "output_type": "stream",
     "text": [
      "process finished after 15 iterations\n",
      "time consumption: 0.4475003890001972 seconds\n"
     ]
    },
    {
     "data": {
      "text/plain": [
       "array([[2796],\n",
       "       [1633],\n",
       "       [1170],\n",
       "       ...,\n",
       "       [ 215],\n",
       "       [ 230],\n",
       "       [ 258]], dtype=int64)"
      ]
     },
     "execution_count": 80,
     "metadata": {},
     "output_type": "execute_result"
    }
   ],
   "source": [
    "r5 = katz(G_fb, 100000, 0.01, 0.003, 1)\n",
    "rank(r5)"
   ]
  },
  {
   "cell_type": "code",
   "execution_count": 81,
   "metadata": {},
   "outputs": [
    {
     "name": "stdout",
     "output_type": "stream",
     "text": [
      "process finished after 16 iterations\n",
      "time consumption: 0.4280785280006967 seconds\n"
     ]
    },
    {
     "data": {
      "text/plain": [
       "array([[2852],\n",
       "       [1773],\n",
       "       [1291],\n",
       "       ...,\n",
       "       [ 215],\n",
       "       [ 230],\n",
       "       [ 258]], dtype=int64)"
      ]
     },
     "execution_count": 81,
     "metadata": {},
     "output_type": "execute_result"
    }
   ],
   "source": [
    "r5 = katz(G_fb, 100000, 0.01, 0.003, 2)\n",
    "rank(r5)"
   ]
  },
  {
   "cell_type": "code",
   "execution_count": 83,
   "metadata": {},
   "outputs": [
    {
     "name": "stdout",
     "output_type": "stream",
     "text": [
      "process finished after 27 iterations\n",
      "time consumption: 0.45016620099977445 seconds\n"
     ]
    },
    {
     "data": {
      "text/plain": [
       "array([[2994],\n",
       "       [1971],\n",
       "       [1777],\n",
       "       ...,\n",
       "       [ 217],\n",
       "       [ 232],\n",
       "       [ 541]], dtype=int64)"
      ]
     },
     "execution_count": 83,
     "metadata": {},
     "output_type": "execute_result"
    }
   ],
   "source": [
    "r5 = katz(G_fb, 100000, 0.01, 0.003, 10000)\n",
    "rank(r5)"
   ]
  },
  {
   "cell_type": "code",
   "execution_count": null,
   "metadata": {},
   "outputs": [],
   "source": []
  }
 ],
 "metadata": {
  "kernelspec": {
   "display_name": "Python 3",
   "language": "python",
   "name": "python3"
  },
  "language_info": {
   "codemirror_mode": {
    "name": "ipython",
    "version": 3
   },
   "file_extension": ".py",
   "mimetype": "text/x-python",
   "name": "python",
   "nbconvert_exporter": "python",
   "pygments_lexer": "ipython3",
   "version": "3.7.1rc1"
  }
 },
 "nbformat": 4,
 "nbformat_minor": 2
}
