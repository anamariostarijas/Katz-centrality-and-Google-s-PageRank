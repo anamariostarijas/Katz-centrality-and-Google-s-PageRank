{
 "cells": [
  {
   "cell_type": "markdown",
   "metadata": {},
   "source": [
    "# Katz centrality"
   ]
  },
  {
   "cell_type": "code",
   "execution_count": 1,
   "metadata": {},
   "outputs": [],
   "source": [
    "#import libraries\n",
    "import networkx as nx\n",
    "import matplotlib.pyplot as plt\n",
    "import numpy as np\n",
    "from timeit import default_timer as timer\n",
    "import math\n",
    "import scipy.stats as stats\n",
    "import pandas as pd\n",
    "import sklearn\n",
    "from sklearn import preprocessing"
   ]
  },
  {
   "cell_type": "markdown",
   "metadata": {},
   "source": [
    "## Algorithm"
   ]
  },
  {
   "cell_type": "code",
   "execution_count": 2,
   "metadata": {},
   "outputs": [],
   "source": [
    "def katz(G, max_num_of_steps, tolerance, alpha, beta):\n",
    "    '''Computes the Katz centrality for the nodes of the graph G.'''\n",
    "    start = timer()\n",
    "    A = nx.adjacency_matrix(G)\n",
    "    diff = 1000\n",
    "    k = 0\n",
    "    vector = np.ones((A.shape[1], 1))\n",
    "    r = beta * vector\n",
    "    while diff > tolerance and k < max_num_of_steps:\n",
    "        # inner product of matrix A and vector r\n",
    "        r, q = alpha*A.dot(r), r\n",
    "        diff = np.linalg.norm(q-r, ord=1)\n",
    "        k += 1\n",
    "    print('process finished after {} iterations'.format(k))\n",
    "    end = timer()\n",
    "    # timing of the process\n",
    "    print('time consumption: {} seconds'.format(end-start))\n",
    "    return r"
   ]
  },
  {
   "cell_type": "markdown",
   "metadata": {},
   "source": [
    "### Small example"
   ]
  },
  {
   "cell_type": "code",
   "execution_count": 4,
   "metadata": {},
   "outputs": [
    {
     "data": {
      "image/png": "[encoded data removed]",
      "text/plain": [
       "<Figure size 432x288 with 1 Axes>"
      ]
     },
     "metadata": {},
     "output_type": "display_data"
    },
    {
     "name": "stdout",
     "output_type": "stream",
     "text": [
      "[[0 1 0 0 0]\n",
      " [0 0 1 1 1]\n",
      " [0 0 0 0 0]\n",
      " [0 0 0 0 0]\n",
      " [0 1 0 0 0]]\n"
     ]
    }
   ],
   "source": [
    "T = nx.DiGraph()   # or DiGraph, etc\n",
    "T.add_edges_from(((1, 2), (2, 3), (2, 4), (2, 5), (5, 2)))\n",
    "nx.draw(T, with_labels=True)\n",
    "plt.show()\n",
    "print(nx.adjacency_matrix(T).todense())"
   ]
  },
  {
   "cell_type": "code",
   "execution_count": 9,
   "metadata": {},
   "outputs": [
    {
     "name": "stdout",
     "output_type": "stream",
     "text": [
      "process finished after 2 iterations\n",
      "time consumption: 0.0007862040000006232 seconds\n"
     ]
    },
    {
     "data": {
      "text/plain": [
       "array([[3],\n",
       "       [2],\n",
       "       [0],\n",
       "       [1],\n",
       "       [4]], dtype=int64)"
      ]
     },
     "execution_count": 9,
     "metadata": {},
     "output_type": "execute_result"
    }
   ],
   "source": [
    "test = katz(T, 100, 0.1, 0.002,1)\n",
    "rank(test)"
   ]
  },
  {
   "cell_type": "code",
   "execution_count": 8,
   "metadata": {},
   "outputs": [
    {
     "name": "stdout",
     "output_type": "stream",
     "text": [
      "process finished after 2 iterations\n",
      "time consumption: 0.0011531370000028573 seconds\n"
     ]
    },
    {
     "data": {
      "text/plain": [
       "array([[3],\n",
       "       [2],\n",
       "       [0],\n",
       "       [1],\n",
       "       [4]], dtype=int64)"
      ]
     },
     "execution_count": 8,
     "metadata": {},
     "output_type": "execute_result"
    }
   ],
   "source": [
    "test1 = katz(T, 100, 0.1, 0.002,5)\n",
    "rank(test1)"
   ]
  },
  {
   "cell_type": "code",
   "execution_count": 7,
   "metadata": {},
   "outputs": [],
   "source": [
    "def rank(array):\n",
    "    '''Returns vector with ranked values of array,\n",
    "    where 0 is the minimum value of array'''\n",
    "    temp = array.argsort(axis=0)\n",
    "    ranks = temp.argsort(axis=0)\n",
    "    return ranks"
   ]
  },
  {
   "cell_type": "code",
   "execution_count": 59,
   "metadata": {},
   "outputs": [
    {
     "data": {
      "text/plain": [
       "array([[3],\n",
       "       [2],\n",
       "       [0],\n",
       "       [1],\n",
       "       [4]], dtype=int64)"
      ]
     },
     "execution_count": 59,
     "metadata": {},
     "output_type": "execute_result"
    }
   ],
   "source": [
    "rank(test)"
   ]
  },
  {
   "cell_type": "markdown",
   "metadata": {},
   "source": [
    "### Katz centrality on networks"
   ]
  },
  {
   "cell_type": "code",
   "execution_count": 10,
   "metadata": {},
   "outputs": [],
   "source": [
    "#citation:@misc{snapnets,\n",
    "#  author       = {Jure Leskovec and Andrej Krevl},\n",
    "#  title        = {{SNAP Datasets}: {Stanford} Large Network Dataset Collection},\n",
    "#  howpublished = {\\url{http://snap.stanford.edu/data}},\n",
    "#  month        = jun,\n",
    "#  year         = 2014\n",
    "#}\n",
    "G_fb = nx.read_edgelist('facebook_combined.txt')"
   ]
  },
  {
   "cell_type": "code",
   "execution_count": 72,
   "metadata": {},
   "outputs": [
    {
     "name": "stdout",
     "output_type": "stream",
     "text": [
      "  (0, 1)\t1\n",
      "  (0, 2)\t1\n",
      "  (0, 3)\t1\n",
      "  (0, 4)\t1\n",
      "  (0, 5)\t1\n",
      "  (0, 6)\t1\n",
      "  (0, 7)\t1\n",
      "  (0, 8)\t1\n",
      "  (0, 9)\t1\n",
      "  (0, 10)\t1\n",
      "  (0, 11)\t1\n",
      "  (0, 12)\t1\n",
      "  (0, 13)\t1\n",
      "  (0, 14)\t1\n",
      "  (0, 15)\t1\n",
      "  (0, 16)\t1\n",
      "  (0, 17)\t1\n",
      "  (0, 18)\t1\n",
      "  (0, 19)\t1\n",
      "  (0, 20)\t1\n",
      "  (0, 21)\t1\n",
      "  (0, 22)\t1\n",
      "  (0, 23)\t1\n",
      "  (0, 24)\t1\n",
      "  (0, 25)\t1\n",
      "  :\t:\n",
      "  (4031, 4024)\t1\n",
      "  (4031, 4027)\t1\n",
      "  (4032, 1827)\t1\n",
      "  (4032, 4028)\t1\n",
      "  (4033, 1827)\t1\n",
      "  (4033, 3989)\t1\n",
      "  (4033, 4002)\t1\n",
      "  (4034, 1827)\t1\n",
      "  (4034, 4024)\t1\n",
      "  (4035, 1827)\t1\n",
      "  (4036, 1827)\t1\n",
      "  (4036, 4001)\t1\n",
      "  (4037, 1827)\t1\n",
      "  (4037, 3985)\t1\n",
      "  (4037, 4015)\t1\n",
      "  (4037, 4021)\t1\n",
      "  (4038, 1827)\t1\n",
      "  (4038, 1828)\t1\n",
      "  (4038, 1830)\t1\n",
      "  (4038, 4006)\t1\n",
      "  (4038, 4014)\t1\n",
      "  (4038, 4015)\t1\n",
      "  (4038, 4021)\t1\n",
      "  (4038, 4024)\t1\n",
      "  (4038, 4028)\t1\n"
     ]
    }
   ],
   "source": [
    "M_fb = nx.adjacency_matrix(G_fb)\n",
    "print(M_fb)"
   ]
  },
  {
   "cell_type": "code",
   "execution_count": 11,
   "metadata": {},
   "outputs": [
    {
     "name": "stdout",
     "output_type": "stream",
     "text": [
      "Name: \n",
      "Type: Graph\n",
      "Number of nodes: 4039\n",
      "Number of edges: 88234\n",
      "Average degree:  43.6910\n"
     ]
    }
   ],
   "source": [
    "print(nx.info(G_fb))"
   ]
  },
  {
   "cell_type": "code",
   "execution_count": null,
   "metadata": {},
   "outputs": [],
   "source": [
    "spring_pos = nx.spring_layout(G_fb)\n",
    "nx.draw(G_fb, pos = spring_pos, node_size = 35)\n",
    "plt.show()"
   ]
  },
  {
   "cell_type": "code",
   "execution_count": 78,
   "metadata": {},
   "outputs": [
    {
     "data": {
      "text/plain": [
       "(162.37394233563828+0j)"
      ]
     },
     "execution_count": 78,
     "metadata": {},
     "output_type": "execute_result"
    }
   ],
   "source": [
    "np.amax(np.linalg.eigvals(M_fb.todense()))"
   ]
  },
  {
   "cell_type": "code",
   "execution_count": 79,
   "metadata": {},
   "outputs": [
    {
     "data": {
      "text/plain": [
       "0.006158623641304035"
      ]
     },
     "execution_count": 79,
     "metadata": {},
     "output_type": "execute_result"
    }
   ],
   "source": [
    "1/162.37394233563828"
   ]
  },
  {
   "cell_type": "markdown",
   "metadata": {},
   "source": [
    "Vzamem alpha < 1/163 = 0.00613"
   ]
  },
  {
   "cell_type": "markdown",
   "metadata": {},
   "source": [
    "Vemo, da je maksimalna lastna vrednost matrike sosednosti omejena z maksimalnim številom stopenj vseh vozlišč. V informacijah o grafu vidimo, da je povprečna stopnja vozlišča enaka 43.6910. Poskusimo z alfo manjšo od 1/43.6910 oziroma 0.0229."
   ]
  },
  {
   "cell_type": "code",
   "execution_count": 62,
   "metadata": {},
   "outputs": [
    {
     "name": "stdout",
     "output_type": "stream",
     "text": [
      "process finished after 105184 iterations\n",
      "time consumption: 209.5044313590006 seconds\n"
     ]
    },
    {
     "name": "stderr",
     "output_type": "stream",
     "text": [
      "c:\\users\\tina\\appdata\\local\\programs\\python\\python37\\lib\\site-packages\\ipykernel_launcher.py:12: RuntimeWarning: invalid value encountered in subtract\n",
      "  if sys.path[0] == '':\n"
     ]
    },
    {
     "data": {
      "text/plain": [
       "array([[3238],\n",
       "       [1977],\n",
       "       [1787],\n",
       "       ...,\n",
       "       [ 217],\n",
       "       [ 232],\n",
       "       [ 695]], dtype=int64)"
      ]
     },
     "execution_count": 62,
     "metadata": {},
     "output_type": "execute_result"
    }
   ],
   "source": [
    "r1 = katz(G_fb, 10000000, 0.01, 0.0062, 1)\n",
    "rank(r1)"
   ]
  },
  {
   "cell_type": "code",
   "execution_count": 63,
   "metadata": {},
   "outputs": [
    {
     "name": "stdout",
     "output_type": "stream",
     "text": [
      "process finished after 571 iterations\n",
      "time consumption: 1.6107811239999137 seconds\n"
     ]
    },
    {
     "data": {
      "text/plain": [
       "array([[3238],\n",
       "       [1977],\n",
       "       [1787],\n",
       "       ...,\n",
       "       [ 217],\n",
       "       [ 232],\n",
       "       [ 695]], dtype=int64)"
      ]
     },
     "execution_count": 63,
     "metadata": {},
     "output_type": "execute_result"
    }
   ],
   "source": [
    "r2 = katz(G_fb, 100000, 0.01, 0.0061, 1)\n",
    "rank(r2)"
   ]
  },
  {
   "cell_type": "markdown",
   "metadata": {},
   "source": [
    "Pri alpha = 0.0061 konvergira pri alpha = 0.0062 pa že divergira."
   ]
  },
  {
   "cell_type": "code",
   "execution_count": 64,
   "metadata": {},
   "outputs": [
    {
     "name": "stdout",
     "output_type": "stream",
     "text": [
      "process finished after 15 iterations\n",
      "time consumption: 0.3936579139999594 seconds\n"
     ]
    },
    {
     "data": {
      "text/plain": [
       "array([[2796],\n",
       "       [1633],\n",
       "       [1170],\n",
       "       ...,\n",
       "       [ 215],\n",
       "       [ 230],\n",
       "       [ 258]], dtype=int64)"
      ]
     },
     "execution_count": 64,
     "metadata": {},
     "output_type": "execute_result"
    }
   ],
   "source": [
    "r3 = katz(G_fb, 10000000, 0.01, 0.003, 1)\n",
    "rank(r3)"
   ]
  },
  {
   "cell_type": "code",
   "execution_count": 65,
   "metadata": {},
   "outputs": [
    {
     "name": "stdout",
     "output_type": "stream",
     "text": [
      "process finished after 7 iterations\n",
      "time consumption: 0.4406213860002026 seconds\n"
     ]
    },
    {
     "data": {
      "text/plain": [
       "array([[2431],\n",
       "       [ 971],\n",
       "       [ 766],\n",
       "       ...,\n",
       "       [  11],\n",
       "       [  26],\n",
       "       [  54]], dtype=int64)"
      ]
     },
     "execution_count": 65,
     "metadata": {},
     "output_type": "execute_result"
    }
   ],
   "source": [
    "r4 = katz(G_fb, 100000, 0.01, 0.001, 1)\n",
    "rank(r4)"
   ]
  },
  {
   "cell_type": "code",
   "execution_count": 66,
   "metadata": {},
   "outputs": [
    {
     "name": "stdout",
     "output_type": "stream",
     "text": [
      "process finished after 4 iterations\n",
      "time consumption: 0.4093632260000959 seconds\n"
     ]
    },
    {
     "data": {
      "text/plain": [
       "array([[2632],\n",
       "       [ 805],\n",
       "       [ 287],\n",
       "       ...,\n",
       "       [  11],\n",
       "       [  27],\n",
       "       [  38]], dtype=int64)"
      ]
     },
     "execution_count": 66,
     "metadata": {},
     "output_type": "execute_result"
    }
   ],
   "source": [
    "r5 = katz(G_fb, 100000, 0.01, 0.0001, 1)\n",
    "rank(r5)"
   ]
  },
  {
   "cell_type": "code",
   "execution_count": 67,
   "metadata": {},
   "outputs": [
    {
     "name": "stdout",
     "output_type": "stream",
     "text": [
      "process finished after 2 iterations\n",
      "time consumption: 0.4293966429995635 seconds\n"
     ]
    },
    {
     "data": {
      "text/plain": [
       "array([[3291],\n",
       "       [ 897],\n",
       "       [ 396],\n",
       "       ...,\n",
       "       [  12],\n",
       "       [  37],\n",
       "       [  66]], dtype=int64)"
      ]
     },
     "execution_count": 67,
     "metadata": {},
     "output_type": "execute_result"
    }
   ],
   "source": [
    "r6 = katz(G_fb, 100000, 0.01, 0.000000001, 1)\n",
    "rank(r6)"
   ]
  },
  {
   "cell_type": "code",
   "execution_count": 68,
   "metadata": {},
   "outputs": [
    {
     "name": "stdout",
     "output_type": "stream",
     "text": [
      "process finished after 2 iterations\n",
      "time consumption: 0.35789131199999247 seconds\n"
     ]
    },
    {
     "data": {
      "text/plain": [
       "array([[3291],\n",
       "       [ 897],\n",
       "       [ 396],\n",
       "       ...,\n",
       "       [  12],\n",
       "       [  37],\n",
       "       [  66]], dtype=int64)"
      ]
     },
     "execution_count": 68,
     "metadata": {},
     "output_type": "execute_result"
    }
   ],
   "source": [
    "r7 = katz(G_fb, 100000, 0.01, 0.000000000000000001, 1)\n",
    "rank(r7)"
   ]
  },
  {
   "cell_type": "code",
   "execution_count": 12,
   "metadata": {},
   "outputs": [
    {
     "name": "stdout",
     "output_type": "stream",
     "text": [
      "process finished after 2 iterations\n",
      "time consumption: 0.3641911849999957 seconds\n",
      "process finished after 7 iterations\n",
      "time consumption: 0.4271040210000052 seconds\n",
      "process finished after 8 iterations\n",
      "time consumption: 0.41307522500000005 seconds\n",
      "process finished after 9 iterations\n",
      "time consumption: 0.37540568800000074 seconds\n",
      "process finished after 9 iterations\n",
      "time consumption: 0.41731515200000047 seconds\n",
      "process finished after 10 iterations\n",
      "time consumption: 0.42831859800000416 seconds\n",
      "process finished after 11 iterations\n",
      "time consumption: 0.39555572800000505 seconds\n",
      "process finished after 11 iterations\n",
      "time consumption: 0.4299814600000005 seconds\n",
      "process finished after 12 iterations\n",
      "time consumption: 0.4212575509999965 seconds\n",
      "process finished after 13 iterations\n",
      "time consumption: 0.43591155600000064 seconds\n",
      "process finished after 13 iterations\n",
      "time consumption: 0.4093438840000019 seconds\n",
      "process finished after 14 iterations\n",
      "time consumption: 0.4519195160000038 seconds\n",
      "process finished after 15 iterations\n",
      "time consumption: 0.49346944200000564 seconds\n",
      "process finished after 15 iterations\n",
      "time consumption: 0.4318599309999982 seconds\n",
      "process finished after 16 iterations\n",
      "time consumption: 0.3923625549999983 seconds\n",
      "process finished after 17 iterations\n",
      "time consumption: 0.4541063239999943 seconds\n",
      "process finished after 18 iterations\n",
      "time consumption: 0.4540465910000009 seconds\n",
      "process finished after 18 iterations\n",
      "time consumption: 0.39251956900000096 seconds\n",
      "process finished after 19 iterations\n",
      "time consumption: 0.49679402699999287 seconds\n",
      "process finished after 20 iterations\n",
      "time consumption: 0.47691933100000483 seconds\n",
      "process finished after 21 iterations\n",
      "time consumption: 0.3980042250000082 seconds\n",
      "process finished after 22 iterations\n",
      "time consumption: 0.44763009499999384 seconds\n",
      "process finished after 23 iterations\n",
      "time consumption: 0.44983510800000204 seconds\n",
      "process finished after 23 iterations\n",
      "time consumption: 0.3906081020000016 seconds\n",
      "process finished after 24 iterations\n",
      "time consumption: 0.45704406499999095 seconds\n",
      "process finished after 25 iterations\n",
      "time consumption: 0.4640436720000025 seconds\n",
      "process finished after 27 iterations\n",
      "time consumption: 0.4434407989999869 seconds\n",
      "process finished after 28 iterations\n",
      "time consumption: 0.42483187899999564 seconds\n",
      "process finished after 29 iterations\n",
      "time consumption: 0.47642098400000066 seconds\n",
      "process finished after 30 iterations\n",
      "time consumption: 0.4969294229999974 seconds\n",
      "process finished after 32 iterations\n",
      "time consumption: 0.4829199690000081 seconds\n",
      "process finished after 33 iterations\n",
      "time consumption: 0.43143781499999534 seconds\n",
      "process finished after 35 iterations\n",
      "time consumption: 0.4786800420000077 seconds\n",
      "process finished after 36 iterations\n",
      "time consumption: 0.4712082570000007 seconds\n",
      "process finished after 38 iterations\n",
      "time consumption: 0.43128876600000865 seconds\n",
      "process finished after 40 iterations\n",
      "time consumption: 0.4939473089999922 seconds\n",
      "process finished after 42 iterations\n",
      "time consumption: 0.5095172240000068 seconds\n",
      "process finished after 44 iterations\n",
      "time consumption: 0.46509384099999806 seconds\n",
      "process finished after 46 iterations\n",
      "time consumption: 0.5396882379999965 seconds\n",
      "process finished after 49 iterations\n",
      "time consumption: 0.5073804780000017 seconds\n",
      "process finished after 52 iterations\n",
      "time consumption: 0.4588901099999987 seconds\n",
      "process finished after 55 iterations\n",
      "time consumption: 0.5234840109999936 seconds\n",
      "process finished after 58 iterations\n",
      "time consumption: 0.5478398449999986 seconds\n",
      "process finished after 62 iterations\n",
      "time consumption: 0.5369615529999976 seconds\n",
      "process finished after 66 iterations\n",
      "time consumption: 0.49422151200000997 seconds\n",
      "process finished after 70 iterations\n",
      "time consumption: 0.5402099079999942 seconds\n",
      "process finished after 76 iterations\n",
      "time consumption: 0.5554345080000047 seconds\n",
      "process finished after 81 iterations\n",
      "time consumption: 0.5667280870000013 seconds\n",
      "process finished after 88 iterations\n",
      "time consumption: 0.5428063170000001 seconds\n",
      "process finished after 96 iterations\n",
      "time consumption: 0.617877441999994 seconds\n",
      "process finished after 105 iterations\n",
      "time consumption: 0.6255181859999936 seconds\n",
      "process finished after 116 iterations\n",
      "time consumption: 0.6093446800000066 seconds\n",
      "process finished after 129 iterations\n",
      "time consumption: 0.6804449619999957 seconds\n",
      "process finished after 145 iterations\n",
      "time consumption: 0.7200077599999872 seconds\n",
      "process finished after 166 iterations\n",
      "time consumption: 0.7276160769999933 seconds\n",
      "process finished after 193 iterations\n",
      "time consumption: 0.8340739309999918 seconds\n",
      "process finished after 229 iterations\n",
      "time consumption: 0.8871370279999979 seconds\n",
      "process finished after 281 iterations\n",
      "time consumption: 0.9884441629999969 seconds\n",
      "process finished after 362 iterations\n",
      "time consumption: 1.411443650999999 seconds\n",
      "process finished after 505 iterations\n",
      "time consumption: 1.5103529219999956 seconds\n",
      "process finished after 830 iterations\n",
      "time consumption: 2.1661029929999955 seconds\n",
      "process finished after 2261 iterations\n",
      "time consumption: 5.356495828000007 seconds\n"
     ]
    }
   ],
   "source": [
    "#graph of time of katz algorithm depending on alpha\n",
    "\n",
    "def katz2(G, max_num_of_steps, tolerance, alpha, beta):\n",
    "    '''Computes the Katz centrality for the nodes of the graph G.'''\n",
    "    start = timer()\n",
    "    A = nx.adjacency_matrix(G)\n",
    "    # first guess for vector r is first column of A\n",
    "    r = A[:, 0]  \n",
    "    diff = 1000\n",
    "    k = 0\n",
    "    vector = np.ones((A.shape[1], 1))\n",
    "    while diff > tolerance and k < max_num_of_steps:\n",
    "        # inner product of matrix A and vector r\n",
    "        r, q = alpha*A.dot(r) + beta * vector, r\n",
    "        diff = np.linalg.norm(q-r, ord=1)\n",
    "        k += 1\n",
    "    #normalized_r = preprocessing.normalize(r, axis=0, norm ='l1')\n",
    "    print('process finished after {} iterations'.format(k))\n",
    "    end = timer()\n",
    "    # timing of the process\n",
    "    print('time consumption: {} seconds'.format(end-start))\n",
    "    return (end-start, k)\n",
    "\n",
    "timings = {}\n",
    "for alpha in range (0, 613, 10):\n",
    "    timings[alpha/100000] = katz2(G_fb, 100000, 0.0000001, alpha/100000, 1)"
   ]
  },
  {
   "cell_type": "code",
   "execution_count": 13,
   "metadata": {},
   "outputs": [
    {
     "data": {
      "text/plain": [
       "[2,\n",
       " 7,\n",
       " 8,\n",
       " 9,\n",
       " 9,\n",
       " 10,\n",
       " 11,\n",
       " 11,\n",
       " 12,\n",
       " 13,\n",
       " 13,\n",
       " 14,\n",
       " 15,\n",
       " 15,\n",
       " 16,\n",
       " 17,\n",
       " 18,\n",
       " 18,\n",
       " 19,\n",
       " 20,\n",
       " 21,\n",
       " 22,\n",
       " 23,\n",
       " 23,\n",
       " 24,\n",
       " 25,\n",
       " 27,\n",
       " 28,\n",
       " 29,\n",
       " 30,\n",
       " 32,\n",
       " 33,\n",
       " 35,\n",
       " 36,\n",
       " 38,\n",
       " 40,\n",
       " 42,\n",
       " 44,\n",
       " 46,\n",
       " 49,\n",
       " 52,\n",
       " 55,\n",
       " 58,\n",
       " 62,\n",
       " 66,\n",
       " 70,\n",
       " 76,\n",
       " 81,\n",
       " 88,\n",
       " 96,\n",
       " 105,\n",
       " 116,\n",
       " 129,\n",
       " 145,\n",
       " 166,\n",
       " 193,\n",
       " 229,\n",
       " 281,\n",
       " 362,\n",
       " 505,\n",
       " 830,\n",
       " 2261]"
      ]
     },
     "execution_count": 13,
     "metadata": {},
     "output_type": "execute_result"
    }
   ],
   "source": [
    "iterations= [i[1] for i in timings.values()]\n",
    "iterations"
   ]
  },
  {
   "cell_type": "code",
   "execution_count": 14,
   "metadata": {},
   "outputs": [
    {
     "data": {
      "text/plain": [
       "{0.0: (0.3641911849999957, 2),\n",
       " 0.0001: (0.4271040210000052, 7),\n",
       " 0.0002: (0.41307522500000005, 8),\n",
       " 0.0003: (0.37540568800000074, 9),\n",
       " 0.0004: (0.41731515200000047, 9),\n",
       " 0.0005: (0.42831859800000416, 10),\n",
       " 0.0006: (0.39555572800000505, 11),\n",
       " 0.0007: (0.4299814600000005, 11),\n",
       " 0.0008: (0.4212575509999965, 12),\n",
       " 0.0009: (0.43591155600000064, 13),\n",
       " 0.001: (0.4093438840000019, 13),\n",
       " 0.0011: (0.4519195160000038, 14),\n",
       " 0.0012: (0.49346944200000564, 15),\n",
       " 0.0013: (0.4318599309999982, 15),\n",
       " 0.0014: (0.3923625549999983, 16),\n",
       " 0.0015: (0.4541063239999943, 17),\n",
       " 0.0016: (0.4540465910000009, 18),\n",
       " 0.0017: (0.39251956900000096, 18),\n",
       " 0.0018: (0.49679402699999287, 19),\n",
       " 0.0019: (0.47691933100000483, 20),\n",
       " 0.002: (0.3980042250000082, 21),\n",
       " 0.0021: (0.44763009499999384, 22),\n",
       " 0.0022: (0.44983510800000204, 23),\n",
       " 0.0023: (0.3906081020000016, 23),\n",
       " 0.0024: (0.45704406499999095, 24),\n",
       " 0.0025: (0.4640436720000025, 25),\n",
       " 0.0026: (0.4434407989999869, 27),\n",
       " 0.0027: (0.42483187899999564, 28),\n",
       " 0.0028: (0.47642098400000066, 29),\n",
       " 0.0029: (0.4969294229999974, 30),\n",
       " 0.003: (0.4829199690000081, 32),\n",
       " 0.0031: (0.43143781499999534, 33),\n",
       " 0.0032: (0.4786800420000077, 35),\n",
       " 0.0033: (0.4712082570000007, 36),\n",
       " 0.0034: (0.43128876600000865, 38),\n",
       " 0.0035: (0.4939473089999922, 40),\n",
       " 0.0036: (0.5095172240000068, 42),\n",
       " 0.0037: (0.46509384099999806, 44),\n",
       " 0.0038: (0.5396882379999965, 46),\n",
       " 0.0039: (0.5073804780000017, 49),\n",
       " 0.004: (0.4588901099999987, 52),\n",
       " 0.0041: (0.5234840109999936, 55),\n",
       " 0.0042: (0.5478398449999986, 58),\n",
       " 0.0043: (0.5369615529999976, 62),\n",
       " 0.0044: (0.49422151200000997, 66),\n",
       " 0.0045: (0.5402099079999942, 70),\n",
       " 0.0046: (0.5554345080000047, 76),\n",
       " 0.0047: (0.5667280870000013, 81),\n",
       " 0.0048: (0.5428063170000001, 88),\n",
       " 0.0049: (0.617877441999994, 96),\n",
       " 0.005: (0.6255181859999936, 105),\n",
       " 0.0051: (0.6093446800000066, 116),\n",
       " 0.0052: (0.6804449619999957, 129),\n",
       " 0.0053: (0.7200077599999872, 145),\n",
       " 0.0054: (0.7276160769999933, 166),\n",
       " 0.0055: (0.8340739309999918, 193),\n",
       " 0.0056: (0.8871370279999979, 229),\n",
       " 0.0057: (0.9884441629999969, 281),\n",
       " 0.0058: (1.411443650999999, 362),\n",
       " 0.0059: (1.5103529219999956, 505),\n",
       " 0.006: (2.1661029929999955, 830),\n",
       " 0.0061: (5.356495828000007, 2261)}"
      ]
     },
     "execution_count": 14,
     "metadata": {},
     "output_type": "execute_result"
    }
   ],
   "source": [
    "timings"
   ]
  },
  {
   "cell_type": "markdown",
   "metadata": {},
   "source": [
    "Pri alpha = 0.0062 ponori."
   ]
  },
  {
   "cell_type": "code",
   "execution_count": 15,
   "metadata": {},
   "outputs": [
    {
     "data": {
      "image/png": "[encoded data removed]",
      "text/plain": [
       "<Figure size 432x288 with 1 Axes>"
      ]
     },
     "metadata": {
      "needs_background": "light"
     },
     "output_type": "display_data"
    }
   ],
   "source": [
    "plt.plot(timings.keys(), iterations)\n",
    "plt.xlabel('α')\n",
    "plt.ylabel('Število iteracij')\n",
    "plt.title('Zahtevnost algoritma Katzove središčnosti v odvisnosti od α')\n",
    "plt.savefig('Katz_alpha.png')\n",
    "plt.show()"
   ]
  },
  {
   "cell_type": "code",
   "execution_count": null,
   "metadata": {},
   "outputs": [],
   "source": []
  }
 ],
 "metadata": {
  "kernelspec": {
   "display_name": "Python 3",
   "language": "python",
   "name": "python3"
  },
  "language_info": {
   "codemirror_mode": {
    "name": "ipython",
    "version": 3
   },
   "file_extension": ".py",
   "mimetype": "text/x-python",
   "name": "python",
   "nbconvert_exporter": "python",
   "pygments_lexer": "ipython3",
   "version": "3.7.1rc1"
  }
 },
 "nbformat": 4,
 "nbformat_minor": 2
}
